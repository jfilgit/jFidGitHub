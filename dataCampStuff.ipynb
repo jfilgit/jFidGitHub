{
 "cells": [
  {
   "cell_type": "code",
   "execution_count": 2,
   "id": "65fe09c2",
   "metadata": {},
   "outputs": [
    {
     "name": "stdout",
     "output_type": "stream",
     "text": [
      "Data Camp Stuff\n"
     ]
    }
   ],
   "source": [
    "print(\"Data Camp Stuff\")"
   ]
  },
  {
   "cell_type": "code",
   "execution_count": 1,
   "id": "5718fe9a",
   "metadata": {},
   "outputs": [
    {
     "name": "stdout",
     "output_type": "stream",
     "text": [
      "correcting...\n",
      "7\n",
      "correcting...\n",
      "6\n",
      "correcting...\n",
      "5\n",
      "correcting...\n",
      "4\n",
      "correcting...\n",
      "3\n",
      "correcting...\n",
      "2\n",
      "correcting...\n",
      "1\n",
      "correcting...\n",
      "0\n"
     ]
    }
   ],
   "source": [
    "# Initialize offset\n",
    "offset = 8\n",
    "\n",
    "# Code the while loop\n",
    "while offset != 0 :\n",
    "    print(\"correcting...\")\n",
    "    offset = offset - 1\n",
    "    print(offset)"
   ]
  },
  {
   "cell_type": "code",
   "execution_count": 2,
   "id": "1fcaf24f",
   "metadata": {},
   "outputs": [
    {
     "name": "stdout",
     "output_type": "stream",
     "text": [
      "correcting...\n",
      "-5\n",
      "correcting...\n",
      "-4\n",
      "correcting...\n",
      "-3\n",
      "correcting...\n",
      "-2\n",
      "correcting...\n",
      "-1\n",
      "correcting...\n",
      "0\n"
     ]
    }
   ],
   "source": [
    "# Initialize offset\n",
    "offset = -6\n",
    "\n",
    "# Code the while loop\n",
    "while offset != 0 :\n",
    "    print(\"correcting...\")\n",
    "    if offset > 0 :\n",
    "      offset = offset - 1\n",
    "    else : \n",
    "      offset = offset + 1    \n",
    "    print(offset)"
   ]
  },
  {
   "cell_type": "code",
   "execution_count": 3,
   "id": "48f8800f",
   "metadata": {},
   "outputs": [
    {
     "name": "stdout",
     "output_type": "stream",
     "text": [
      "11.25\n",
      "18.0\n",
      "20.0\n",
      "10.75\n",
      "9.5\n"
     ]
    }
   ],
   "source": [
    "# areas list\n",
    "areas = [11.25, 18.0, 20.0, 10.75, 9.50]\n",
    "\n",
    "# Code the for loop\n",
    "for area in areas :\n",
    "    print(area)"
   ]
  },
  {
   "cell_type": "code",
   "execution_count": 8,
   "id": "a42bd843",
   "metadata": {},
   "outputs": [
    {
     "name": "stdout",
     "output_type": "stream",
     "text": [
      "room 0: 11.25\n",
      "room 1: 18.0\n",
      "room 2: 20.0\n",
      "room 3: 10.75\n",
      "room 4: 9.5\n"
     ]
    }
   ],
   "source": [
    "# areas list\n",
    "areas = [11.25, 18.0, 20.0, 10.75, 9.50]\n",
    "\n",
    "# Change for loop to use enumerate() and update print()\n",
    "for index, a in enumerate(areas) :\n",
    "    print(\"room \" + str(index) + \": \" + str(a))"
   ]
  },
  {
   "cell_type": "code",
   "execution_count": 5,
   "id": "86d96eaf",
   "metadata": {},
   "outputs": [
    {
     "name": "stdout",
     "output_type": "stream",
     "text": [
      "room 1: 11.25\n",
      "room 2: 18.0\n",
      "room 3: 20.0\n",
      "room 4: 10.75\n",
      "room 5: 9.5\n"
     ]
    }
   ],
   "source": [
    "# areas list\n",
    "areas = [11.25, 18.0, 20.0, 10.75, 9.50]\n",
    "\n",
    "# Change for loop to use enumerate() and update print()\n",
    "for index, a in enumerate(areas) :\n",
    "    print(\"room \" + str(index+1) + \": \" + str(a))\n",
    "    "
   ]
  },
  {
   "cell_type": "code",
   "execution_count": 7,
   "id": "c9adcc8d",
   "metadata": {},
   "outputs": [
    {
     "name": "stdout",
     "output_type": "stream",
     "text": [
      "the hallway is 11.25 sqm\n",
      "the kitchen is 18.0 sqm\n",
      "the living room is 20.0 sqm\n",
      "the bedroom is 10.75 sqm\n",
      "the bathroom is 9.5 sqm\n"
     ]
    }
   ],
   "source": [
    "# house list of lists\n",
    "house = [[\"hallway\", 11.25], \n",
    "         [\"kitchen\", 18.0], \n",
    "         [\"living room\", 20.0], \n",
    "         [\"bedroom\", 10.75], \n",
    "         [\"bathroom\", 9.50]]\n",
    "         \n",
    "# Build a for loop from scratch\n",
    "for x in house :\n",
    "    print(\"the \" + x[0] + \" is \" + str(x[1]) + \" sqm\")"
   ]
  },
  {
   "cell_type": "code",
   "execution_count": 9,
   "id": "414b1c68",
   "metadata": {},
   "outputs": [
    {
     "name": "stdout",
     "output_type": "stream",
     "text": [
      "the capital of spain is madrid\n",
      "the capital of france is paris\n",
      "the capital of germany is berlin\n",
      "the capital of norway is oslo\n",
      "the capital of italy is rome\n",
      "the capital of poland is warsaw\n",
      "the capital of austria is vienna\n"
     ]
    }
   ],
   "source": [
    "# Definition of dictionary\n",
    "europe = {'spain':'madrid', 'france':'paris', 'germany':'berlin',\n",
    "          'norway':'oslo', 'italy':'rome', 'poland':'warsaw', 'austria':'vienna' }\n",
    "          \n",
    "# Iterate over europe\n",
    "for x,y in europe.items() :\n",
    "    print(\"the capital of \" + x + \" is \" + str(y))"
   ]
  },
  {
   "cell_type": "code",
   "execution_count": 10,
   "id": "abdd8767",
   "metadata": {},
   "outputs": [
    {
     "ename": "NameError",
     "evalue": "name 'pd' is not defined",
     "output_type": "error",
     "traceback": [
      "\u001b[1;31m---------------------------------------------------------------------------\u001b[0m",
      "\u001b[1;31mNameError\u001b[0m                                 Traceback (most recent call last)",
      "\u001b[1;32m~\\AppData\\Local\\Temp/ipykernel_24328/2328569122.py\u001b[0m in \u001b[0;36m<module>\u001b[1;34m\u001b[0m\n\u001b[1;32m----> 1\u001b[1;33m \u001b[0mbricsFile\u001b[0m\u001b[1;33m=\u001b[0m\u001b[0mpd\u001b[0m\u001b[1;33m.\u001b[0m\u001b[0mread_csv\u001b[0m\u001b[1;33m(\u001b[0m\u001b[1;34m\"brics.csv\"\u001b[0m\u001b[1;33m)\u001b[0m\u001b[1;33m\u001b[0m\u001b[1;33m\u001b[0m\u001b[0m\n\u001b[0m",
      "\u001b[1;31mNameError\u001b[0m: name 'pd' is not defined"
     ]
    }
   ],
   "source": [
    "bricsFile=pd.read_csv(\"brics.csv\")"
   ]
  },
  {
   "cell_type": "code",
   "execution_count": 11,
   "id": "d3c6df3c",
   "metadata": {},
   "outputs": [],
   "source": [
    "import pandas as pd\n"
   ]
  },
  {
   "cell_type": "code",
   "execution_count": 12,
   "id": "6f7a9bea",
   "metadata": {},
   "outputs": [],
   "source": [
    "bricsFile=pd.read_csv(\"brics.csv\")"
   ]
  },
  {
   "cell_type": "code",
   "execution_count": 13,
   "id": "6c35b0e3",
   "metadata": {},
   "outputs": [
    {
     "data": {
      "text/html": [
       "<div>\n",
       "<style scoped>\n",
       "    .dataframe tbody tr th:only-of-type {\n",
       "        vertical-align: middle;\n",
       "    }\n",
       "\n",
       "    .dataframe tbody tr th {\n",
       "        vertical-align: top;\n",
       "    }\n",
       "\n",
       "    .dataframe thead th {\n",
       "        text-align: right;\n",
       "    }\n",
       "</style>\n",
       "<table border=\"1\" class=\"dataframe\">\n",
       "  <thead>\n",
       "    <tr style=\"text-align: right;\">\n",
       "      <th></th>\n",
       "      <th>Unnamed: 0</th>\n",
       "      <th>country</th>\n",
       "      <th>capital</th>\n",
       "      <th>area</th>\n",
       "      <th>population</th>\n",
       "    </tr>\n",
       "  </thead>\n",
       "  <tbody>\n",
       "    <tr>\n",
       "      <th>0</th>\n",
       "      <td>BR</td>\n",
       "      <td>Brazil</td>\n",
       "      <td>Brasilia</td>\n",
       "      <td>8.516</td>\n",
       "      <td>200.40</td>\n",
       "    </tr>\n",
       "    <tr>\n",
       "      <th>1</th>\n",
       "      <td>RU</td>\n",
       "      <td>Russia</td>\n",
       "      <td>Moscow</td>\n",
       "      <td>17.100</td>\n",
       "      <td>143.50</td>\n",
       "    </tr>\n",
       "    <tr>\n",
       "      <th>2</th>\n",
       "      <td>IN</td>\n",
       "      <td>India</td>\n",
       "      <td>New Delhi</td>\n",
       "      <td>3.286</td>\n",
       "      <td>1252.00</td>\n",
       "    </tr>\n",
       "    <tr>\n",
       "      <th>3</th>\n",
       "      <td>CH</td>\n",
       "      <td>China</td>\n",
       "      <td>Beijing</td>\n",
       "      <td>9.597</td>\n",
       "      <td>1357.00</td>\n",
       "    </tr>\n",
       "    <tr>\n",
       "      <th>4</th>\n",
       "      <td>SA</td>\n",
       "      <td>South Africa</td>\n",
       "      <td>Pretoria</td>\n",
       "      <td>1.221</td>\n",
       "      <td>52.98</td>\n",
       "    </tr>\n",
       "  </tbody>\n",
       "</table>\n",
       "</div>"
      ],
      "text/plain": [
       "  Unnamed: 0       country    capital    area  population\n",
       "0         BR        Brazil   Brasilia   8.516      200.40\n",
       "1         RU        Russia     Moscow  17.100      143.50\n",
       "2         IN         India  New Delhi   3.286     1252.00\n",
       "3         CH         China    Beijing   9.597     1357.00\n",
       "4         SA  South Africa   Pretoria   1.221       52.98"
      ]
     },
     "execution_count": 13,
     "metadata": {},
     "output_type": "execute_result"
    }
   ],
   "source": [
    "bricsFile\n"
   ]
  },
  {
   "cell_type": "code",
   "execution_count": 14,
   "id": "ecbb4de9",
   "metadata": {},
   "outputs": [
    {
     "ename": "SyntaxError",
     "evalue": "invalid syntax (Temp/ipykernel_24328/3864056887.py, line 8)",
     "output_type": "error",
     "traceback": [
      "\u001b[1;36m  File \u001b[1;32m\"C:\\Users\\Juli\\AppData\\Local\\Temp/ipykernel_24328/3864056887.py\"\u001b[1;36m, line \u001b[1;32m8\u001b[0m\n\u001b[1;33m    print([0]:[-1]))\u001b[0m\n\u001b[1;37m    ^\u001b[0m\n\u001b[1;31mSyntaxError\u001b[0m\u001b[1;31m:\u001b[0m invalid syntax\n"
     ]
    }
   ],
   "source": [
    "# Import cars data\n",
    "import pandas as pd\n",
    "bricsFile = pd.read_csv('brics.csv', index_col = 0)\n",
    "\n",
    "# Iterate over rows of cars\n",
    "for lab, row in bricsFile.iterrows() :\n",
    "    print(str(lab[0])\n",
    "    print([0]:[-1]))\n",
    "    \n",
    "    \n",
    "    # Import cars data\n",
    "import pandas as pd\n",
    "cars = pd.read_csv('cars.csv', index_col = 0)\n",
    "\n",
    "# Adapt for loop\n",
    "for lab, row in cars.iterrows() :\n",
    "    print([\"country\" + \": \" + str(row[cars_per_cap])])\n",
    "\n",
    "    \n",
    "    \n",
    "    # Import cars data\n",
    "import pandas as pd\n",
    "cars = pd.read_csv('cars.csv', index_col = 0)\n",
    "\n",
    "# Adapt for loop\n",
    "for lab, row in cars.iterrows() :\n",
    "    print(lab + \": \" + str(row['cars_per_cap']))"
   ]
  },
  {
   "cell_type": "code",
   "execution_count": 15,
   "id": "54c621cf",
   "metadata": {},
   "outputs": [
    {
     "data": {
      "text/html": [
       "<div>\n",
       "<style scoped>\n",
       "    .dataframe tbody tr th:only-of-type {\n",
       "        vertical-align: middle;\n",
       "    }\n",
       "\n",
       "    .dataframe tbody tr th {\n",
       "        vertical-align: top;\n",
       "    }\n",
       "\n",
       "    .dataframe thead th {\n",
       "        text-align: right;\n",
       "    }\n",
       "</style>\n",
       "<table border=\"1\" class=\"dataframe\">\n",
       "  <thead>\n",
       "    <tr style=\"text-align: right;\">\n",
       "      <th></th>\n",
       "      <th>Unnamed: 0</th>\n",
       "      <th>country</th>\n",
       "      <th>capital</th>\n",
       "      <th>area</th>\n",
       "      <th>population</th>\n",
       "    </tr>\n",
       "  </thead>\n",
       "  <tbody>\n",
       "    <tr>\n",
       "      <th>0</th>\n",
       "      <td>BR</td>\n",
       "      <td>Brazil</td>\n",
       "      <td>Brasilia</td>\n",
       "      <td>8.516</td>\n",
       "      <td>200.40</td>\n",
       "    </tr>\n",
       "    <tr>\n",
       "      <th>1</th>\n",
       "      <td>RU</td>\n",
       "      <td>Russia</td>\n",
       "      <td>Moscow</td>\n",
       "      <td>17.100</td>\n",
       "      <td>143.50</td>\n",
       "    </tr>\n",
       "    <tr>\n",
       "      <th>2</th>\n",
       "      <td>IN</td>\n",
       "      <td>India</td>\n",
       "      <td>New Delhi</td>\n",
       "      <td>3.286</td>\n",
       "      <td>1252.00</td>\n",
       "    </tr>\n",
       "    <tr>\n",
       "      <th>3</th>\n",
       "      <td>CH</td>\n",
       "      <td>China</td>\n",
       "      <td>Beijing</td>\n",
       "      <td>9.597</td>\n",
       "      <td>1357.00</td>\n",
       "    </tr>\n",
       "    <tr>\n",
       "      <th>4</th>\n",
       "      <td>SA</td>\n",
       "      <td>South Africa</td>\n",
       "      <td>Pretoria</td>\n",
       "      <td>1.221</td>\n",
       "      <td>52.98</td>\n",
       "    </tr>\n",
       "  </tbody>\n",
       "</table>\n",
       "</div>"
      ],
      "text/plain": [
       "  Unnamed: 0       country    capital    area  population\n",
       "0         BR        Brazil   Brasilia   8.516      200.40\n",
       "1         RU        Russia     Moscow  17.100      143.50\n",
       "2         IN         India  New Delhi   3.286     1252.00\n",
       "3         CH         China    Beijing   9.597     1357.00\n",
       "4         SA  South Africa   Pretoria   1.221       52.98"
      ]
     },
     "execution_count": 15,
     "metadata": {},
     "output_type": "execute_result"
    }
   ],
   "source": [
    "bricsFile"
   ]
  },
  {
   "cell_type": "code",
   "execution_count": 16,
   "id": "66f4177d",
   "metadata": {},
   "outputs": [],
   "source": [
    "bricsFile = pd.read_csv('brics.csv', index_col = 0)\n"
   ]
  },
  {
   "cell_type": "code",
   "execution_count": 17,
   "id": "ad8ce337",
   "metadata": {},
   "outputs": [
    {
     "data": {
      "text/html": [
       "<div>\n",
       "<style scoped>\n",
       "    .dataframe tbody tr th:only-of-type {\n",
       "        vertical-align: middle;\n",
       "    }\n",
       "\n",
       "    .dataframe tbody tr th {\n",
       "        vertical-align: top;\n",
       "    }\n",
       "\n",
       "    .dataframe thead th {\n",
       "        text-align: right;\n",
       "    }\n",
       "</style>\n",
       "<table border=\"1\" class=\"dataframe\">\n",
       "  <thead>\n",
       "    <tr style=\"text-align: right;\">\n",
       "      <th></th>\n",
       "      <th>country</th>\n",
       "      <th>capital</th>\n",
       "      <th>area</th>\n",
       "      <th>population</th>\n",
       "    </tr>\n",
       "  </thead>\n",
       "  <tbody>\n",
       "    <tr>\n",
       "      <th>BR</th>\n",
       "      <td>Brazil</td>\n",
       "      <td>Brasilia</td>\n",
       "      <td>8.516</td>\n",
       "      <td>200.40</td>\n",
       "    </tr>\n",
       "    <tr>\n",
       "      <th>RU</th>\n",
       "      <td>Russia</td>\n",
       "      <td>Moscow</td>\n",
       "      <td>17.100</td>\n",
       "      <td>143.50</td>\n",
       "    </tr>\n",
       "    <tr>\n",
       "      <th>IN</th>\n",
       "      <td>India</td>\n",
       "      <td>New Delhi</td>\n",
       "      <td>3.286</td>\n",
       "      <td>1252.00</td>\n",
       "    </tr>\n",
       "    <tr>\n",
       "      <th>CH</th>\n",
       "      <td>China</td>\n",
       "      <td>Beijing</td>\n",
       "      <td>9.597</td>\n",
       "      <td>1357.00</td>\n",
       "    </tr>\n",
       "    <tr>\n",
       "      <th>SA</th>\n",
       "      <td>South Africa</td>\n",
       "      <td>Pretoria</td>\n",
       "      <td>1.221</td>\n",
       "      <td>52.98</td>\n",
       "    </tr>\n",
       "  </tbody>\n",
       "</table>\n",
       "</div>"
      ],
      "text/plain": [
       "         country    capital    area  population\n",
       "BR        Brazil   Brasilia   8.516      200.40\n",
       "RU        Russia     Moscow  17.100      143.50\n",
       "IN         India  New Delhi   3.286     1252.00\n",
       "CH         China    Beijing   9.597     1357.00\n",
       "SA  South Africa   Pretoria   1.221       52.98"
      ]
     },
     "execution_count": 17,
     "metadata": {},
     "output_type": "execute_result"
    }
   ],
   "source": [
    "bricsFile"
   ]
  },
  {
   "cell_type": "code",
   "execution_count": 18,
   "id": "20ab7d49",
   "metadata": {},
   "outputs": [],
   "source": [
    "bricsFile = pd.read_csv('brics.csv', index_col = 1)"
   ]
  },
  {
   "cell_type": "code",
   "execution_count": null,
   "id": "a6dc12f1",
   "metadata": {},
   "outputs": [],
   "source": []
  },
  {
   "cell_type": "code",
   "execution_count": 19,
   "id": "ecd38b89",
   "metadata": {},
   "outputs": [],
   "source": [
    "bricsFile = pd.read_csv('brics.csv', index_col = 1)"
   ]
  },
  {
   "cell_type": "code",
   "execution_count": 20,
   "id": "72393cce",
   "metadata": {},
   "outputs": [
    {
     "data": {
      "text/html": [
       "<div>\n",
       "<style scoped>\n",
       "    .dataframe tbody tr th:only-of-type {\n",
       "        vertical-align: middle;\n",
       "    }\n",
       "\n",
       "    .dataframe tbody tr th {\n",
       "        vertical-align: top;\n",
       "    }\n",
       "\n",
       "    .dataframe thead th {\n",
       "        text-align: right;\n",
       "    }\n",
       "</style>\n",
       "<table border=\"1\" class=\"dataframe\">\n",
       "  <thead>\n",
       "    <tr style=\"text-align: right;\">\n",
       "      <th></th>\n",
       "      <th>Unnamed: 0</th>\n",
       "      <th>capital</th>\n",
       "      <th>area</th>\n",
       "      <th>population</th>\n",
       "    </tr>\n",
       "    <tr>\n",
       "      <th>country</th>\n",
       "      <th></th>\n",
       "      <th></th>\n",
       "      <th></th>\n",
       "      <th></th>\n",
       "    </tr>\n",
       "  </thead>\n",
       "  <tbody>\n",
       "    <tr>\n",
       "      <th>Brazil</th>\n",
       "      <td>BR</td>\n",
       "      <td>Brasilia</td>\n",
       "      <td>8.516</td>\n",
       "      <td>200.40</td>\n",
       "    </tr>\n",
       "    <tr>\n",
       "      <th>Russia</th>\n",
       "      <td>RU</td>\n",
       "      <td>Moscow</td>\n",
       "      <td>17.100</td>\n",
       "      <td>143.50</td>\n",
       "    </tr>\n",
       "    <tr>\n",
       "      <th>India</th>\n",
       "      <td>IN</td>\n",
       "      <td>New Delhi</td>\n",
       "      <td>3.286</td>\n",
       "      <td>1252.00</td>\n",
       "    </tr>\n",
       "    <tr>\n",
       "      <th>China</th>\n",
       "      <td>CH</td>\n",
       "      <td>Beijing</td>\n",
       "      <td>9.597</td>\n",
       "      <td>1357.00</td>\n",
       "    </tr>\n",
       "    <tr>\n",
       "      <th>South Africa</th>\n",
       "      <td>SA</td>\n",
       "      <td>Pretoria</td>\n",
       "      <td>1.221</td>\n",
       "      <td>52.98</td>\n",
       "    </tr>\n",
       "  </tbody>\n",
       "</table>\n",
       "</div>"
      ],
      "text/plain": [
       "             Unnamed: 0    capital    area  population\n",
       "country                                               \n",
       "Brazil               BR   Brasilia   8.516      200.40\n",
       "Russia               RU     Moscow  17.100      143.50\n",
       "India                IN  New Delhi   3.286     1252.00\n",
       "China                CH    Beijing   9.597     1357.00\n",
       "South Africa         SA   Pretoria   1.221       52.98"
      ]
     },
     "execution_count": 20,
     "metadata": {},
     "output_type": "execute_result"
    }
   ],
   "source": [
    "bricsFile"
   ]
  },
  {
   "cell_type": "code",
   "execution_count": 21,
   "id": "2d98a3b0",
   "metadata": {},
   "outputs": [
    {
     "ename": "SyntaxError",
     "evalue": "invalid syntax (Temp/ipykernel_24328/2274011627.py, line 3)",
     "output_type": "error",
     "traceback": [
      "\u001b[1;36m  File \u001b[1;32m\"C:\\Users\\Juli\\AppData\\Local\\Temp/ipykernel_24328/2274011627.py\"\u001b[1;36m, line \u001b[1;32m3\u001b[0m\n\u001b[1;33m    print([0]:[-1]))\u001b[0m\n\u001b[1;37m    ^\u001b[0m\n\u001b[1;31mSyntaxError\u001b[0m\u001b[1;31m:\u001b[0m invalid syntax\n"
     ]
    }
   ],
   "source": [
    "for lab, row in bricsFile.iterrows() :\n",
    "    print(str(lab[0])\n",
    "    print([0]:[-1]))"
   ]
  },
  {
   "cell_type": "code",
   "execution_count": 22,
   "id": "460857d6",
   "metadata": {},
   "outputs": [
    {
     "name": "stdout",
     "output_type": "stream",
     "text": [
      "Brazil: 200.4\n",
      "Russia: 143.5\n",
      "India: 1252.0\n",
      "China: 1357.0\n",
      "South Africa: 52.98\n"
     ]
    }
   ],
   "source": [
    "for lab, row in bricsFile.iterrows() :\n",
    "    print(lab + \": \" + str(row['population']))"
   ]
  },
  {
   "cell_type": "code",
   "execution_count": 23,
   "id": "94bf8b35",
   "metadata": {},
   "outputs": [],
   "source": [
    "bricsFile = pd.read_csv('brics.csv', index_col = 0)"
   ]
  },
  {
   "cell_type": "code",
   "execution_count": 24,
   "id": "193b319e",
   "metadata": {},
   "outputs": [
    {
     "data": {
      "text/html": [
       "<div>\n",
       "<style scoped>\n",
       "    .dataframe tbody tr th:only-of-type {\n",
       "        vertical-align: middle;\n",
       "    }\n",
       "\n",
       "    .dataframe tbody tr th {\n",
       "        vertical-align: top;\n",
       "    }\n",
       "\n",
       "    .dataframe thead th {\n",
       "        text-align: right;\n",
       "    }\n",
       "</style>\n",
       "<table border=\"1\" class=\"dataframe\">\n",
       "  <thead>\n",
       "    <tr style=\"text-align: right;\">\n",
       "      <th></th>\n",
       "      <th>country</th>\n",
       "      <th>capital</th>\n",
       "      <th>area</th>\n",
       "      <th>population</th>\n",
       "    </tr>\n",
       "  </thead>\n",
       "  <tbody>\n",
       "    <tr>\n",
       "      <th>BR</th>\n",
       "      <td>Brazil</td>\n",
       "      <td>Brasilia</td>\n",
       "      <td>8.516</td>\n",
       "      <td>200.40</td>\n",
       "    </tr>\n",
       "    <tr>\n",
       "      <th>RU</th>\n",
       "      <td>Russia</td>\n",
       "      <td>Moscow</td>\n",
       "      <td>17.100</td>\n",
       "      <td>143.50</td>\n",
       "    </tr>\n",
       "    <tr>\n",
       "      <th>IN</th>\n",
       "      <td>India</td>\n",
       "      <td>New Delhi</td>\n",
       "      <td>3.286</td>\n",
       "      <td>1252.00</td>\n",
       "    </tr>\n",
       "    <tr>\n",
       "      <th>CH</th>\n",
       "      <td>China</td>\n",
       "      <td>Beijing</td>\n",
       "      <td>9.597</td>\n",
       "      <td>1357.00</td>\n",
       "    </tr>\n",
       "    <tr>\n",
       "      <th>SA</th>\n",
       "      <td>South Africa</td>\n",
       "      <td>Pretoria</td>\n",
       "      <td>1.221</td>\n",
       "      <td>52.98</td>\n",
       "    </tr>\n",
       "  </tbody>\n",
       "</table>\n",
       "</div>"
      ],
      "text/plain": [
       "         country    capital    area  population\n",
       "BR        Brazil   Brasilia   8.516      200.40\n",
       "RU        Russia     Moscow  17.100      143.50\n",
       "IN         India  New Delhi   3.286     1252.00\n",
       "CH         China    Beijing   9.597     1357.00\n",
       "SA  South Africa   Pretoria   1.221       52.98"
      ]
     },
     "execution_count": 24,
     "metadata": {},
     "output_type": "execute_result"
    }
   ],
   "source": [
    "bricsFile"
   ]
  },
  {
   "cell_type": "code",
   "execution_count": 25,
   "id": "fbd36fb2",
   "metadata": {},
   "outputs": [
    {
     "name": "stdout",
     "output_type": "stream",
     "text": [
      "BR: 200.4\n",
      "RU: 143.5\n",
      "IN: 1252.0\n",
      "CH: 1357.0\n",
      "SA: 52.98\n"
     ]
    }
   ],
   "source": [
    "for lab, row in bricsFile.iterrows() :\n",
    "    print(lab + \": \" + str(row['population']))"
   ]
  },
  {
   "cell_type": "code",
   "execution_count": 28,
   "id": "c6c02e75",
   "metadata": {},
   "outputs": [
    {
     "ename": "IndexError",
     "evalue": "string index out of range",
     "output_type": "error",
     "traceback": [
      "\u001b[1;31m---------------------------------------------------------------------------\u001b[0m",
      "\u001b[1;31mIndexError\u001b[0m                                Traceback (most recent call last)",
      "\u001b[1;32m~\\AppData\\Local\\Temp/ipykernel_24328/882321607.py\u001b[0m in \u001b[0;36m<module>\u001b[1;34m\u001b[0m\n\u001b[1;32m----> 1\u001b[1;33m \u001b[0mprint\u001b[0m\u001b[1;33m(\u001b[0m\u001b[0mlab\u001b[0m\u001b[1;33m[\u001b[0m\u001b[1;36m2\u001b[0m\u001b[1;33m]\u001b[0m \u001b[1;33m+\u001b[0m \u001b[1;34m\": \"\u001b[0m \u001b[1;33m+\u001b[0m \u001b[0mstr\u001b[0m\u001b[1;33m(\u001b[0m\u001b[0mrow\u001b[0m\u001b[1;33m[\u001b[0m\u001b[1;34m'population'\u001b[0m\u001b[1;33m]\u001b[0m\u001b[1;33m)\u001b[0m\u001b[1;33m)\u001b[0m\u001b[1;33m\u001b[0m\u001b[1;33m\u001b[0m\u001b[0m\n\u001b[0m",
      "\u001b[1;31mIndexError\u001b[0m: string index out of range"
     ]
    }
   ],
   "source": [
    " print(lab + \": \" + str(row['population']))"
   ]
  },
  {
   "cell_type": "code",
   "execution_count": 29,
   "id": "6e7af443",
   "metadata": {},
   "outputs": [
    {
     "name": "stdout",
     "output_type": "stream",
     "text": [
      "SA: country       South Africa\n",
      "capital           Pretoria\n",
      "area                 1.221\n",
      "population           52.98\n",
      "Name: SA, dtype: object\n"
     ]
    }
   ],
   "source": [
    " print(lab + \": \" + str(row))"
   ]
  },
  {
   "cell_type": "code",
   "execution_count": 31,
   "id": "b5645e9a",
   "metadata": {},
   "outputs": [
    {
     "name": "stdout",
     "output_type": "stream",
     "text": [
      "SA: capital       Pretoria\n",
      "area             1.221\n",
      "population       52.98\n",
      "Name: SA, dtype: object\n"
     ]
    }
   ],
   "source": [
    " print(lab + \": \" + str(row[1:6]))"
   ]
  },
  {
   "cell_type": "code",
   "execution_count": 32,
   "id": "ed5ae843",
   "metadata": {},
   "outputs": [
    {
     "name": "stdout",
     "output_type": "stream",
     "text": [
      "SA: capital       Pretoria\n",
      "area             1.221\n",
      "population       52.98\n",
      "Name: SA, dtype: object\n"
     ]
    }
   ],
   "source": [
    "print(lab + \": \" + str(row[1:6]))"
   ]
  },
  {
   "cell_type": "code",
   "execution_count": 33,
   "id": "4a932635",
   "metadata": {},
   "outputs": [
    {
     "name": "stdout",
     "output_type": "stream",
     "text": [
      "BR: capital       Brasilia\n",
      "area             8.516\n",
      "population       200.4\n",
      "Name: BR, dtype: object\n",
      "RU: capital       Moscow\n",
      "area            17.1\n",
      "population     143.5\n",
      "Name: RU, dtype: object\n",
      "IN: capital       New Delhi\n",
      "area              3.286\n",
      "population       1252.0\n",
      "Name: IN, dtype: object\n",
      "CH: capital       Beijing\n",
      "area            9.597\n",
      "population     1357.0\n",
      "Name: CH, dtype: object\n",
      "SA: capital       Pretoria\n",
      "area             1.221\n",
      "population       52.98\n",
      "Name: SA, dtype: object\n"
     ]
    }
   ],
   "source": [
    "for lab, row in bricsFile.iterrows() :\n",
    "    print(lab + \": \" + str(row[1:5]))"
   ]
  },
  {
   "cell_type": "code",
   "execution_count": 35,
   "id": "702c0cda",
   "metadata": {},
   "outputs": [
    {
     "name": "stdout",
     "output_type": "stream",
     "text": [
      "BR: 200.4\n",
      "RU: 143.5\n",
      "IN: 1252.0\n",
      "CH: 1357.0\n",
      "SA: 52.98\n"
     ]
    }
   ],
   "source": [
    "for lab, row in bricsFile.iterrows() :\n",
    "    print(lab + \": \" + str(row[3]))"
   ]
  },
  {
   "cell_type": "code",
   "execution_count": 42,
   "id": "c74c6dfe",
   "metadata": {},
   "outputs": [
    {
     "name": "stdout",
     "output_type": "stream",
     "text": [
      "BR: country         Brazil\n",
      "capital       Brasilia\n",
      "area             8.516\n",
      "population       200.4\n",
      "Name: BR, dtype: object\n",
      "RU: country       Russia\n",
      "capital       Moscow\n",
      "area            17.1\n",
      "population     143.5\n",
      "Name: RU, dtype: object\n",
      "IN: country           India\n",
      "capital       New Delhi\n",
      "area              3.286\n",
      "population       1252.0\n",
      "Name: IN, dtype: object\n",
      "CH: country         China\n",
      "capital       Beijing\n",
      "area            9.597\n",
      "population     1357.0\n",
      "Name: CH, dtype: object\n",
      "SA: country       South Africa\n",
      "capital           Pretoria\n",
      "area                 1.221\n",
      "population           52.98\n",
      "Name: SA, dtype: object\n"
     ]
    }
   ],
   "source": [
    "for lab, row in bricsFile.iterrows() :\n",
    "    print(lab + \": \" + str(row))"
   ]
  },
  {
   "cell_type": "code",
   "execution_count": 44,
   "id": "e98ee1d7",
   "metadata": {},
   "outputs": [
    {
     "name": "stdout",
     "output_type": "stream",
     "text": [
      "         country    capital    area  population       COUNTRY\n",
      "BR        Brazil   Brasilia   8.516      200.40        BRAZIL\n",
      "RU        Russia     Moscow  17.100      143.50        RUSSIA\n",
      "IN         India  New Delhi   3.286     1252.00         INDIA\n",
      "CH         China    Beijing   9.597     1357.00         CHINA\n",
      "SA  South Africa   Pretoria   1.221       52.98  SOUTH AFRICA\n"
     ]
    }
   ],
   "source": [
    "# Code for loop that adds COUNTRY column\n",
    "for lab, row in bricsFile.iterrows() :\n",
    "    bricsFile.loc[lab,\"COUNTRY\"] = row[\"country\"].upper()\n",
    "\n",
    "\n",
    "# Print bricsFile\n",
    "print(bricsFile)"
   ]
  },
  {
   "cell_type": "code",
   "execution_count": 48,
   "id": "8d6cee5e",
   "metadata": {},
   "outputs": [],
   "source": [
    "   bricsFile.loc[lab, \"COUNTRY2\"] = row[\"country\"].upper()\n"
   ]
  },
  {
   "cell_type": "code",
   "execution_count": 46,
   "id": "4790924d",
   "metadata": {},
   "outputs": [
    {
     "name": "stdout",
     "output_type": "stream",
     "text": [
      "         country    capital    area  population       COUNTRY      COUNTRY2\n",
      "BR        Brazil   Brasilia   8.516      200.40        BRAZIL           NaN\n",
      "RU        Russia     Moscow  17.100      143.50        RUSSIA           NaN\n",
      "IN         India  New Delhi   3.286     1252.00         INDIA           NaN\n",
      "CH         China    Beijing   9.597     1357.00         CHINA           NaN\n",
      "SA  South Africa   Pretoria   1.221       52.98  SOUTH AFRICA  SOUTH AFRICA\n"
     ]
    }
   ],
   "source": [
    "print(bricsFile)"
   ]
  },
  {
   "cell_type": "code",
   "execution_count": 49,
   "id": "5dd9914c",
   "metadata": {},
   "outputs": [
    {
     "ename": "SyntaxError",
     "evalue": "invalid syntax (Temp/ipykernel_24328/2684766941.py, line 1)",
     "output_type": "error",
     "traceback": [
      "\u001b[1;36m  File \u001b[1;32m\"C:\\Users\\Juli\\AppData\\Local\\Temp/ipykernel_24328/2684766941.py\"\u001b[1;36m, line \u001b[1;32m1\u001b[0m\n\u001b[1;33m    bricsFile.loc[:[lab, \"A\", \"B\", \"C\", \"D\",\"COUNTRY2\"] = row[\"country\"].upper()\u001b[0m\n\u001b[1;37m                                                        ^\u001b[0m\n\u001b[1;31mSyntaxError\u001b[0m\u001b[1;31m:\u001b[0m invalid syntax\n"
     ]
    }
   ],
   "source": [
    "   bricsFile.loc[:[lab, \"A\", \"B\", \"C\", \"D\",\"COUNTRY2\"] = row[\"country\"].upper()\n"
   ]
  },
  {
   "cell_type": "code",
   "execution_count": 52,
   "id": "bb94de64",
   "metadata": {},
   "outputs": [
    {
     "ename": "KeyError",
     "evalue": "\"None of [Index(['capital'], dtype='object')] are in the [index]\"",
     "output_type": "error",
     "traceback": [
      "\u001b[1;31m---------------------------------------------------------------------------\u001b[0m",
      "\u001b[1;31mKeyError\u001b[0m                                  Traceback (most recent call last)",
      "\u001b[1;32m~\\AppData\\Local\\Temp/ipykernel_24328/1331649388.py\u001b[0m in \u001b[0;36m<module>\u001b[1;34m\u001b[0m\n\u001b[1;32m----> 1\u001b[1;33m \u001b[0mprint\u001b[0m\u001b[1;33m(\u001b[0m\u001b[0mbricsFile\u001b[0m\u001b[1;33m.\u001b[0m\u001b[0mloc\u001b[0m\u001b[1;33m[\u001b[0m\u001b[1;33m[\u001b[0m\u001b[1;34m\"capital\"\u001b[0m\u001b[1;33m]\u001b[0m\u001b[1;33m]\u001b[0m\u001b[1;33m)\u001b[0m\u001b[1;33m\u001b[0m\u001b[1;33m\u001b[0m\u001b[0m\n\u001b[0m",
      "\u001b[1;32m~\\anaconda3\\lib\\site-packages\\pandas\\core\\indexing.py\u001b[0m in \u001b[0;36m__getitem__\u001b[1;34m(self, key)\u001b[0m\n\u001b[0;32m    929\u001b[0m \u001b[1;33m\u001b[0m\u001b[0m\n\u001b[0;32m    930\u001b[0m             \u001b[0mmaybe_callable\u001b[0m \u001b[1;33m=\u001b[0m \u001b[0mcom\u001b[0m\u001b[1;33m.\u001b[0m\u001b[0mapply_if_callable\u001b[0m\u001b[1;33m(\u001b[0m\u001b[0mkey\u001b[0m\u001b[1;33m,\u001b[0m \u001b[0mself\u001b[0m\u001b[1;33m.\u001b[0m\u001b[0mobj\u001b[0m\u001b[1;33m)\u001b[0m\u001b[1;33m\u001b[0m\u001b[1;33m\u001b[0m\u001b[0m\n\u001b[1;32m--> 931\u001b[1;33m             \u001b[1;32mreturn\u001b[0m \u001b[0mself\u001b[0m\u001b[1;33m.\u001b[0m\u001b[0m_getitem_axis\u001b[0m\u001b[1;33m(\u001b[0m\u001b[0mmaybe_callable\u001b[0m\u001b[1;33m,\u001b[0m \u001b[0maxis\u001b[0m\u001b[1;33m=\u001b[0m\u001b[0maxis\u001b[0m\u001b[1;33m)\u001b[0m\u001b[1;33m\u001b[0m\u001b[1;33m\u001b[0m\u001b[0m\n\u001b[0m\u001b[0;32m    932\u001b[0m \u001b[1;33m\u001b[0m\u001b[0m\n\u001b[0;32m    933\u001b[0m     \u001b[1;32mdef\u001b[0m \u001b[0m_is_scalar_access\u001b[0m\u001b[1;33m(\u001b[0m\u001b[0mself\u001b[0m\u001b[1;33m,\u001b[0m \u001b[0mkey\u001b[0m\u001b[1;33m:\u001b[0m \u001b[0mtuple\u001b[0m\u001b[1;33m)\u001b[0m\u001b[1;33m:\u001b[0m\u001b[1;33m\u001b[0m\u001b[1;33m\u001b[0m\u001b[0m\n",
      "\u001b[1;32m~\\anaconda3\\lib\\site-packages\\pandas\\core\\indexing.py\u001b[0m in \u001b[0;36m_getitem_axis\u001b[1;34m(self, key, axis)\u001b[0m\n\u001b[0;32m   1151\u001b[0m                     \u001b[1;32mraise\u001b[0m \u001b[0mValueError\u001b[0m\u001b[1;33m(\u001b[0m\u001b[1;34m\"Cannot index with multidimensional key\"\u001b[0m\u001b[1;33m)\u001b[0m\u001b[1;33m\u001b[0m\u001b[1;33m\u001b[0m\u001b[0m\n\u001b[0;32m   1152\u001b[0m \u001b[1;33m\u001b[0m\u001b[0m\n\u001b[1;32m-> 1153\u001b[1;33m                 \u001b[1;32mreturn\u001b[0m \u001b[0mself\u001b[0m\u001b[1;33m.\u001b[0m\u001b[0m_getitem_iterable\u001b[0m\u001b[1;33m(\u001b[0m\u001b[0mkey\u001b[0m\u001b[1;33m,\u001b[0m \u001b[0maxis\u001b[0m\u001b[1;33m=\u001b[0m\u001b[0maxis\u001b[0m\u001b[1;33m)\u001b[0m\u001b[1;33m\u001b[0m\u001b[1;33m\u001b[0m\u001b[0m\n\u001b[0m\u001b[0;32m   1154\u001b[0m \u001b[1;33m\u001b[0m\u001b[0m\n\u001b[0;32m   1155\u001b[0m             \u001b[1;31m# nested tuple slicing\u001b[0m\u001b[1;33m\u001b[0m\u001b[1;33m\u001b[0m\u001b[0m\n",
      "\u001b[1;32m~\\anaconda3\\lib\\site-packages\\pandas\\core\\indexing.py\u001b[0m in \u001b[0;36m_getitem_iterable\u001b[1;34m(self, key, axis)\u001b[0m\n\u001b[0;32m   1091\u001b[0m \u001b[1;33m\u001b[0m\u001b[0m\n\u001b[0;32m   1092\u001b[0m         \u001b[1;31m# A collection of keys\u001b[0m\u001b[1;33m\u001b[0m\u001b[1;33m\u001b[0m\u001b[0m\n\u001b[1;32m-> 1093\u001b[1;33m         \u001b[0mkeyarr\u001b[0m\u001b[1;33m,\u001b[0m \u001b[0mindexer\u001b[0m \u001b[1;33m=\u001b[0m \u001b[0mself\u001b[0m\u001b[1;33m.\u001b[0m\u001b[0m_get_listlike_indexer\u001b[0m\u001b[1;33m(\u001b[0m\u001b[0mkey\u001b[0m\u001b[1;33m,\u001b[0m \u001b[0maxis\u001b[0m\u001b[1;33m)\u001b[0m\u001b[1;33m\u001b[0m\u001b[1;33m\u001b[0m\u001b[0m\n\u001b[0m\u001b[0;32m   1094\u001b[0m         return self.obj._reindex_with_indexers(\n\u001b[0;32m   1095\u001b[0m             \u001b[1;33m{\u001b[0m\u001b[0maxis\u001b[0m\u001b[1;33m:\u001b[0m \u001b[1;33m[\u001b[0m\u001b[0mkeyarr\u001b[0m\u001b[1;33m,\u001b[0m \u001b[0mindexer\u001b[0m\u001b[1;33m]\u001b[0m\u001b[1;33m}\u001b[0m\u001b[1;33m,\u001b[0m \u001b[0mcopy\u001b[0m\u001b[1;33m=\u001b[0m\u001b[1;32mTrue\u001b[0m\u001b[1;33m,\u001b[0m \u001b[0mallow_dups\u001b[0m\u001b[1;33m=\u001b[0m\u001b[1;32mTrue\u001b[0m\u001b[1;33m\u001b[0m\u001b[1;33m\u001b[0m\u001b[0m\n",
      "\u001b[1;32m~\\anaconda3\\lib\\site-packages\\pandas\\core\\indexing.py\u001b[0m in \u001b[0;36m_get_listlike_indexer\u001b[1;34m(self, key, axis)\u001b[0m\n\u001b[0;32m   1312\u001b[0m             \u001b[0mkeyarr\u001b[0m\u001b[1;33m,\u001b[0m \u001b[0mindexer\u001b[0m\u001b[1;33m,\u001b[0m \u001b[0mnew_indexer\u001b[0m \u001b[1;33m=\u001b[0m \u001b[0max\u001b[0m\u001b[1;33m.\u001b[0m\u001b[0m_reindex_non_unique\u001b[0m\u001b[1;33m(\u001b[0m\u001b[0mkeyarr\u001b[0m\u001b[1;33m)\u001b[0m\u001b[1;33m\u001b[0m\u001b[1;33m\u001b[0m\u001b[0m\n\u001b[0;32m   1313\u001b[0m \u001b[1;33m\u001b[0m\u001b[0m\n\u001b[1;32m-> 1314\u001b[1;33m         \u001b[0mself\u001b[0m\u001b[1;33m.\u001b[0m\u001b[0m_validate_read_indexer\u001b[0m\u001b[1;33m(\u001b[0m\u001b[0mkeyarr\u001b[0m\u001b[1;33m,\u001b[0m \u001b[0mindexer\u001b[0m\u001b[1;33m,\u001b[0m \u001b[0maxis\u001b[0m\u001b[1;33m)\u001b[0m\u001b[1;33m\u001b[0m\u001b[1;33m\u001b[0m\u001b[0m\n\u001b[0m\u001b[0;32m   1315\u001b[0m \u001b[1;33m\u001b[0m\u001b[0m\n\u001b[0;32m   1316\u001b[0m         if needs_i8_conversion(ax.dtype) or isinstance(\n",
      "\u001b[1;32m~\\anaconda3\\lib\\site-packages\\pandas\\core\\indexing.py\u001b[0m in \u001b[0;36m_validate_read_indexer\u001b[1;34m(self, key, indexer, axis)\u001b[0m\n\u001b[0;32m   1372\u001b[0m                 \u001b[1;32mif\u001b[0m \u001b[0muse_interval_msg\u001b[0m\u001b[1;33m:\u001b[0m\u001b[1;33m\u001b[0m\u001b[1;33m\u001b[0m\u001b[0m\n\u001b[0;32m   1373\u001b[0m                     \u001b[0mkey\u001b[0m \u001b[1;33m=\u001b[0m \u001b[0mlist\u001b[0m\u001b[1;33m(\u001b[0m\u001b[0mkey\u001b[0m\u001b[1;33m)\u001b[0m\u001b[1;33m\u001b[0m\u001b[1;33m\u001b[0m\u001b[0m\n\u001b[1;32m-> 1374\u001b[1;33m                 \u001b[1;32mraise\u001b[0m \u001b[0mKeyError\u001b[0m\u001b[1;33m(\u001b[0m\u001b[1;34mf\"None of [{key}] are in the [{axis_name}]\"\u001b[0m\u001b[1;33m)\u001b[0m\u001b[1;33m\u001b[0m\u001b[1;33m\u001b[0m\u001b[0m\n\u001b[0m\u001b[0;32m   1375\u001b[0m \u001b[1;33m\u001b[0m\u001b[0m\n\u001b[0;32m   1376\u001b[0m             \u001b[0mnot_found\u001b[0m \u001b[1;33m=\u001b[0m \u001b[0mlist\u001b[0m\u001b[1;33m(\u001b[0m\u001b[0mensure_index\u001b[0m\u001b[1;33m(\u001b[0m\u001b[0mkey\u001b[0m\u001b[1;33m)\u001b[0m\u001b[1;33m[\u001b[0m\u001b[0mmissing_mask\u001b[0m\u001b[1;33m.\u001b[0m\u001b[0mnonzero\u001b[0m\u001b[1;33m(\u001b[0m\u001b[1;33m)\u001b[0m\u001b[1;33m[\u001b[0m\u001b[1;36m0\u001b[0m\u001b[1;33m]\u001b[0m\u001b[1;33m]\u001b[0m\u001b[1;33m.\u001b[0m\u001b[0munique\u001b[0m\u001b[1;33m(\u001b[0m\u001b[1;33m)\u001b[0m\u001b[1;33m)\u001b[0m\u001b[1;33m\u001b[0m\u001b[1;33m\u001b[0m\u001b[0m\n",
      "\u001b[1;31mKeyError\u001b[0m: \"None of [Index(['capital'], dtype='object')] are in the [index]\""
     ]
    }
   ],
   "source": [
    "print(bricsFile.loc[[\"capital\"]])"
   ]
  },
  {
   "cell_type": "code",
   "execution_count": null,
   "id": "72d08236",
   "metadata": {},
   "outputs": [],
   "source": [
    "mylist=[\"RU\", \"IN\", \"CH\", \"AB\"]"
   ]
  },
  {
   "cell_type": "code",
   "execution_count": null,
   "id": "b54657c8",
   "metadata": {},
   "outputs": [],
   "source": []
  },
  {
   "cell_type": "code",
   "execution_count": 53,
   "id": "86c684bc",
   "metadata": {},
   "outputs": [
    {
     "ename": "NameError",
     "evalue": "name 'mylist' is not defined",
     "output_type": "error",
     "traceback": [
      "\u001b[1;31m---------------------------------------------------------------------------\u001b[0m",
      "\u001b[1;31mNameError\u001b[0m                                 Traceback (most recent call last)",
      "\u001b[1;32m~\\AppData\\Local\\Temp/ipykernel_24328/7352315.py\u001b[0m in \u001b[0;36m<module>\u001b[1;34m\u001b[0m\n\u001b[1;32m----> 1\u001b[1;33m \u001b[0mmylist\u001b[0m\u001b[1;33m\u001b[0m\u001b[1;33m\u001b[0m\u001b[0m\n\u001b[0m",
      "\u001b[1;31mNameError\u001b[0m: name 'mylist' is not defined"
     ]
    }
   ],
   "source": [
    "mylist"
   ]
  },
  {
   "cell_type": "code",
   "execution_count": 54,
   "id": "865895b9",
   "metadata": {},
   "outputs": [],
   "source": [
    "mylist=[\"RU\", \"IN\", \"CH\", \"AB\"]"
   ]
  },
  {
   "cell_type": "code",
   "execution_count": 55,
   "id": "9cfebdaa",
   "metadata": {},
   "outputs": [
    {
     "name": "stdout",
     "output_type": "stream",
     "text": [
      "['RU', 'IN', 'CH', 'AB']\n"
     ]
    }
   ],
   "source": [
    "print(mylist)"
   ]
  },
  {
   "cell_type": "code",
   "execution_count": 56,
   "id": "dee9988f",
   "metadata": {},
   "outputs": [
    {
     "data": {
      "text/plain": [
       "['RU', 'IN', 'CH', 'AB']"
      ]
     },
     "execution_count": 56,
     "metadata": {},
     "output_type": "execute_result"
    }
   ],
   "source": [
    "mylist"
   ]
  },
  {
   "cell_type": "code",
   "execution_count": 57,
   "id": "0e1b78d2",
   "metadata": {},
   "outputs": [
    {
     "ename": "AttributeError",
     "evalue": "'list' object has no attribute 'loc'",
     "output_type": "error",
     "traceback": [
      "\u001b[1;31m---------------------------------------------------------------------------\u001b[0m",
      "\u001b[1;31mAttributeError\u001b[0m                            Traceback (most recent call last)",
      "\u001b[1;32m~\\AppData\\Local\\Temp/ipykernel_24328/910041078.py\u001b[0m in \u001b[0;36m<module>\u001b[1;34m\u001b[0m\n\u001b[1;32m----> 1\u001b[1;33m \u001b[0mprint\u001b[0m\u001b[1;33m(\u001b[0m\u001b[0mmylist\u001b[0m\u001b[1;33m.\u001b[0m\u001b[0mloc\u001b[0m\u001b[1;33m[\u001b[0m\u001b[1;36m2\u001b[0m\u001b[1;33m]\u001b[0m\u001b[1;33m)\u001b[0m\u001b[1;33m\u001b[0m\u001b[1;33m\u001b[0m\u001b[0m\n\u001b[0m",
      "\u001b[1;31mAttributeError\u001b[0m: 'list' object has no attribute 'loc'"
     ]
    }
   ],
   "source": [
    "print(mylist.loc[2])"
   ]
  },
  {
   "cell_type": "code",
   "execution_count": 58,
   "id": "9aab0294",
   "metadata": {},
   "outputs": [],
   "source": [
    "mylist = [[\"RU\", \"IN\", \"CH\", \"AX\"], [\"AA\", \"AB\", \"AC\", \"AD\"]]"
   ]
  },
  {
   "cell_type": "code",
   "execution_count": 59,
   "id": "554e8e1f",
   "metadata": {},
   "outputs": [
    {
     "data": {
      "text/plain": [
       "[['RU', 'IN', 'CH', 'AX'], ['AA', 'AB', 'AC', 'AD']]"
      ]
     },
     "execution_count": 59,
     "metadata": {},
     "output_type": "execute_result"
    }
   ],
   "source": [
    "mylist"
   ]
  },
  {
   "cell_type": "code",
   "execution_count": 60,
   "id": "fb2d3784",
   "metadata": {},
   "outputs": [
    {
     "name": "stdout",
     "output_type": "stream",
     "text": [
      "[['RU', 'IN', 'CH', 'AX'], ['AA', 'AB', 'AC', 'AD']]\n"
     ]
    }
   ],
   "source": [
    "print(mylist)"
   ]
  },
  {
   "cell_type": "code",
   "execution_count": 61,
   "id": "bb61b8c2",
   "metadata": {},
   "outputs": [
    {
     "name": "stdout",
     "output_type": "stream",
     "text": [
      "[['AA', 'AB', 'AC', 'AD']]\n"
     ]
    }
   ],
   "source": [
    "print(mylist[1:3])"
   ]
  },
  {
   "cell_type": "code",
   "execution_count": 62,
   "id": "be7fd4f7",
   "metadata": {},
   "outputs": [
    {
     "name": "stdout",
     "output_type": "stream",
     "text": [
      "['AA', 'AB', 'AC', 'AD']\n"
     ]
    }
   ],
   "source": [
    "print(mylist[1])"
   ]
  },
  {
   "cell_type": "code",
   "execution_count": 64,
   "id": "369acf0e",
   "metadata": {},
   "outputs": [
    {
     "name": "stdout",
     "output_type": "stream",
     "text": [
      "['RU', 'IN', 'CH', 'AX']\n"
     ]
    }
   ],
   "source": [
    "print(mylist[0])"
   ]
  },
  {
   "cell_type": "code",
   "execution_count": 65,
   "id": "435565db",
   "metadata": {},
   "outputs": [
    {
     "name": "stdout",
     "output_type": "stream",
     "text": [
      "[['AA', 'AB', 'AC', 'AD']]\n"
     ]
    }
   ],
   "source": [
    "print(mylist[1:2])"
   ]
  },
  {
   "cell_type": "code",
   "execution_count": 66,
   "id": "6b32ea0a",
   "metadata": {},
   "outputs": [],
   "source": [
    "mylist = [[\"RU\", \"IN\", \"CH\", \"AX\"]]"
   ]
  },
  {
   "cell_type": "code",
   "execution_count": 67,
   "id": "dd018817",
   "metadata": {},
   "outputs": [
    {
     "name": "stdout",
     "output_type": "stream",
     "text": [
      "[]\n"
     ]
    }
   ],
   "source": [
    "print(mylist[1:2])"
   ]
  },
  {
   "cell_type": "code",
   "execution_count": 68,
   "id": "44d38907",
   "metadata": {},
   "outputs": [
    {
     "name": "stdout",
     "output_type": "stream",
     "text": [
      "['RU', 'IN', 'CH', 'AX']\n"
     ]
    }
   ],
   "source": [
    "print(mylist[0])"
   ]
  },
  {
   "cell_type": "code",
   "execution_count": 69,
   "id": "16771354",
   "metadata": {},
   "outputs": [
    {
     "ename": "IndexError",
     "evalue": "list index out of range",
     "output_type": "error",
     "traceback": [
      "\u001b[1;31m---------------------------------------------------------------------------\u001b[0m",
      "\u001b[1;31mIndexError\u001b[0m                                Traceback (most recent call last)",
      "\u001b[1;32m~\\AppData\\Local\\Temp/ipykernel_24328/3955622120.py\u001b[0m in \u001b[0;36m<module>\u001b[1;34m\u001b[0m\n\u001b[1;32m----> 1\u001b[1;33m \u001b[0mprint\u001b[0m\u001b[1;33m(\u001b[0m\u001b[0mmylist\u001b[0m\u001b[1;33m[\u001b[0m\u001b[1;36m1\u001b[0m\u001b[1;33m]\u001b[0m\u001b[1;33m)\u001b[0m\u001b[1;33m\u001b[0m\u001b[1;33m\u001b[0m\u001b[0m\n\u001b[0m",
      "\u001b[1;31mIndexError\u001b[0m: list index out of range"
     ]
    }
   ],
   "source": [
    "print(mylist[1])"
   ]
  },
  {
   "cell_type": "code",
   "execution_count": 70,
   "id": "d8c00287",
   "metadata": {},
   "outputs": [
    {
     "name": "stdout",
     "output_type": "stream",
     "text": [
      "[['RU', 'IN', 'CH', 'AX']]\n"
     ]
    }
   ],
   "source": [
    "print(mylist[0:2])"
   ]
  },
  {
   "cell_type": "code",
   "execution_count": 71,
   "id": "97cbe485",
   "metadata": {},
   "outputs": [
    {
     "name": "stdout",
     "output_type": "stream",
     "text": [
      "[['RU', 'IN', 'CH', 'AX']]\n"
     ]
    }
   ],
   "source": [
    "print(mylist[:2])"
   ]
  },
  {
   "cell_type": "code",
   "execution_count": 72,
   "id": "e40c397f",
   "metadata": {},
   "outputs": [
    {
     "ename": "AttributeError",
     "evalue": "'list' object has no attribute 'iloc'",
     "output_type": "error",
     "traceback": [
      "\u001b[1;31m---------------------------------------------------------------------------\u001b[0m",
      "\u001b[1;31mAttributeError\u001b[0m                            Traceback (most recent call last)",
      "\u001b[1;32m~\\AppData\\Local\\Temp/ipykernel_24328/1641870462.py\u001b[0m in \u001b[0;36m<module>\u001b[1;34m\u001b[0m\n\u001b[1;32m----> 1\u001b[1;33m \u001b[0mprint\u001b[0m\u001b[1;33m(\u001b[0m\u001b[0mmylist\u001b[0m\u001b[1;33m.\u001b[0m\u001b[0miloc\u001b[0m\u001b[1;33m[\u001b[0m\u001b[1;36m1\u001b[0m\u001b[1;33m,\u001b[0m\u001b[1;36m3\u001b[0m\u001b[1;33m]\u001b[0m\u001b[1;33m)\u001b[0m\u001b[1;33m\u001b[0m\u001b[1;33m\u001b[0m\u001b[0m\n\u001b[0m",
      "\u001b[1;31mAttributeError\u001b[0m: 'list' object has no attribute 'iloc'"
     ]
    }
   ],
   "source": [
    "print(mylist.iloc[1,3])"
   ]
  },
  {
   "cell_type": "code",
   "execution_count": 77,
   "id": "6940b70e",
   "metadata": {},
   "outputs": [
    {
     "name": "stdout",
     "output_type": "stream",
     "text": [
      "         country    capital    area  population       COUNTRY      COUNTRY2  \\\n",
      "BR        Brazil   Brasilia   8.516      200.40        BRAZIL           NaN   \n",
      "RU        Russia     Moscow  17.100      143.50        RUSSIA           NaN   \n",
      "IN         India  New Delhi   3.286     1252.00         INDIA           NaN   \n",
      "CH         China    Beijing   9.597     1357.00         CHINA           NaN   \n",
      "SA  South Africa   Pretoria   1.221       52.98  SOUTH AFRICA  SOUTH AFRICA   \n",
      "\n",
      "         COUNTYR      COUNTRY3  \n",
      "BR        BRAZIL        BRAZIL  \n",
      "RU        RUSSIA        RUSSIA  \n",
      "IN         INDIA         INDIA  \n",
      "CH         CHINA         CHINA  \n",
      "SA  SOUTH AFRICA  SOUTH AFRICA  \n"
     ]
    }
   ],
   "source": [
    "# Use .apply(str.upper)\n",
    "bricsFile[\"COUNTRY3\"] = bricsFile[\"country\"].apply(str.upper)\n",
    "print(bricsFile)"
   ]
  },
  {
   "cell_type": "code",
   "execution_count": 78,
   "id": "8d4b31f3",
   "metadata": {},
   "outputs": [
    {
     "name": "stdout",
     "output_type": "stream",
     "text": [
      "         country    capital    area  population       COUNTRY      COUNTRY2  \\\n",
      "BR        Brazil   Brasilia   8.516      200.40        BRAZIL           NaN   \n",
      "RU        Russia     Moscow  17.100      143.50        RUSSIA           NaN   \n",
      "IN         India  New Delhi   3.286     1252.00         INDIA           NaN   \n",
      "CH         China    Beijing   9.597     1357.00         CHINA           NaN   \n",
      "SA  South Africa   Pretoria   1.221       52.98  SOUTH AFRICA  SOUTH AFRICA   \n",
      "\n",
      "         COUNTYR      COUNTRY3  \n",
      "BR        BRAZIL        BRAZIL  \n",
      "RU        RUSSIA        RUSSIA  \n",
      "IN         INDIA         INDIA  \n",
      "CH         CHINA         CHINA  \n",
      "SA  SOUTH AFRICA  SOUTH AFRICA  \n"
     ]
    }
   ],
   "source": [
    "print(bricsFile)"
   ]
  },
  {
   "cell_type": "code",
   "execution_count": 79,
   "id": "83e59fb0",
   "metadata": {},
   "outputs": [
    {
     "name": "stdout",
     "output_type": "stream",
     "text": [
      "         country    capital    area  population       COUNTRY      COUNTRY2  \\\n",
      "BR        Brazil   Brasilia   8.516      200.40        BRAZIL           NaN   \n",
      "RU        Russia     Moscow  17.100      143.50        RUSSIA           NaN   \n",
      "IN         India  New Delhi   3.286     1252.00         INDIA           NaN   \n",
      "CH         China    Beijing   9.597     1357.00         CHINA           NaN   \n",
      "SA  South Africa   Pretoria   1.221       52.98  SOUTH AFRICA  SOUTH AFRICA   \n",
      "\n",
      "         COUNTYR      COUNTRY3    CAPITAL  \n",
      "BR        BRAZIL        BRAZIL   BRASILIA  \n",
      "RU        RUSSIA        RUSSIA     MOSCOW  \n",
      "IN         INDIA         INDIA  NEW DELHI  \n",
      "CH         CHINA         CHINA    BEIJING  \n",
      "SA  SOUTH AFRICA  SOUTH AFRICA   PRETORIA  \n"
     ]
    }
   ],
   "source": [
    "bricsFile[\"CAPITAL\"] = bricsFile[\"capital\"].apply(str.upper)\n",
    "print(bricsFile)"
   ]
  },
  {
   "cell_type": "code",
   "execution_count": 80,
   "id": "f939af14",
   "metadata": {},
   "outputs": [],
   "source": [
    "bricsFile[\"CAPITAL2\"] = bricsFile[\"capital\"].apply(str.upper)"
   ]
  },
  {
   "cell_type": "code",
   "execution_count": 81,
   "id": "ecde1273",
   "metadata": {},
   "outputs": [],
   "source": [
    "bricsFile[\"CAPITAL3\"] = bricsFile[\"capital\"].apply(str.upper)"
   ]
  },
  {
   "cell_type": "code",
   "execution_count": 82,
   "id": "89fbcf88",
   "metadata": {},
   "outputs": [],
   "source": [
    "bricsFile[\"CAPITAL4\"] = bricsFile[\"capital\"].apply(str.upper)"
   ]
  },
  {
   "cell_type": "code",
   "execution_count": 83,
   "id": "7c96defa",
   "metadata": {},
   "outputs": [
    {
     "name": "stdout",
     "output_type": "stream",
     "text": [
      "         country    capital    area  population       COUNTRY      COUNTRY2  \\\n",
      "BR        Brazil   Brasilia   8.516      200.40        BRAZIL           NaN   \n",
      "RU        Russia     Moscow  17.100      143.50        RUSSIA           NaN   \n",
      "IN         India  New Delhi   3.286     1252.00         INDIA           NaN   \n",
      "CH         China    Beijing   9.597     1357.00         CHINA           NaN   \n",
      "SA  South Africa   Pretoria   1.221       52.98  SOUTH AFRICA  SOUTH AFRICA   \n",
      "\n",
      "         COUNTYR      COUNTRY3    CAPITAL   CAPITAL2   CAPITAL3   CAPITAL4  \n",
      "BR        BRAZIL        BRAZIL   BRASILIA   BRASILIA   BRASILIA   BRASILIA  \n",
      "RU        RUSSIA        RUSSIA     MOSCOW     MOSCOW     MOSCOW     MOSCOW  \n",
      "IN         INDIA         INDIA  NEW DELHI  NEW DELHI  NEW DELHI  NEW DELHI  \n",
      "CH         CHINA         CHINA    BEIJING    BEIJING    BEIJING    BEIJING  \n",
      "SA  SOUTH AFRICA  SOUTH AFRICA   PRETORIA   PRETORIA   PRETORIA   PRETORIA  \n"
     ]
    }
   ],
   "source": [
    "print(bricsFile)"
   ]
  },
  {
   "cell_type": "code",
   "execution_count": 84,
   "id": "a3ce7e8e",
   "metadata": {},
   "outputs": [],
   "source": [
    "bricsFile[\"CAPITAL5\"] = bricsFile[\"capital\"].apply(str.upper)"
   ]
  },
  {
   "cell_type": "code",
   "execution_count": 85,
   "id": "3c3207f3",
   "metadata": {},
   "outputs": [
    {
     "name": "stdout",
     "output_type": "stream",
     "text": [
      "         country    capital    area  population       COUNTRY      COUNTRY2  \\\n",
      "BR        Brazil   Brasilia   8.516      200.40        BRAZIL           NaN   \n",
      "RU        Russia     Moscow  17.100      143.50        RUSSIA           NaN   \n",
      "IN         India  New Delhi   3.286     1252.00         INDIA           NaN   \n",
      "CH         China    Beijing   9.597     1357.00         CHINA           NaN   \n",
      "SA  South Africa   Pretoria   1.221       52.98  SOUTH AFRICA  SOUTH AFRICA   \n",
      "\n",
      "         COUNTYR      COUNTRY3    CAPITAL   CAPITAL2   CAPITAL3   CAPITAL4  \\\n",
      "BR        BRAZIL        BRAZIL   BRASILIA   BRASILIA   BRASILIA   BRASILIA   \n",
      "RU        RUSSIA        RUSSIA     MOSCOW     MOSCOW     MOSCOW     MOSCOW   \n",
      "IN         INDIA         INDIA  NEW DELHI  NEW DELHI  NEW DELHI  NEW DELHI   \n",
      "CH         CHINA         CHINA    BEIJING    BEIJING    BEIJING    BEIJING   \n",
      "SA  SOUTH AFRICA  SOUTH AFRICA   PRETORIA   PRETORIA   PRETORIA   PRETORIA   \n",
      "\n",
      "     CAPITAL5  \n",
      "BR   BRASILIA  \n",
      "RU     MOSCOW  \n",
      "IN  NEW DELHI  \n",
      "CH    BEIJING  \n",
      "SA   PRETORIA  \n"
     ]
    }
   ],
   "source": [
    "print(bricsFile)"
   ]
  },
  {
   "cell_type": "code",
   "execution_count": 86,
   "id": "72aa22e3",
   "metadata": {},
   "outputs": [
    {
     "name": "stdout",
     "output_type": "stream",
     "text": [
      "Help on class bool in module builtins:\n",
      "\n",
      "class bool(int)\n",
      " |  bool(x) -> bool\n",
      " |  \n",
      " |  Returns True when the argument x is true, False otherwise.\n",
      " |  The builtins True and False are the only two instances of the class bool.\n",
      " |  The class bool is a subclass of the class int, and cannot be subclassed.\n",
      " |  \n",
      " |  Method resolution order:\n",
      " |      bool\n",
      " |      int\n",
      " |      object\n",
      " |  \n",
      " |  Methods defined here:\n",
      " |  \n",
      " |  __and__(self, value, /)\n",
      " |      Return self&value.\n",
      " |  \n",
      " |  __or__(self, value, /)\n",
      " |      Return self|value.\n",
      " |  \n",
      " |  __rand__(self, value, /)\n",
      " |      Return value&self.\n",
      " |  \n",
      " |  __repr__(self, /)\n",
      " |      Return repr(self).\n",
      " |  \n",
      " |  __ror__(self, value, /)\n",
      " |      Return value|self.\n",
      " |  \n",
      " |  __rxor__(self, value, /)\n",
      " |      Return value^self.\n",
      " |  \n",
      " |  __xor__(self, value, /)\n",
      " |      Return self^value.\n",
      " |  \n",
      " |  ----------------------------------------------------------------------\n",
      " |  Static methods defined here:\n",
      " |  \n",
      " |  __new__(*args, **kwargs) from builtins.type\n",
      " |      Create and return a new object.  See help(type) for accurate signature.\n",
      " |  \n",
      " |  ----------------------------------------------------------------------\n",
      " |  Methods inherited from int:\n",
      " |  \n",
      " |  __abs__(self, /)\n",
      " |      abs(self)\n",
      " |  \n",
      " |  __add__(self, value, /)\n",
      " |      Return self+value.\n",
      " |  \n",
      " |  __bool__(self, /)\n",
      " |      self != 0\n",
      " |  \n",
      " |  __ceil__(...)\n",
      " |      Ceiling of an Integral returns itself.\n",
      " |  \n",
      " |  __divmod__(self, value, /)\n",
      " |      Return divmod(self, value).\n",
      " |  \n",
      " |  __eq__(self, value, /)\n",
      " |      Return self==value.\n",
      " |  \n",
      " |  __float__(self, /)\n",
      " |      float(self)\n",
      " |  \n",
      " |  __floor__(...)\n",
      " |      Flooring an Integral returns itself.\n",
      " |  \n",
      " |  __floordiv__(self, value, /)\n",
      " |      Return self//value.\n",
      " |  \n",
      " |  __format__(self, format_spec, /)\n",
      " |      Default object formatter.\n",
      " |  \n",
      " |  __ge__(self, value, /)\n",
      " |      Return self>=value.\n",
      " |  \n",
      " |  __getattribute__(self, name, /)\n",
      " |      Return getattr(self, name).\n",
      " |  \n",
      " |  __getnewargs__(self, /)\n",
      " |  \n",
      " |  __gt__(self, value, /)\n",
      " |      Return self>value.\n",
      " |  \n",
      " |  __hash__(self, /)\n",
      " |      Return hash(self).\n",
      " |  \n",
      " |  __index__(self, /)\n",
      " |      Return self converted to an integer, if self is suitable for use as an index into a list.\n",
      " |  \n",
      " |  __int__(self, /)\n",
      " |      int(self)\n",
      " |  \n",
      " |  __invert__(self, /)\n",
      " |      ~self\n",
      " |  \n",
      " |  __le__(self, value, /)\n",
      " |      Return self<=value.\n",
      " |  \n",
      " |  __lshift__(self, value, /)\n",
      " |      Return self<<value.\n",
      " |  \n",
      " |  __lt__(self, value, /)\n",
      " |      Return self<value.\n",
      " |  \n",
      " |  __mod__(self, value, /)\n",
      " |      Return self%value.\n",
      " |  \n",
      " |  __mul__(self, value, /)\n",
      " |      Return self*value.\n",
      " |  \n",
      " |  __ne__(self, value, /)\n",
      " |      Return self!=value.\n",
      " |  \n",
      " |  __neg__(self, /)\n",
      " |      -self\n",
      " |  \n",
      " |  __pos__(self, /)\n",
      " |      +self\n",
      " |  \n",
      " |  __pow__(self, value, mod=None, /)\n",
      " |      Return pow(self, value, mod).\n",
      " |  \n",
      " |  __radd__(self, value, /)\n",
      " |      Return value+self.\n",
      " |  \n",
      " |  __rdivmod__(self, value, /)\n",
      " |      Return divmod(value, self).\n",
      " |  \n",
      " |  __rfloordiv__(self, value, /)\n",
      " |      Return value//self.\n",
      " |  \n",
      " |  __rlshift__(self, value, /)\n",
      " |      Return value<<self.\n",
      " |  \n",
      " |  __rmod__(self, value, /)\n",
      " |      Return value%self.\n",
      " |  \n",
      " |  __rmul__(self, value, /)\n",
      " |      Return value*self.\n",
      " |  \n",
      " |  __round__(...)\n",
      " |      Rounding an Integral returns itself.\n",
      " |      Rounding with an ndigits argument also returns an integer.\n",
      " |  \n",
      " |  __rpow__(self, value, mod=None, /)\n",
      " |      Return pow(value, self, mod).\n",
      " |  \n",
      " |  __rrshift__(self, value, /)\n",
      " |      Return value>>self.\n",
      " |  \n",
      " |  __rshift__(self, value, /)\n",
      " |      Return self>>value.\n",
      " |  \n",
      " |  __rsub__(self, value, /)\n",
      " |      Return value-self.\n",
      " |  \n",
      " |  __rtruediv__(self, value, /)\n",
      " |      Return value/self.\n",
      " |  \n",
      " |  __sizeof__(self, /)\n",
      " |      Returns size in memory, in bytes.\n",
      " |  \n",
      " |  __sub__(self, value, /)\n",
      " |      Return self-value.\n",
      " |  \n",
      " |  __truediv__(self, value, /)\n",
      " |      Return self/value.\n",
      " |  \n",
      " |  __trunc__(...)\n",
      " |      Truncating an Integral returns itself.\n",
      " |  \n",
      " |  as_integer_ratio(self, /)\n",
      " |      Return integer ratio.\n",
      " |      \n",
      " |      Return a pair of integers, whose ratio is exactly equal to the original int\n",
      " |      and with a positive denominator.\n",
      " |      \n",
      " |      >>> (10).as_integer_ratio()\n",
      " |      (10, 1)\n",
      " |      >>> (-10).as_integer_ratio()\n",
      " |      (-10, 1)\n",
      " |      >>> (0).as_integer_ratio()\n",
      " |      (0, 1)\n",
      " |  \n",
      " |  bit_length(self, /)\n",
      " |      Number of bits necessary to represent self in binary.\n",
      " |      \n",
      " |      >>> bin(37)\n",
      " |      '0b100101'\n",
      " |      >>> (37).bit_length()\n",
      " |      6\n",
      " |  \n",
      " |  conjugate(...)\n",
      " |      Returns self, the complex conjugate of any int.\n",
      " |  \n",
      " |  to_bytes(self, /, length, byteorder, *, signed=False)\n",
      " |      Return an array of bytes representing an integer.\n",
      " |      \n",
      " |      length\n",
      " |        Length of bytes object to use.  An OverflowError is raised if the\n",
      " |        integer is not representable with the given number of bytes.\n",
      " |      byteorder\n",
      " |        The byte order used to represent the integer.  If byteorder is 'big',\n",
      " |        the most significant byte is at the beginning of the byte array.  If\n",
      " |        byteorder is 'little', the most significant byte is at the end of the\n",
      " |        byte array.  To request the native byte order of the host system, use\n",
      " |        `sys.byteorder' as the byte order value.\n",
      " |      signed\n",
      " |        Determines whether two's complement is used to represent the integer.\n",
      " |        If signed is False and a negative integer is given, an OverflowError\n",
      " |        is raised.\n",
      " |  \n",
      " |  ----------------------------------------------------------------------\n",
      " |  Class methods inherited from int:\n",
      " |  \n",
      " |  from_bytes(bytes, byteorder, *, signed=False) from builtins.type\n",
      " |      Return the integer represented by the given array of bytes.\n",
      " |      \n",
      " |      bytes\n",
      " |        Holds the array of bytes to convert.  The argument must either\n",
      " |        support the buffer protocol or be an iterable object producing bytes.\n",
      " |        Bytes and bytearray are examples of built-in objects that support the\n",
      " |        buffer protocol.\n",
      " |      byteorder\n",
      " |        The byte order used to represent the integer.  If byteorder is 'big',\n",
      " |        the most significant byte is at the beginning of the byte array.  If\n",
      " |        byteorder is 'little', the most significant byte is at the end of the\n",
      " |        byte array.  To request the native byte order of the host system, use\n",
      " |        `sys.byteorder' as the byte order value.\n",
      " |      signed\n",
      " |        Indicates whether two's complement is used to represent the integer.\n",
      " |  \n",
      " |  ----------------------------------------------------------------------\n",
      " |  Data descriptors inherited from int:\n",
      " |  \n",
      " |  denominator\n",
      " |      the denominator of a rational number in lowest terms\n",
      " |  \n",
      " |  imag\n",
      " |      the imaginary part of a complex number\n",
      " |  \n",
      " |  numerator\n",
      " |      the numerator of a rational number in lowest terms\n",
      " |  \n",
      " |  real\n",
      " |      the real part of a complex number\n",
      "\n"
     ]
    }
   ],
   "source": [
    "help(bool)\n"
   ]
  },
  {
   "cell_type": "code",
   "execution_count": null,
   "id": "f0710ff7",
   "metadata": {},
   "outputs": [],
   "source": []
  },
  {
   "cell_type": "code",
   "execution_count": 88,
   "id": "80a525ea",
   "metadata": {},
   "outputs": [],
   "source": [
    "sister=\"liz\""
   ]
  },
  {
   "cell_type": "raw",
   "id": "432f1468",
   "metadata": {},
   "source": [
    "sister"
   ]
  },
  {
   "cell_type": "code",
   "execution_count": 89,
   "id": "c0451b2f",
   "metadata": {},
   "outputs": [
    {
     "name": "stdout",
     "output_type": "stream",
     "text": [
      "liz\n"
     ]
    }
   ],
   "source": [
    "print(sister)"
   ]
  },
  {
   "cell_type": "code",
   "execution_count": 91,
   "id": "0129857c",
   "metadata": {},
   "outputs": [],
   "source": [
    "pop = [1,2,3]\n",
    "country = [\"a\",\"b\",\"c\"]"
   ]
  },
  {
   "cell_type": "code",
   "execution_count": 92,
   "id": "a056ac6c",
   "metadata": {},
   "outputs": [],
   "source": [
    "world={\"a\":1, \"b\":2, \"c\":3}"
   ]
  },
  {
   "cell_type": "code",
   "execution_count": 93,
   "id": "e726fbc3",
   "metadata": {},
   "outputs": [
    {
     "name": "stdout",
     "output_type": "stream",
     "text": [
      "2\n"
     ]
    }
   ],
   "source": [
    "print(world[\"b\"])"
   ]
  },
  {
   "cell_type": "code",
   "execution_count": 94,
   "id": "455e68e7",
   "metadata": {},
   "outputs": [
    {
     "ename": "NameError",
     "evalue": "name 'brics' is not defined",
     "output_type": "error",
     "traceback": [
      "\u001b[1;31m---------------------------------------------------------------------------\u001b[0m",
      "\u001b[1;31mNameError\u001b[0m                                 Traceback (most recent call last)",
      "\u001b[1;32m~\\AppData\\Local\\Temp/ipykernel_24328/843242923.py\u001b[0m in \u001b[0;36m<module>\u001b[1;34m\u001b[0m\n\u001b[1;32m----> 1\u001b[1;33m \u001b[0mprint\u001b[0m\u001b[1;33m(\u001b[0m\u001b[0mbrics\u001b[0m\u001b[1;33m)\u001b[0m\u001b[1;33m\u001b[0m\u001b[1;33m\u001b[0m\u001b[0m\n\u001b[0m",
      "\u001b[1;31mNameError\u001b[0m: name 'brics' is not defined"
     ]
    }
   ],
   "source": [
    "print(brics)"
   ]
  },
  {
   "cell_type": "code",
   "execution_count": 95,
   "id": "715feee8",
   "metadata": {},
   "outputs": [
    {
     "name": "stdout",
     "output_type": "stream",
     "text": [
      "         country    capital    area  population       COUNTRY      COUNTRY2  \\\n",
      "BR        Brazil   Brasilia   8.516      200.40        BRAZIL           NaN   \n",
      "RU        Russia     Moscow  17.100      143.50        RUSSIA           NaN   \n",
      "IN         India  New Delhi   3.286     1252.00         INDIA           NaN   \n",
      "CH         China    Beijing   9.597     1357.00         CHINA           NaN   \n",
      "SA  South Africa   Pretoria   1.221       52.98  SOUTH AFRICA  SOUTH AFRICA   \n",
      "\n",
      "         COUNTYR      COUNTRY3    CAPITAL   CAPITAL2   CAPITAL3   CAPITAL4  \\\n",
      "BR        BRAZIL        BRAZIL   BRASILIA   BRASILIA   BRASILIA   BRASILIA   \n",
      "RU        RUSSIA        RUSSIA     MOSCOW     MOSCOW     MOSCOW     MOSCOW   \n",
      "IN         INDIA         INDIA  NEW DELHI  NEW DELHI  NEW DELHI  NEW DELHI   \n",
      "CH         CHINA         CHINA    BEIJING    BEIJING    BEIJING    BEIJING   \n",
      "SA  SOUTH AFRICA  SOUTH AFRICA   PRETORIA   PRETORIA   PRETORIA   PRETORIA   \n",
      "\n",
      "     CAPITAL5  \n",
      "BR   BRASILIA  \n",
      "RU     MOSCOW  \n",
      "IN  NEW DELHI  \n",
      "CH    BEIJING  \n",
      "SA   PRETORIA  \n"
     ]
    }
   ],
   "source": [
    "print(bricsFile)"
   ]
  },
  {
   "cell_type": "code",
   "execution_count": 96,
   "id": "75815fef",
   "metadata": {},
   "outputs": [
    {
     "name": "stdout",
     "output_type": "stream",
     "text": [
      "<class 'pandas.core.frame.DataFrame'>\n"
     ]
    }
   ],
   "source": [
    "print(type(bricsFile))"
   ]
  },
  {
   "cell_type": "code",
   "execution_count": 97,
   "id": "2064ba2d",
   "metadata": {},
   "outputs": [
    {
     "name": "stdout",
     "output_type": "stream",
     "text": [
      "<class 'pandas.core.series.Series'>\n"
     ]
    }
   ],
   "source": [
    "print(type(bricsFile[\"COUNTYR\"]))"
   ]
  },
  {
   "cell_type": "code",
   "execution_count": 98,
   "id": "8393689d",
   "metadata": {},
   "outputs": [
    {
     "data": {
      "text/html": [
       "<div>\n",
       "<style scoped>\n",
       "    .dataframe tbody tr th:only-of-type {\n",
       "        vertical-align: middle;\n",
       "    }\n",
       "\n",
       "    .dataframe tbody tr th {\n",
       "        vertical-align: top;\n",
       "    }\n",
       "\n",
       "    .dataframe thead th {\n",
       "        text-align: right;\n",
       "    }\n",
       "</style>\n",
       "<table border=\"1\" class=\"dataframe\">\n",
       "  <thead>\n",
       "    <tr style=\"text-align: right;\">\n",
       "      <th></th>\n",
       "      <th>country</th>\n",
       "      <th>capital</th>\n",
       "      <th>area</th>\n",
       "      <th>population</th>\n",
       "      <th>COUNTRY</th>\n",
       "      <th>COUNTRY2</th>\n",
       "      <th>COUNTYR</th>\n",
       "      <th>COUNTRY3</th>\n",
       "      <th>CAPITAL</th>\n",
       "      <th>CAPITAL2</th>\n",
       "      <th>CAPITAL3</th>\n",
       "      <th>CAPITAL4</th>\n",
       "      <th>CAPITAL5</th>\n",
       "    </tr>\n",
       "  </thead>\n",
       "  <tbody>\n",
       "    <tr>\n",
       "      <th>RU</th>\n",
       "      <td>Russia</td>\n",
       "      <td>Moscow</td>\n",
       "      <td>17.100</td>\n",
       "      <td>143.5</td>\n",
       "      <td>RUSSIA</td>\n",
       "      <td>NaN</td>\n",
       "      <td>RUSSIA</td>\n",
       "      <td>RUSSIA</td>\n",
       "      <td>MOSCOW</td>\n",
       "      <td>MOSCOW</td>\n",
       "      <td>MOSCOW</td>\n",
       "      <td>MOSCOW</td>\n",
       "      <td>MOSCOW</td>\n",
       "    </tr>\n",
       "    <tr>\n",
       "      <th>IN</th>\n",
       "      <td>India</td>\n",
       "      <td>New Delhi</td>\n",
       "      <td>3.286</td>\n",
       "      <td>1252.0</td>\n",
       "      <td>INDIA</td>\n",
       "      <td>NaN</td>\n",
       "      <td>INDIA</td>\n",
       "      <td>INDIA</td>\n",
       "      <td>NEW DELHI</td>\n",
       "      <td>NEW DELHI</td>\n",
       "      <td>NEW DELHI</td>\n",
       "      <td>NEW DELHI</td>\n",
       "      <td>NEW DELHI</td>\n",
       "    </tr>\n",
       "    <tr>\n",
       "      <th>CH</th>\n",
       "      <td>China</td>\n",
       "      <td>Beijing</td>\n",
       "      <td>9.597</td>\n",
       "      <td>1357.0</td>\n",
       "      <td>CHINA</td>\n",
       "      <td>NaN</td>\n",
       "      <td>CHINA</td>\n",
       "      <td>CHINA</td>\n",
       "      <td>BEIJING</td>\n",
       "      <td>BEIJING</td>\n",
       "      <td>BEIJING</td>\n",
       "      <td>BEIJING</td>\n",
       "      <td>BEIJING</td>\n",
       "    </tr>\n",
       "  </tbody>\n",
       "</table>\n",
       "</div>"
      ],
      "text/plain": [
       "   country    capital    area  population COUNTRY COUNTRY2 COUNTYR COUNTRY3  \\\n",
       "RU  Russia     Moscow  17.100       143.5  RUSSIA      NaN  RUSSIA   RUSSIA   \n",
       "IN   India  New Delhi   3.286      1252.0   INDIA      NaN   INDIA    INDIA   \n",
       "CH   China    Beijing   9.597      1357.0   CHINA      NaN   CHINA    CHINA   \n",
       "\n",
       "      CAPITAL   CAPITAL2   CAPITAL3   CAPITAL4   CAPITAL5  \n",
       "RU     MOSCOW     MOSCOW     MOSCOW     MOSCOW     MOSCOW  \n",
       "IN  NEW DELHI  NEW DELHI  NEW DELHI  NEW DELHI  NEW DELHI  \n",
       "CH    BEIJING    BEIJING    BEIJING    BEIJING    BEIJING  "
      ]
     },
     "execution_count": 98,
     "metadata": {},
     "output_type": "execute_result"
    }
   ],
   "source": [
    "bricsFile[1:4]"
   ]
  },
  {
   "cell_type": "code",
   "execution_count": 99,
   "id": "34c2f7eb",
   "metadata": {},
   "outputs": [
    {
     "ename": "SyntaxError",
     "evalue": "invalid syntax (Temp/ipykernel_24328/24911488.py, line 1)",
     "output_type": "error",
     "traceback": [
      "\u001b[1;36m  File \u001b[1;32m\"C:\\Users\\Juli\\AppData\\Local\\Temp/ipykernel_24328/24911488.py\"\u001b[1;36m, line \u001b[1;32m1\u001b[0m\n\u001b[1;33m    bricsFile[[1:4]]\u001b[0m\n\u001b[1;37m                ^\u001b[0m\n\u001b[1;31mSyntaxError\u001b[0m\u001b[1;31m:\u001b[0m invalid syntax\n"
     ]
    }
   ],
   "source": [
    "bricsFile[[1:4]]"
   ]
  },
  {
   "cell_type": "code",
   "execution_count": 101,
   "id": "41ec1a60",
   "metadata": {},
   "outputs": [
    {
     "ename": "SyntaxError",
     "evalue": "invalid syntax (Temp/ipykernel_24328/546592240.py, line 1)",
     "output_type": "error",
     "traceback": [
      "\u001b[1;36m  File \u001b[1;32m\"C:\\Users\\Juli\\AppData\\Local\\Temp/ipykernel_24328/546592240.py\"\u001b[1;36m, line \u001b[1;32m1\u001b[0m\n\u001b[1;33m    bricsFile.iloc[[1:4]]\u001b[0m\n\u001b[1;37m                     ^\u001b[0m\n\u001b[1;31mSyntaxError\u001b[0m\u001b[1;31m:\u001b[0m invalid syntax\n"
     ]
    }
   ],
   "source": [
    "bricsFile.iloc[[1:4]]"
   ]
  },
  {
   "cell_type": "code",
   "execution_count": 102,
   "id": "c05e20af",
   "metadata": {},
   "outputs": [
    {
     "ename": "IndexError",
     "evalue": "list index out of range",
     "output_type": "error",
     "traceback": [
      "\u001b[1;31m---------------------------------------------------------------------------\u001b[0m",
      "\u001b[1;31mIndexError\u001b[0m                                Traceback (most recent call last)",
      "\u001b[1;32m~\\AppData\\Local\\Temp/ipykernel_24328/345545633.py\u001b[0m in \u001b[0;36m<module>\u001b[1;34m\u001b[0m\n\u001b[1;32m----> 1\u001b[1;33m \u001b[0mbricsFile\u001b[0m\u001b[1;33m.\u001b[0m\u001b[0miloc\u001b[0m\u001b[1;33m[\u001b[0m\u001b[1;33m[\u001b[0m\u001b[1;36m1\u001b[0m\u001b[1;33m]\u001b[0m\u001b[1;33m[\u001b[0m\u001b[1;36m2\u001b[0m\u001b[1;33m]\u001b[0m\u001b[1;33m]\u001b[0m\u001b[1;33m\u001b[0m\u001b[1;33m\u001b[0m\u001b[0m\n\u001b[0m",
      "\u001b[1;31mIndexError\u001b[0m: list index out of range"
     ]
    }
   ],
   "source": [
    "bricsFile.loc[[1][2]]"
   ]
  },
  {
   "cell_type": "code",
   "execution_count": 103,
   "id": "d484aa77",
   "metadata": {},
   "outputs": [
    {
     "name": "stderr",
     "output_type": "stream",
     "text": [
      "<>:1: SyntaxWarning: list indices must be integers or slices, not str; perhaps you missed a comma?\n",
      "<>:1: SyntaxWarning: list indices must be integers or slices, not str; perhaps you missed a comma?\n",
      "C:\\Users\\Juli\\AppData\\Local\\Temp/ipykernel_24328/2770734233.py:1: SyntaxWarning: list indices must be integers or slices, not str; perhaps you missed a comma?\n",
      "  bricsFile.loc[[\"RU\"][\"CH\"]]\n"
     ]
    },
    {
     "ename": "TypeError",
     "evalue": "list indices must be integers or slices, not str",
     "output_type": "error",
     "traceback": [
      "\u001b[1;31m---------------------------------------------------------------------------\u001b[0m",
      "\u001b[1;31mTypeError\u001b[0m                                 Traceback (most recent call last)",
      "\u001b[1;32m~\\AppData\\Local\\Temp/ipykernel_24328/2770734233.py\u001b[0m in \u001b[0;36m<module>\u001b[1;34m\u001b[0m\n\u001b[1;32m----> 1\u001b[1;33m \u001b[0mbricsFile\u001b[0m\u001b[1;33m.\u001b[0m\u001b[0mloc\u001b[0m\u001b[1;33m[\u001b[0m\u001b[1;33m[\u001b[0m\u001b[1;34m\"RU\"\u001b[0m\u001b[1;33m]\u001b[0m\u001b[1;33m[\u001b[0m\u001b[1;34m\"CH\"\u001b[0m\u001b[1;33m]\u001b[0m\u001b[1;33m]\u001b[0m\u001b[1;33m\u001b[0m\u001b[1;33m\u001b[0m\u001b[0m\n\u001b[0m",
      "\u001b[1;31mTypeError\u001b[0m: list indices must be integers or slices, not str"
     ]
    }
   ],
   "source": [
    "bricsFile.loc[[\"RU\"][\"CH\"]]"
   ]
  },
  {
   "cell_type": "code",
   "execution_count": 104,
   "id": "3d371bdf",
   "metadata": {},
   "outputs": [
    {
     "ename": "KeyError",
     "evalue": "\"None of [Index(['CH'], dtype='object')] are in the [columns]\"",
     "output_type": "error",
     "traceback": [
      "\u001b[1;31m---------------------------------------------------------------------------\u001b[0m",
      "\u001b[1;31mKeyError\u001b[0m                                  Traceback (most recent call last)",
      "\u001b[1;32m~\\AppData\\Local\\Temp/ipykernel_24328/452085423.py\u001b[0m in \u001b[0;36m<module>\u001b[1;34m\u001b[0m\n\u001b[1;32m----> 1\u001b[1;33m \u001b[0mbricsFile\u001b[0m\u001b[1;33m.\u001b[0m\u001b[0mloc\u001b[0m\u001b[1;33m[\u001b[0m\u001b[1;33m[\u001b[0m\u001b[1;34m\"RU\"\u001b[0m\u001b[1;33m]\u001b[0m\u001b[1;33m,\u001b[0m\u001b[1;33m[\u001b[0m\u001b[1;34m\"CH\"\u001b[0m\u001b[1;33m]\u001b[0m\u001b[1;33m]\u001b[0m\u001b[1;33m\u001b[0m\u001b[1;33m\u001b[0m\u001b[0m\n\u001b[0m",
      "\u001b[1;32m~\\anaconda3\\lib\\site-packages\\pandas\\core\\indexing.py\u001b[0m in \u001b[0;36m__getitem__\u001b[1;34m(self, key)\u001b[0m\n\u001b[0;32m    923\u001b[0m                 \u001b[1;32mwith\u001b[0m \u001b[0msuppress\u001b[0m\u001b[1;33m(\u001b[0m\u001b[0mKeyError\u001b[0m\u001b[1;33m,\u001b[0m \u001b[0mIndexError\u001b[0m\u001b[1;33m)\u001b[0m\u001b[1;33m:\u001b[0m\u001b[1;33m\u001b[0m\u001b[1;33m\u001b[0m\u001b[0m\n\u001b[0;32m    924\u001b[0m                     \u001b[1;32mreturn\u001b[0m \u001b[0mself\u001b[0m\u001b[1;33m.\u001b[0m\u001b[0mobj\u001b[0m\u001b[1;33m.\u001b[0m\u001b[0m_get_value\u001b[0m\u001b[1;33m(\u001b[0m\u001b[1;33m*\u001b[0m\u001b[0mkey\u001b[0m\u001b[1;33m,\u001b[0m \u001b[0mtakeable\u001b[0m\u001b[1;33m=\u001b[0m\u001b[0mself\u001b[0m\u001b[1;33m.\u001b[0m\u001b[0m_takeable\u001b[0m\u001b[1;33m)\u001b[0m\u001b[1;33m\u001b[0m\u001b[1;33m\u001b[0m\u001b[0m\n\u001b[1;32m--> 925\u001b[1;33m             \u001b[1;32mreturn\u001b[0m \u001b[0mself\u001b[0m\u001b[1;33m.\u001b[0m\u001b[0m_getitem_tuple\u001b[0m\u001b[1;33m(\u001b[0m\u001b[0mkey\u001b[0m\u001b[1;33m)\u001b[0m\u001b[1;33m\u001b[0m\u001b[1;33m\u001b[0m\u001b[0m\n\u001b[0m\u001b[0;32m    926\u001b[0m         \u001b[1;32melse\u001b[0m\u001b[1;33m:\u001b[0m\u001b[1;33m\u001b[0m\u001b[1;33m\u001b[0m\u001b[0m\n\u001b[0;32m    927\u001b[0m             \u001b[1;31m# we by definition only have the 0th axis\u001b[0m\u001b[1;33m\u001b[0m\u001b[1;33m\u001b[0m\u001b[0m\n",
      "\u001b[1;32m~\\anaconda3\\lib\\site-packages\\pandas\\core\\indexing.py\u001b[0m in \u001b[0;36m_getitem_tuple\u001b[1;34m(self, tup)\u001b[0m\n\u001b[0;32m   1105\u001b[0m         \u001b[1;31m# ugly hack for GH #836\u001b[0m\u001b[1;33m\u001b[0m\u001b[1;33m\u001b[0m\u001b[0m\n\u001b[0;32m   1106\u001b[0m         \u001b[1;32mif\u001b[0m \u001b[0mself\u001b[0m\u001b[1;33m.\u001b[0m\u001b[0m_multi_take_opportunity\u001b[0m\u001b[1;33m(\u001b[0m\u001b[0mtup\u001b[0m\u001b[1;33m)\u001b[0m\u001b[1;33m:\u001b[0m\u001b[1;33m\u001b[0m\u001b[1;33m\u001b[0m\u001b[0m\n\u001b[1;32m-> 1107\u001b[1;33m             \u001b[1;32mreturn\u001b[0m \u001b[0mself\u001b[0m\u001b[1;33m.\u001b[0m\u001b[0m_multi_take\u001b[0m\u001b[1;33m(\u001b[0m\u001b[0mtup\u001b[0m\u001b[1;33m)\u001b[0m\u001b[1;33m\u001b[0m\u001b[1;33m\u001b[0m\u001b[0m\n\u001b[0m\u001b[0;32m   1108\u001b[0m \u001b[1;33m\u001b[0m\u001b[0m\n\u001b[0;32m   1109\u001b[0m         \u001b[1;32mreturn\u001b[0m \u001b[0mself\u001b[0m\u001b[1;33m.\u001b[0m\u001b[0m_getitem_tuple_same_dim\u001b[0m\u001b[1;33m(\u001b[0m\u001b[0mtup\u001b[0m\u001b[1;33m)\u001b[0m\u001b[1;33m\u001b[0m\u001b[1;33m\u001b[0m\u001b[0m\n",
      "\u001b[1;32m~\\anaconda3\\lib\\site-packages\\pandas\\core\\indexing.py\u001b[0m in \u001b[0;36m_multi_take\u001b[1;34m(self, tup)\u001b[0m\n\u001b[0;32m   1057\u001b[0m         \"\"\"\n\u001b[0;32m   1058\u001b[0m         \u001b[1;31m# GH 836\u001b[0m\u001b[1;33m\u001b[0m\u001b[1;33m\u001b[0m\u001b[0m\n\u001b[1;32m-> 1059\u001b[1;33m         d = {\n\u001b[0m\u001b[0;32m   1060\u001b[0m             \u001b[0maxis\u001b[0m\u001b[1;33m:\u001b[0m \u001b[0mself\u001b[0m\u001b[1;33m.\u001b[0m\u001b[0m_get_listlike_indexer\u001b[0m\u001b[1;33m(\u001b[0m\u001b[0mkey\u001b[0m\u001b[1;33m,\u001b[0m \u001b[0maxis\u001b[0m\u001b[1;33m)\u001b[0m\u001b[1;33m\u001b[0m\u001b[1;33m\u001b[0m\u001b[0m\n\u001b[0;32m   1061\u001b[0m             \u001b[1;32mfor\u001b[0m \u001b[1;33m(\u001b[0m\u001b[0mkey\u001b[0m\u001b[1;33m,\u001b[0m \u001b[0maxis\u001b[0m\u001b[1;33m)\u001b[0m \u001b[1;32min\u001b[0m \u001b[0mzip\u001b[0m\u001b[1;33m(\u001b[0m\u001b[0mtup\u001b[0m\u001b[1;33m,\u001b[0m \u001b[0mself\u001b[0m\u001b[1;33m.\u001b[0m\u001b[0mobj\u001b[0m\u001b[1;33m.\u001b[0m\u001b[0m_AXIS_ORDERS\u001b[0m\u001b[1;33m)\u001b[0m\u001b[1;33m\u001b[0m\u001b[1;33m\u001b[0m\u001b[0m\n",
      "\u001b[1;32m~\\anaconda3\\lib\\site-packages\\pandas\\core\\indexing.py\u001b[0m in \u001b[0;36m<dictcomp>\u001b[1;34m(.0)\u001b[0m\n\u001b[0;32m   1058\u001b[0m         \u001b[1;31m# GH 836\u001b[0m\u001b[1;33m\u001b[0m\u001b[1;33m\u001b[0m\u001b[0m\n\u001b[0;32m   1059\u001b[0m         d = {\n\u001b[1;32m-> 1060\u001b[1;33m             \u001b[0maxis\u001b[0m\u001b[1;33m:\u001b[0m \u001b[0mself\u001b[0m\u001b[1;33m.\u001b[0m\u001b[0m_get_listlike_indexer\u001b[0m\u001b[1;33m(\u001b[0m\u001b[0mkey\u001b[0m\u001b[1;33m,\u001b[0m \u001b[0maxis\u001b[0m\u001b[1;33m)\u001b[0m\u001b[1;33m\u001b[0m\u001b[1;33m\u001b[0m\u001b[0m\n\u001b[0m\u001b[0;32m   1061\u001b[0m             \u001b[1;32mfor\u001b[0m \u001b[1;33m(\u001b[0m\u001b[0mkey\u001b[0m\u001b[1;33m,\u001b[0m \u001b[0maxis\u001b[0m\u001b[1;33m)\u001b[0m \u001b[1;32min\u001b[0m \u001b[0mzip\u001b[0m\u001b[1;33m(\u001b[0m\u001b[0mtup\u001b[0m\u001b[1;33m,\u001b[0m \u001b[0mself\u001b[0m\u001b[1;33m.\u001b[0m\u001b[0mobj\u001b[0m\u001b[1;33m.\u001b[0m\u001b[0m_AXIS_ORDERS\u001b[0m\u001b[1;33m)\u001b[0m\u001b[1;33m\u001b[0m\u001b[1;33m\u001b[0m\u001b[0m\n\u001b[0;32m   1062\u001b[0m         }\n",
      "\u001b[1;32m~\\anaconda3\\lib\\site-packages\\pandas\\core\\indexing.py\u001b[0m in \u001b[0;36m_get_listlike_indexer\u001b[1;34m(self, key, axis)\u001b[0m\n\u001b[0;32m   1312\u001b[0m             \u001b[0mkeyarr\u001b[0m\u001b[1;33m,\u001b[0m \u001b[0mindexer\u001b[0m\u001b[1;33m,\u001b[0m \u001b[0mnew_indexer\u001b[0m \u001b[1;33m=\u001b[0m \u001b[0max\u001b[0m\u001b[1;33m.\u001b[0m\u001b[0m_reindex_non_unique\u001b[0m\u001b[1;33m(\u001b[0m\u001b[0mkeyarr\u001b[0m\u001b[1;33m)\u001b[0m\u001b[1;33m\u001b[0m\u001b[1;33m\u001b[0m\u001b[0m\n\u001b[0;32m   1313\u001b[0m \u001b[1;33m\u001b[0m\u001b[0m\n\u001b[1;32m-> 1314\u001b[1;33m         \u001b[0mself\u001b[0m\u001b[1;33m.\u001b[0m\u001b[0m_validate_read_indexer\u001b[0m\u001b[1;33m(\u001b[0m\u001b[0mkeyarr\u001b[0m\u001b[1;33m,\u001b[0m \u001b[0mindexer\u001b[0m\u001b[1;33m,\u001b[0m \u001b[0maxis\u001b[0m\u001b[1;33m)\u001b[0m\u001b[1;33m\u001b[0m\u001b[1;33m\u001b[0m\u001b[0m\n\u001b[0m\u001b[0;32m   1315\u001b[0m \u001b[1;33m\u001b[0m\u001b[0m\n\u001b[0;32m   1316\u001b[0m         if needs_i8_conversion(ax.dtype) or isinstance(\n",
      "\u001b[1;32m~\\anaconda3\\lib\\site-packages\\pandas\\core\\indexing.py\u001b[0m in \u001b[0;36m_validate_read_indexer\u001b[1;34m(self, key, indexer, axis)\u001b[0m\n\u001b[0;32m   1372\u001b[0m                 \u001b[1;32mif\u001b[0m \u001b[0muse_interval_msg\u001b[0m\u001b[1;33m:\u001b[0m\u001b[1;33m\u001b[0m\u001b[1;33m\u001b[0m\u001b[0m\n\u001b[0;32m   1373\u001b[0m                     \u001b[0mkey\u001b[0m \u001b[1;33m=\u001b[0m \u001b[0mlist\u001b[0m\u001b[1;33m(\u001b[0m\u001b[0mkey\u001b[0m\u001b[1;33m)\u001b[0m\u001b[1;33m\u001b[0m\u001b[1;33m\u001b[0m\u001b[0m\n\u001b[1;32m-> 1374\u001b[1;33m                 \u001b[1;32mraise\u001b[0m \u001b[0mKeyError\u001b[0m\u001b[1;33m(\u001b[0m\u001b[1;34mf\"None of [{key}] are in the [{axis_name}]\"\u001b[0m\u001b[1;33m)\u001b[0m\u001b[1;33m\u001b[0m\u001b[1;33m\u001b[0m\u001b[0m\n\u001b[0m\u001b[0;32m   1375\u001b[0m \u001b[1;33m\u001b[0m\u001b[0m\n\u001b[0;32m   1376\u001b[0m             \u001b[0mnot_found\u001b[0m \u001b[1;33m=\u001b[0m \u001b[0mlist\u001b[0m\u001b[1;33m(\u001b[0m\u001b[0mensure_index\u001b[0m\u001b[1;33m(\u001b[0m\u001b[0mkey\u001b[0m\u001b[1;33m)\u001b[0m\u001b[1;33m[\u001b[0m\u001b[0mmissing_mask\u001b[0m\u001b[1;33m.\u001b[0m\u001b[0mnonzero\u001b[0m\u001b[1;33m(\u001b[0m\u001b[1;33m)\u001b[0m\u001b[1;33m[\u001b[0m\u001b[1;36m0\u001b[0m\u001b[1;33m]\u001b[0m\u001b[1;33m]\u001b[0m\u001b[1;33m.\u001b[0m\u001b[0munique\u001b[0m\u001b[1;33m(\u001b[0m\u001b[1;33m)\u001b[0m\u001b[1;33m)\u001b[0m\u001b[1;33m\u001b[0m\u001b[1;33m\u001b[0m\u001b[0m\n",
      "\u001b[1;31mKeyError\u001b[0m: \"None of [Index(['CH'], dtype='object')] are in the [columns]\""
     ]
    }
   ],
   "source": [
    "bricsFile.loc[[\"RU\"],[\"CH\"]]"
   ]
  },
  {
   "cell_type": "code",
   "execution_count": 105,
   "id": "3a5d5948",
   "metadata": {},
   "outputs": [
    {
     "ename": "NameError",
     "evalue": "name 'brics_file' is not defined",
     "output_type": "error",
     "traceback": [
      "\u001b[1;31m---------------------------------------------------------------------------\u001b[0m",
      "\u001b[1;31mNameError\u001b[0m                                 Traceback (most recent call last)",
      "\u001b[1;32m~\\AppData\\Local\\Temp/ipykernel_24328/4098917392.py\u001b[0m in \u001b[0;36m<module>\u001b[1;34m\u001b[0m\n\u001b[1;32m----> 1\u001b[1;33m \u001b[0mprint\u001b[0m\u001b[1;33m(\u001b[0m\u001b[0mbrics_file\u001b[0m\u001b[1;33m)\u001b[0m\u001b[1;33m\u001b[0m\u001b[1;33m\u001b[0m\u001b[0m\n\u001b[0m",
      "\u001b[1;31mNameError\u001b[0m: name 'brics_file' is not defined"
     ]
    }
   ],
   "source": [
    "print(brics_file)"
   ]
  },
  {
   "cell_type": "code",
   "execution_count": 106,
   "id": "51606155",
   "metadata": {},
   "outputs": [
    {
     "name": "stdout",
     "output_type": "stream",
     "text": [
      "         country    capital    area  population       COUNTRY      COUNTRY2  \\\n",
      "BR        Brazil   Brasilia   8.516      200.40        BRAZIL           NaN   \n",
      "RU        Russia     Moscow  17.100      143.50        RUSSIA           NaN   \n",
      "IN         India  New Delhi   3.286     1252.00         INDIA           NaN   \n",
      "CH         China    Beijing   9.597     1357.00         CHINA           NaN   \n",
      "SA  South Africa   Pretoria   1.221       52.98  SOUTH AFRICA  SOUTH AFRICA   \n",
      "\n",
      "         COUNTYR      COUNTRY3    CAPITAL   CAPITAL2   CAPITAL3   CAPITAL4  \\\n",
      "BR        BRAZIL        BRAZIL   BRASILIA   BRASILIA   BRASILIA   BRASILIA   \n",
      "RU        RUSSIA        RUSSIA     MOSCOW     MOSCOW     MOSCOW     MOSCOW   \n",
      "IN         INDIA         INDIA  NEW DELHI  NEW DELHI  NEW DELHI  NEW DELHI   \n",
      "CH         CHINA         CHINA    BEIJING    BEIJING    BEIJING    BEIJING   \n",
      "SA  SOUTH AFRICA  SOUTH AFRICA   PRETORIA   PRETORIA   PRETORIA   PRETORIA   \n",
      "\n",
      "     CAPITAL5  \n",
      "BR   BRASILIA  \n",
      "RU     MOSCOW  \n",
      "IN  NEW DELHI  \n",
      "CH    BEIJING  \n",
      "SA   PRETORIA  \n"
     ]
    }
   ],
   "source": [
    "print(bricsFile)"
   ]
  },
  {
   "cell_type": "code",
   "execution_count": 107,
   "id": "6df30f5c",
   "metadata": {},
   "outputs": [
    {
     "ename": "KeyError",
     "evalue": "\"None of [Index(['BR', 'CH'], dtype='object')] are in the [columns]\"",
     "output_type": "error",
     "traceback": [
      "\u001b[1;31m---------------------------------------------------------------------------\u001b[0m",
      "\u001b[1;31mKeyError\u001b[0m                                  Traceback (most recent call last)",
      "\u001b[1;32m~\\AppData\\Local\\Temp/ipykernel_24328/4021941126.py\u001b[0m in \u001b[0;36m<module>\u001b[1;34m\u001b[0m\n\u001b[1;32m----> 1\u001b[1;33m \u001b[0mprint\u001b[0m\u001b[1;33m(\u001b[0m\u001b[0mbricsFile\u001b[0m\u001b[1;33m[\u001b[0m\u001b[1;33m[\u001b[0m\u001b[1;34m'BR'\u001b[0m\u001b[1;33m,\u001b[0m \u001b[1;34m'CH'\u001b[0m\u001b[1;33m]\u001b[0m\u001b[1;33m]\u001b[0m\u001b[1;33m)\u001b[0m\u001b[1;33m\u001b[0m\u001b[1;33m\u001b[0m\u001b[0m\n\u001b[0m",
      "\u001b[1;32m~\\anaconda3\\lib\\site-packages\\pandas\\core\\frame.py\u001b[0m in \u001b[0;36m__getitem__\u001b[1;34m(self, key)\u001b[0m\n\u001b[0;32m   3462\u001b[0m             \u001b[1;32mif\u001b[0m \u001b[0mis_iterator\u001b[0m\u001b[1;33m(\u001b[0m\u001b[0mkey\u001b[0m\u001b[1;33m)\u001b[0m\u001b[1;33m:\u001b[0m\u001b[1;33m\u001b[0m\u001b[1;33m\u001b[0m\u001b[0m\n\u001b[0;32m   3463\u001b[0m                 \u001b[0mkey\u001b[0m \u001b[1;33m=\u001b[0m \u001b[0mlist\u001b[0m\u001b[1;33m(\u001b[0m\u001b[0mkey\u001b[0m\u001b[1;33m)\u001b[0m\u001b[1;33m\u001b[0m\u001b[1;33m\u001b[0m\u001b[0m\n\u001b[1;32m-> 3464\u001b[1;33m             \u001b[0mindexer\u001b[0m \u001b[1;33m=\u001b[0m \u001b[0mself\u001b[0m\u001b[1;33m.\u001b[0m\u001b[0mloc\u001b[0m\u001b[1;33m.\u001b[0m\u001b[0m_get_listlike_indexer\u001b[0m\u001b[1;33m(\u001b[0m\u001b[0mkey\u001b[0m\u001b[1;33m,\u001b[0m \u001b[0maxis\u001b[0m\u001b[1;33m=\u001b[0m\u001b[1;36m1\u001b[0m\u001b[1;33m)\u001b[0m\u001b[1;33m[\u001b[0m\u001b[1;36m1\u001b[0m\u001b[1;33m]\u001b[0m\u001b[1;33m\u001b[0m\u001b[1;33m\u001b[0m\u001b[0m\n\u001b[0m\u001b[0;32m   3465\u001b[0m \u001b[1;33m\u001b[0m\u001b[0m\n\u001b[0;32m   3466\u001b[0m         \u001b[1;31m# take() does not accept boolean indexers\u001b[0m\u001b[1;33m\u001b[0m\u001b[1;33m\u001b[0m\u001b[0m\n",
      "\u001b[1;32m~\\anaconda3\\lib\\site-packages\\pandas\\core\\indexing.py\u001b[0m in \u001b[0;36m_get_listlike_indexer\u001b[1;34m(self, key, axis)\u001b[0m\n\u001b[0;32m   1312\u001b[0m             \u001b[0mkeyarr\u001b[0m\u001b[1;33m,\u001b[0m \u001b[0mindexer\u001b[0m\u001b[1;33m,\u001b[0m \u001b[0mnew_indexer\u001b[0m \u001b[1;33m=\u001b[0m \u001b[0max\u001b[0m\u001b[1;33m.\u001b[0m\u001b[0m_reindex_non_unique\u001b[0m\u001b[1;33m(\u001b[0m\u001b[0mkeyarr\u001b[0m\u001b[1;33m)\u001b[0m\u001b[1;33m\u001b[0m\u001b[1;33m\u001b[0m\u001b[0m\n\u001b[0;32m   1313\u001b[0m \u001b[1;33m\u001b[0m\u001b[0m\n\u001b[1;32m-> 1314\u001b[1;33m         \u001b[0mself\u001b[0m\u001b[1;33m.\u001b[0m\u001b[0m_validate_read_indexer\u001b[0m\u001b[1;33m(\u001b[0m\u001b[0mkeyarr\u001b[0m\u001b[1;33m,\u001b[0m \u001b[0mindexer\u001b[0m\u001b[1;33m,\u001b[0m \u001b[0maxis\u001b[0m\u001b[1;33m)\u001b[0m\u001b[1;33m\u001b[0m\u001b[1;33m\u001b[0m\u001b[0m\n\u001b[0m\u001b[0;32m   1315\u001b[0m \u001b[1;33m\u001b[0m\u001b[0m\n\u001b[0;32m   1316\u001b[0m         if needs_i8_conversion(ax.dtype) or isinstance(\n",
      "\u001b[1;32m~\\anaconda3\\lib\\site-packages\\pandas\\core\\indexing.py\u001b[0m in \u001b[0;36m_validate_read_indexer\u001b[1;34m(self, key, indexer, axis)\u001b[0m\n\u001b[0;32m   1372\u001b[0m                 \u001b[1;32mif\u001b[0m \u001b[0muse_interval_msg\u001b[0m\u001b[1;33m:\u001b[0m\u001b[1;33m\u001b[0m\u001b[1;33m\u001b[0m\u001b[0m\n\u001b[0;32m   1373\u001b[0m                     \u001b[0mkey\u001b[0m \u001b[1;33m=\u001b[0m \u001b[0mlist\u001b[0m\u001b[1;33m(\u001b[0m\u001b[0mkey\u001b[0m\u001b[1;33m)\u001b[0m\u001b[1;33m\u001b[0m\u001b[1;33m\u001b[0m\u001b[0m\n\u001b[1;32m-> 1374\u001b[1;33m                 \u001b[1;32mraise\u001b[0m \u001b[0mKeyError\u001b[0m\u001b[1;33m(\u001b[0m\u001b[1;34mf\"None of [{key}] are in the [{axis_name}]\"\u001b[0m\u001b[1;33m)\u001b[0m\u001b[1;33m\u001b[0m\u001b[1;33m\u001b[0m\u001b[0m\n\u001b[0m\u001b[0;32m   1375\u001b[0m \u001b[1;33m\u001b[0m\u001b[0m\n\u001b[0;32m   1376\u001b[0m             \u001b[0mnot_found\u001b[0m \u001b[1;33m=\u001b[0m \u001b[0mlist\u001b[0m\u001b[1;33m(\u001b[0m\u001b[0mensure_index\u001b[0m\u001b[1;33m(\u001b[0m\u001b[0mkey\u001b[0m\u001b[1;33m)\u001b[0m\u001b[1;33m[\u001b[0m\u001b[0mmissing_mask\u001b[0m\u001b[1;33m.\u001b[0m\u001b[0mnonzero\u001b[0m\u001b[1;33m(\u001b[0m\u001b[1;33m)\u001b[0m\u001b[1;33m[\u001b[0m\u001b[1;36m0\u001b[0m\u001b[1;33m]\u001b[0m\u001b[1;33m]\u001b[0m\u001b[1;33m.\u001b[0m\u001b[0munique\u001b[0m\u001b[1;33m(\u001b[0m\u001b[1;33m)\u001b[0m\u001b[1;33m)\u001b[0m\u001b[1;33m\u001b[0m\u001b[1;33m\u001b[0m\u001b[0m\n",
      "\u001b[1;31mKeyError\u001b[0m: \"None of [Index(['BR', 'CH'], dtype='object')] are in the [columns]\""
     ]
    }
   ],
   "source": [
    "print(bricsFile[['BR', 'CH']])"
   ]
  },
  {
   "cell_type": "code",
   "execution_count": 108,
   "id": "c9ef8269",
   "metadata": {},
   "outputs": [
    {
     "name": "stdout",
     "output_type": "stream",
     "text": [
      "   country   capital   area  population COUNTRY COUNTRY2 COUNTYR COUNTRY3  \\\n",
      "BR  Brazil  Brasilia  8.516       200.4  BRAZIL      NaN  BRAZIL   BRAZIL   \n",
      "CH   China   Beijing  9.597      1357.0   CHINA      NaN   CHINA    CHINA   \n",
      "\n",
      "     CAPITAL  CAPITAL2  CAPITAL3  CAPITAL4  CAPITAL5  \n",
      "BR  BRASILIA  BRASILIA  BRASILIA  BRASILIA  BRASILIA  \n",
      "CH   BEIJING   BEIJING   BEIJING   BEIJING   BEIJING  \n"
     ]
    }
   ],
   "source": [
    "print(bricsFile.loc[['BR', 'CH']])"
   ]
  },
  {
   "cell_type": "code",
   "execution_count": 1,
   "id": "9881eb6d",
   "metadata": {},
   "outputs": [
    {
     "ename": "ModuleNotFoundError",
     "evalue": "No module named 'mysql'",
     "output_type": "error",
     "traceback": [
      "\u001b[1;31m---------------------------------------------------------------------------\u001b[0m",
      "\u001b[1;31mModuleNotFoundError\u001b[0m                       Traceback (most recent call last)",
      "\u001b[1;32m~\\AppData\\Local\\Temp/ipykernel_19364/2911472787.py\u001b[0m in \u001b[0;36m<module>\u001b[1;34m\u001b[0m\n\u001b[1;32m----> 1\u001b[1;33m \u001b[1;32mimport\u001b[0m \u001b[0mmysql\u001b[0m\u001b[1;33m.\u001b[0m\u001b[0mconnector\u001b[0m \u001b[1;32mas\u001b[0m \u001b[0mmysql\u001b[0m\u001b[1;33m\u001b[0m\u001b[1;33m\u001b[0m\u001b[0m\n\u001b[0m",
      "\u001b[1;31mModuleNotFoundError\u001b[0m: No module named 'mysql'"
     ]
    }
   ],
   "source": [
    "import mysql.connector as mysql\n"
   ]
  },
  {
   "cell_type": "code",
   "execution_count": 2,
   "id": "4650f5fe",
   "metadata": {},
   "outputs": [],
   "source": [
    "import requests"
   ]
  },
  {
   "cell_type": "code",
   "execution_count": 3,
   "id": "a7b85cc1",
   "metadata": {},
   "outputs": [
    {
     "name": "stdout",
     "output_type": "stream",
     "text": [
      "<Response [200]>\n"
     ]
    }
   ],
   "source": [
    "data=requests.get(\"http://api.open-notify.org/iss-now.json\")\n",
    "print(data)"
   ]
  },
  {
   "cell_type": "code",
   "execution_count": 4,
   "id": "bc35bffb",
   "metadata": {},
   "outputs": [
    {
     "data": {
      "text/plain": [
       "<bound method Response.json of <Response [200]>>"
      ]
     },
     "execution_count": 4,
     "metadata": {},
     "output_type": "execute_result"
    }
   ],
   "source": [
    "data.json"
   ]
  },
  {
   "cell_type": "code",
   "execution_count": 5,
   "id": "6b847b5e",
   "metadata": {},
   "outputs": [
    {
     "data": {
      "text/plain": [
       "{'message': 'success',\n",
       " 'timestamp': 1655569723,\n",
       " 'iss_position': {'longitude': '-57.8685', 'latitude': '45.2210'}}"
      ]
     },
     "execution_count": 5,
     "metadata": {},
     "output_type": "execute_result"
    }
   ],
   "source": [
    "data.json()"
   ]
  },
  {
   "cell_type": "code",
   "execution_count": 6,
   "id": "25f21df5",
   "metadata": {},
   "outputs": [
    {
     "data": {
      "text/plain": [
       "dict"
      ]
     },
     "execution_count": 6,
     "metadata": {},
     "output_type": "execute_result"
    }
   ],
   "source": [
    "type(data.json())"
   ]
  },
  {
   "cell_type": "code",
   "execution_count": 7,
   "id": "a171d593",
   "metadata": {},
   "outputs": [],
   "source": [
    "data=data.json()"
   ]
  },
  {
   "cell_type": "code",
   "execution_count": 8,
   "id": "d0240314",
   "metadata": {},
   "outputs": [
    {
     "ename": "AttributeError",
     "evalue": "'dict' object has no attribute 'json'",
     "output_type": "error",
     "traceback": [
      "\u001b[1;31m---------------------------------------------------------------------------\u001b[0m",
      "\u001b[1;31mAttributeError\u001b[0m                            Traceback (most recent call last)",
      "\u001b[1;32m~\\AppData\\Local\\Temp/ipykernel_19364/3613016552.py\u001b[0m in \u001b[0;36m<module>\u001b[1;34m\u001b[0m\n\u001b[1;32m----> 1\u001b[1;33m \u001b[0mdata\u001b[0m\u001b[1;33m.\u001b[0m\u001b[0mjson\u001b[0m\u001b[1;33m(\u001b[0m\u001b[1;33m)\u001b[0m\u001b[1;33m\u001b[0m\u001b[1;33m\u001b[0m\u001b[0m\n\u001b[0m",
      "\u001b[1;31mAttributeError\u001b[0m: 'dict' object has no attribute 'json'"
     ]
    }
   ],
   "source": [
    "\n"
   ]
  },
  {
   "cell_type": "code",
   "execution_count": 9,
   "id": "a36d540d",
   "metadata": {},
   "outputs": [
    {
     "ename": "AttributeError",
     "evalue": "'dict' object has no attribute 'json'",
     "output_type": "error",
     "traceback": [
      "\u001b[1;31m---------------------------------------------------------------------------\u001b[0m",
      "\u001b[1;31mAttributeError\u001b[0m                            Traceback (most recent call last)",
      "\u001b[1;32m~\\AppData\\Local\\Temp/ipykernel_19364/421513400.py\u001b[0m in \u001b[0;36m<module>\u001b[1;34m\u001b[0m\n\u001b[1;32m----> 1\u001b[1;33m \u001b[0mdata\u001b[0m\u001b[1;33m=\u001b[0m\u001b[0mdata\u001b[0m\u001b[1;33m.\u001b[0m\u001b[0mjson\u001b[0m\u001b[1;33m(\u001b[0m\u001b[1;33m)\u001b[0m\u001b[1;33m\u001b[0m\u001b[1;33m\u001b[0m\u001b[0m\n\u001b[0m\u001b[0;32m      2\u001b[0m \u001b[0mprint\u001b[0m\u001b[1;33m(\u001b[0m\u001b[0mdata\u001b[0m\u001b[1;33m)\u001b[0m\u001b[1;33m\u001b[0m\u001b[1;33m\u001b[0m\u001b[0m\n",
      "\u001b[1;31mAttributeError\u001b[0m: 'dict' object has no attribute 'json'"
     ]
    }
   ],
   "source": [
    "data=data.json()\n",
    "print(data)"
   ]
  },
  {
   "cell_type": "code",
   "execution_count": 10,
   "id": "7cb90a65",
   "metadata": {},
   "outputs": [
    {
     "name": "stdout",
     "output_type": "stream",
     "text": [
      "<Response [200]>\n"
     ]
    }
   ],
   "source": [
    "data=requests.get(\"http://api.open-notify.org/iss-now.json\")\n",
    "print(data)\n"
   ]
  },
  {
   "cell_type": "code",
   "execution_count": 11,
   "id": "a6cbc185",
   "metadata": {},
   "outputs": [
    {
     "name": "stdout",
     "output_type": "stream",
     "text": [
      "{'message': 'success', 'timestamp': 1655570123, 'iss_position': {'longitude': '-33.3466', 'latitude': '29.5944'}}\n"
     ]
    }
   ],
   "source": [
    "data=data.json()\n",
    "print(data)"
   ]
  },
  {
   "cell_type": "code",
   "execution_count": 12,
   "id": "3a94598a",
   "metadata": {},
   "outputs": [
    {
     "data": {
      "text/plain": [
       "'-33.3466'"
      ]
     },
     "execution_count": 12,
     "metadata": {},
     "output_type": "execute_result"
    }
   ],
   "source": [
    "#parsing\n",
    "#convert data into dataframe\n",
    "data['iss_position']['longitude']"
   ]
  },
  {
   "cell_type": "code",
   "execution_count": 13,
   "id": "10f33b89",
   "metadata": {},
   "outputs": [
    {
     "name": "stdout",
     "output_type": "stream",
     "text": [
      "{'Meta Data': {'1. Information': 'Intraday (5min) open, high, low, close prices and volume', '2. Symbol': 'IBM', '3. Last Refreshed': '2022-06-17 19:35:00', '4. Interval': '5min', '5. Output Size': 'Compact', '6. Time Zone': 'US/Eastern'}, 'Time Series (5min)': {'2022-06-17 19:35:00': {'1. open': '135.4800', '2. high': '135.4800', '3. low': '135.4800', '4. close': '135.4800', '5. volume': '300'}, '2022-06-17 18:45:00': {'1. open': '135.5000', '2. high': '135.5000', '3. low': '135.5000', '4. close': '135.5000', '5. volume': '650'}, '2022-06-17 17:55:00': {'1. open': '135.0200', '2. high': '135.0200', '3. low': '135.0200', '4. close': '135.0200', '5. volume': '3301'}, '2022-06-17 17:35:00': {'1. open': '135.0400', '2. high': '135.0400', '3. low': '135.0400', '4. close': '135.0400', '5. volume': '301'}, '2022-06-17 17:15:00': {'1. open': '135.0400', '2. high': '135.0400', '3. low': '135.0400', '4. close': '135.0400', '5. volume': '400'}, '2022-06-17 17:10:00': {'1. open': '135.0700', '2. high': '135.0700', '3. low': '135.0500', '4. close': '135.0500', '5. volume': '1305'}, '2022-06-17 17:05:00': {'1. open': '135.2699', '2. high': '135.2699', '3. low': '135.2699', '4. close': '135.2699', '5. volume': '100'}, '2022-06-17 17:00:00': {'1. open': '135.1500', '2. high': '135.1500', '3. low': '135.1500', '4. close': '135.1500', '5. volume': '1173'}, '2022-06-17 16:30:00': {'1. open': '135.0200', '2. high': '135.3001', '3. low': '135.0200', '4. close': '135.3000', '5. volume': '6162'}, '2022-06-17 16:25:00': {'1. open': '135.0297', '2. high': '135.3000', '3. low': '135.0103', '4. close': '135.3000', '5. volume': '2944'}, '2022-06-17 16:15:00': {'1. open': '135.0200', '2. high': '135.0200', '3. low': '135.0200', '4. close': '135.0200', '5. volume': '135'}, '2022-06-17 16:10:00': {'1. open': '135.0200', '2. high': '135.0200', '3. low': '135.0200', '4. close': '135.0200', '5. volume': '338869'}, '2022-06-17 16:05:00': {'1. open': '135.0200', '2. high': '135.0200', '3. low': '135.0200', '4. close': '135.0200', '5. volume': '1337873'}, '2022-06-17 16:00:00': {'1. open': '135.1701', '2. high': '135.2950', '3. low': '134.9700', '4. close': '135.0200', '5. volume': '410618'}, '2022-06-17 15:55:00': {'1. open': '135.7700', '2. high': '135.7700', '3. low': '135.1200', '4. close': '135.2200', '5. volume': '188867'}, '2022-06-17 15:50:00': {'1. open': '135.8900', '2. high': '135.9000', '3. low': '135.6650', '4. close': '135.7800', '5. volume': '119475'}, '2022-06-17 15:45:00': {'1. open': '136.1950', '2. high': '136.1950', '3. low': '135.8100', '4. close': '135.9000', '5. volume': '108974'}, '2022-06-17 15:40:00': {'1. open': '136.0253', '2. high': '136.2700', '3. low': '136.0100', '4. close': '136.1900', '5. volume': '107961'}, '2022-06-17 15:35:00': {'1. open': '136.1350', '2. high': '136.1900', '3. low': '135.8100', '4. close': '136.0100', '5. volume': '93531'}, '2022-06-17 15:30:00': {'1. open': '136.0100', '2. high': '136.2600', '3. low': '136.0100', '4. close': '136.1160', '5. volume': '70007'}, '2022-06-17 15:25:00': {'1. open': '135.6050', '2. high': '136.1300', '3. low': '135.5700', '4. close': '136.0400', '5. volume': '70718'}, '2022-06-17 15:20:00': {'1. open': '135.3550', '2. high': '135.6200', '3. low': '135.2750', '4. close': '135.6050', '5. volume': '82171'}, '2022-06-17 15:15:00': {'1. open': '135.7100', '2. high': '135.7200', '3. low': '135.2500', '4. close': '135.3400', '5. volume': '55102'}, '2022-06-17 15:10:00': {'1. open': '135.6900', '2. high': '135.8200', '3. low': '135.5600', '4. close': '135.7100', '5. volume': '50392'}, '2022-06-17 15:05:00': {'1. open': '135.5900', '2. high': '135.8800', '3. low': '135.5800', '4. close': '135.6600', '5. volume': '88377'}, '2022-06-17 15:00:00': {'1. open': '135.9200', '2. high': '135.9800', '3. low': '135.4900', '4. close': '135.5771', '5. volume': '80440'}, '2022-06-17 14:55:00': {'1. open': '136.0650', '2. high': '136.0650', '3. low': '135.7550', '4. close': '135.9300', '5. volume': '78773'}, '2022-06-17 14:50:00': {'1. open': '136.0900', '2. high': '136.1337', '3. low': '135.9600', '4. close': '136.0800', '5. volume': '47953'}, '2022-06-17 14:45:00': {'1. open': '136.0800', '2. high': '136.3900', '3. low': '136.0800', '4. close': '136.1160', '5. volume': '61783'}, '2022-06-17 14:40:00': {'1. open': '135.7000', '2. high': '136.0300', '3. low': '135.6500', '4. close': '136.0300', '5. volume': '42914'}, '2022-06-17 14:35:00': {'1. open': '135.7200', '2. high': '135.7850', '3. low': '135.5100', '4. close': '135.6800', '5. volume': '53868'}, '2022-06-17 14:30:00': {'1. open': '135.8800', '2. high': '135.9800', '3. low': '135.6800', '4. close': '135.7200', '5. volume': '73560'}, '2022-06-17 14:25:00': {'1. open': '135.6700', '2. high': '135.9500', '3. low': '135.6400', '4. close': '135.8600', '5. volume': '43385'}, '2022-06-17 14:20:00': {'1. open': '135.6600', '2. high': '135.9000', '3. low': '135.5400', '4. close': '135.6700', '5. volume': '106467'}, '2022-06-17 14:15:00': {'1. open': '135.4000', '2. high': '135.6557', '3. low': '135.3800', '4. close': '135.6450', '5. volume': '43818'}, '2022-06-17 14:10:00': {'1. open': '135.1800', '2. high': '135.4300', '3. low': '135.1200', '4. close': '135.4150', '5. volume': '44562'}, '2022-06-17 14:05:00': {'1. open': '135.0650', '2. high': '135.2599', '3. low': '134.9800', '4. close': '135.2041', '5. volume': '54036'}, '2022-06-17 14:00:00': {'1. open': '134.8100', '2. high': '135.1597', '3. low': '134.8100', '4. close': '135.0393', '5. volume': '30698'}, '2022-06-17 13:55:00': {'1. open': '134.7100', '2. high': '134.9500', '3. low': '134.6800', '4. close': '134.8400', '5. volume': '28142'}, '2022-06-17 13:50:00': {'1. open': '134.7700', '2. high': '134.8161', '3. low': '134.4500', '4. close': '134.6700', '5. volume': '25742'}, '2022-06-17 13:45:00': {'1. open': '134.6500', '2. high': '134.8500', '3. low': '134.6100', '4. close': '134.7800', '5. volume': '23435'}, '2022-06-17 13:40:00': {'1. open': '134.7300', '2. high': '134.8600', '3. low': '134.5900', '4. close': '134.6300', '5. volume': '26807'}, '2022-06-17 13:35:00': {'1. open': '134.7700', '2. high': '134.8300', '3. low': '134.5400', '4. close': '134.7600', '5. volume': '26329'}, '2022-06-17 13:30:00': {'1. open': '134.8700', '2. high': '134.8700', '3. low': '134.6400', '4. close': '134.7700', '5. volume': '35223'}, '2022-06-17 13:25:00': {'1. open': '134.8500', '2. high': '134.9000', '3. low': '134.6800', '4. close': '134.8950', '5. volume': '33539'}, '2022-06-17 13:20:00': {'1. open': '134.9300', '2. high': '134.9610', '3. low': '134.7500', '4. close': '134.8559', '5. volume': '36800'}, '2022-06-17 13:15:00': {'1. open': '134.8600', '2. high': '135.0750', '3. low': '134.7700', '4. close': '134.9596', '5. volume': '35570'}, '2022-06-17 13:10:00': {'1. open': '134.4500', '2. high': '134.9000', '3. low': '134.4300', '4. close': '134.8900', '5. volume': '47374'}, '2022-06-17 13:05:00': {'1. open': '134.1500', '2. high': '134.4500', '3. low': '134.1000', '4. close': '134.4400', '5. volume': '30265'}, '2022-06-17 13:00:00': {'1. open': '133.8500', '2. high': '134.1300', '3. low': '133.8200', '4. close': '134.1300', '5. volume': '34507'}, '2022-06-17 12:55:00': {'1. open': '133.9600', '2. high': '133.9800', '3. low': '133.7300', '4. close': '133.8400', '5. volume': '55198'}, '2022-06-17 12:50:00': {'1. open': '134.0200', '2. high': '134.0500', '3. low': '133.8631', '4. close': '133.9750', '5. volume': '33025'}, '2022-06-17 12:45:00': {'1. open': '134.0700', '2. high': '134.1800', '3. low': '133.7800', '4. close': '133.9800', '5. volume': '40269'}, '2022-06-17 12:40:00': {'1. open': '133.9700', '2. high': '134.0700', '3. low': '133.7500', '4. close': '134.0450', '5. volume': '39584'}, '2022-06-17 12:35:00': {'1. open': '134.2100', '2. high': '134.2400', '3. low': '133.9200', '4. close': '133.9500', '5. volume': '48850'}, '2022-06-17 12:30:00': {'1. open': '134.1100', '2. high': '134.2800', '3. low': '134.0200', '4. close': '134.1800', '5. volume': '30651'}, '2022-06-17 12:25:00': {'1. open': '133.9086', '2. high': '134.1400', '3. low': '133.8500', '4. close': '134.1200', '5. volume': '31232'}, '2022-06-17 12:20:00': {'1. open': '134.0400', '2. high': '134.1900', '3. low': '133.8100', '4. close': '133.8900', '5. volume': '36472'}, '2022-06-17 12:15:00': {'1. open': '133.6800', '2. high': '134.0300', '3. low': '133.5800', '4. close': '134.0100', '5. volume': '31068'}, '2022-06-17 12:10:00': {'1. open': '133.6500', '2. high': '133.8000', '3. low': '133.4500', '4. close': '133.6700', '5. volume': '33506'}, '2022-06-17 12:05:00': {'1. open': '133.5900', '2. high': '133.6000', '3. low': '133.4000', '4. close': '133.5900', '5. volume': '38808'}, '2022-06-17 12:00:00': {'1. open': '133.5500', '2. high': '133.7300', '3. low': '133.4400', '4. close': '133.6200', '5. volume': '48586'}, '2022-06-17 11:55:00': {'1. open': '133.9200', '2. high': '134.0050', '3. low': '133.4600', '4. close': '133.5500', '5. volume': '57818'}, '2022-06-17 11:50:00': {'1. open': '134.1500', '2. high': '134.1600', '3. low': '133.8700', '4. close': '133.9400', '5. volume': '49174'}, '2022-06-17 11:45:00': {'1. open': '134.4200', '2. high': '134.4900', '3. low': '134.2200', '4. close': '134.2290', '5. volume': '37253'}, '2022-06-17 11:40:00': {'1. open': '134.5700', '2. high': '134.6100', '3. low': '134.2000', '4. close': '134.4000', '5. volume': '36297'}, '2022-06-17 11:35:00': {'1. open': '134.3700', '2. high': '134.7600', '3. low': '134.3500', '4. close': '134.5800', '5. volume': '48270'}, '2022-06-17 11:30:00': {'1. open': '134.0000', '2. high': '134.3900', '3. low': '133.8491', '4. close': '134.3301', '5. volume': '41195'}, '2022-06-17 11:25:00': {'1. open': '134.3282', '2. high': '134.3650', '3. low': '133.9450', '4. close': '134.0100', '5. volume': '39876'}, '2022-06-17 11:20:00': {'1. open': '134.0800', '2. high': '134.4400', '3. low': '134.0300', '4. close': '134.3300', '5. volume': '45482'}, '2022-06-17 11:15:00': {'1. open': '133.9850', '2. high': '134.1100', '3. low': '133.8800', '4. close': '134.0800', '5. volume': '39032'}, '2022-06-17 11:10:00': {'1. open': '133.6850', '2. high': '134.0700', '3. low': '133.6850', '4. close': '133.9500', '5. volume': '53616'}, '2022-06-17 11:05:00': {'1. open': '133.3000', '2. high': '133.8500', '3. low': '133.1750', '4. close': '133.7400', '5. volume': '48661'}, '2022-06-17 11:00:00': {'1. open': '133.4000', '2. high': '133.5164', '3. low': '133.2100', '4. close': '133.3200', '5. volume': '65861'}, '2022-06-17 10:55:00': {'1. open': '133.2750', '2. high': '133.4300', '3. low': '133.1800', '4. close': '133.3900', '5. volume': '51073'}, '2022-06-17 10:50:00': {'1. open': '133.4900', '2. high': '133.6600', '3. low': '132.9400', '4. close': '133.2550', '5. volume': '55002'}, '2022-06-17 10:45:00': {'1. open': '133.2600', '2. high': '133.4900', '3. low': '132.8500', '4. close': '133.4900', '5. volume': '138285'}, '2022-06-17 10:40:00': {'1. open': '133.8800', '2. high': '133.9100', '3. low': '133.2500', '4. close': '133.2700', '5. volume': '109784'}, '2022-06-17 10:35:00': {'1. open': '134.3850', '2. high': '134.4600', '3. low': '133.8800', '4. close': '133.8800', '5. volume': '57660'}, '2022-06-17 10:30:00': {'1. open': '134.5800', '2. high': '134.6800', '3. low': '134.2600', '4. close': '134.4000', '5. volume': '69296'}, '2022-06-17 10:25:00': {'1. open': '134.9900', '2. high': '134.9900', '3. low': '134.5100', '4. close': '134.6000', '5. volume': '49106'}, '2022-06-17 10:20:00': {'1. open': '135.3300', '2. high': '135.3500', '3. low': '134.9500', '4. close': '135.0100', '5. volume': '51887'}, '2022-06-17 10:15:00': {'1. open': '135.6550', '2. high': '135.6900', '3. low': '135.3300', '4. close': '135.3300', '5. volume': '30787'}, '2022-06-17 10:10:00': {'1. open': '135.6500', '2. high': '135.7100', '3. low': '135.4600', '4. close': '135.6000', '5. volume': '48457'}, '2022-06-17 10:05:00': {'1. open': '135.9650', '2. high': '136.1600', '3. low': '135.5632', '4. close': '135.6300', '5. volume': '62539'}, '2022-06-17 10:00:00': {'1. open': '136.6600', '2. high': '136.7200', '3. low': '135.9437', '4. close': '135.9650', '5. volume': '48165'}, '2022-06-17 09:55:00': {'1. open': '136.3600', '2. high': '136.7700', '3. low': '136.0600', '4. close': '136.6700', '5. volume': '62242'}, '2022-06-17 09:50:00': {'1. open': '136.7879', '2. high': '136.9300', '3. low': '136.2910', '4. close': '136.3800', '5. volume': '72909'}, '2022-06-17 09:45:00': {'1. open': '136.5300', '2. high': '136.9800', '3. low': '136.5300', '4. close': '136.8100', '5. volume': '42176'}, '2022-06-17 09:40:00': {'1. open': '136.7700', '2. high': '136.8100', '3. low': '136.3729', '4. close': '136.5100', '5. volume': '55156'}, '2022-06-17 09:35:00': {'1. open': '135.9900', '2. high': '136.8400', '3. low': '135.7700', '4. close': '136.7851', '5. volume': '977182'}, '2022-06-17 09:30:00': {'1. open': '135.7300', '2. high': '135.9800', '3. low': '135.7300', '4. close': '135.9800', '5. volume': '1273'}, '2022-06-17 09:15:00': {'1. open': '135.5000', '2. high': '135.5000', '3. low': '135.5000', '4. close': '135.5000', '5. volume': '270'}, '2022-06-17 09:05:00': {'1. open': '135.5097', '2. high': '135.5097', '3. low': '135.5097', '4. close': '135.5097', '5. volume': '500'}, '2022-06-17 09:00:00': {'1. open': '135.7400', '2. high': '136.2500', '3. low': '135.7400', '4. close': '136.2500', '5. volume': '827'}, '2022-06-17 08:45:00': {'1. open': '136.0000', '2. high': '136.0000', '3. low': '135.7400', '4. close': '135.7400', '5. volume': '827'}, '2022-06-17 08:35:00': {'1. open': '136.2500', '2. high': '136.2500', '3. low': '136.2499', '4. close': '136.2499', '5. volume': '454'}, '2022-06-17 08:30:00': {'1. open': '136.2499', '2. high': '136.2499', '3. low': '136.2499', '4. close': '136.2499', '5. volume': '105'}, '2022-06-17 08:20:00': {'1. open': '136.2500', '2. high': '136.2500', '3. low': '136.2500', '4. close': '136.2500', '5. volume': '173'}, '2022-06-17 08:10:00': {'1. open': '136.2500', '2. high': '136.2500', '3. low': '136.2500', '4. close': '136.2500', '5. volume': '100'}}}\n"
     ]
    }
   ],
   "source": [
    "import requests\n",
    "\n",
    "# replace the \"demo\" apikey below with your own key from https://www.alphavantage.co/support/#api-key\n",
    "url = 'https://www.alphavantage.co/query?function=TIME_SERIES_INTRADAY&symbol=IBM&interval=5min&apikey=demo'\n",
    "r = requests.get(url)\n",
    "data = r.json()\n",
    "\n",
    "print(data)"
   ]
  },
  {
   "cell_type": "code",
   "execution_count": 14,
   "id": "0e49c6b9",
   "metadata": {},
   "outputs": [
    {
     "name": "stdout",
     "output_type": "stream",
     "text": [
      "{'Meta Data': {'1. Information': 'Intraday (5min) open, high, low, close prices and volume', '2. Symbol': 'IBM', '3. Last Refreshed': '2022-06-17 19:35:00', '4. Interval': '5min', '5. Output Size': 'Compact', '6. Time Zone': 'US/Eastern'}, 'Time Series (5min)': {'2022-06-17 19:35:00': {'1. open': '135.4800', '2. high': '135.4800', '3. low': '135.4800', '4. close': '135.4800', '5. volume': '300'}, '2022-06-17 18:45:00': {'1. open': '135.5000', '2. high': '135.5000', '3. low': '135.5000', '4. close': '135.5000', '5. volume': '650'}, '2022-06-17 17:55:00': {'1. open': '135.0200', '2. high': '135.0200', '3. low': '135.0200', '4. close': '135.0200', '5. volume': '3301'}, '2022-06-17 17:35:00': {'1. open': '135.0400', '2. high': '135.0400', '3. low': '135.0400', '4. close': '135.0400', '5. volume': '301'}, '2022-06-17 17:15:00': {'1. open': '135.0400', '2. high': '135.0400', '3. low': '135.0400', '4. close': '135.0400', '5. volume': '400'}, '2022-06-17 17:10:00': {'1. open': '135.0700', '2. high': '135.0700', '3. low': '135.0500', '4. close': '135.0500', '5. volume': '1305'}, '2022-06-17 17:05:00': {'1. open': '135.2699', '2. high': '135.2699', '3. low': '135.2699', '4. close': '135.2699', '5. volume': '100'}, '2022-06-17 17:00:00': {'1. open': '135.1500', '2. high': '135.1500', '3. low': '135.1500', '4. close': '135.1500', '5. volume': '1173'}, '2022-06-17 16:30:00': {'1. open': '135.0200', '2. high': '135.3001', '3. low': '135.0200', '4. close': '135.3000', '5. volume': '6162'}, '2022-06-17 16:25:00': {'1. open': '135.0297', '2. high': '135.3000', '3. low': '135.0103', '4. close': '135.3000', '5. volume': '2944'}, '2022-06-17 16:15:00': {'1. open': '135.0200', '2. high': '135.0200', '3. low': '135.0200', '4. close': '135.0200', '5. volume': '135'}, '2022-06-17 16:10:00': {'1. open': '135.0200', '2. high': '135.0200', '3. low': '135.0200', '4. close': '135.0200', '5. volume': '338869'}, '2022-06-17 16:05:00': {'1. open': '135.0200', '2. high': '135.0200', '3. low': '135.0200', '4. close': '135.0200', '5. volume': '1337873'}, '2022-06-17 16:00:00': {'1. open': '135.1701', '2. high': '135.2950', '3. low': '134.9700', '4. close': '135.0200', '5. volume': '410618'}, '2022-06-17 15:55:00': {'1. open': '135.7700', '2. high': '135.7700', '3. low': '135.1200', '4. close': '135.2200', '5. volume': '188867'}, '2022-06-17 15:50:00': {'1. open': '135.8900', '2. high': '135.9000', '3. low': '135.6650', '4. close': '135.7800', '5. volume': '119475'}, '2022-06-17 15:45:00': {'1. open': '136.1950', '2. high': '136.1950', '3. low': '135.8100', '4. close': '135.9000', '5. volume': '108974'}, '2022-06-17 15:40:00': {'1. open': '136.0253', '2. high': '136.2700', '3. low': '136.0100', '4. close': '136.1900', '5. volume': '107961'}, '2022-06-17 15:35:00': {'1. open': '136.1350', '2. high': '136.1900', '3. low': '135.8100', '4. close': '136.0100', '5. volume': '93531'}, '2022-06-17 15:30:00': {'1. open': '136.0100', '2. high': '136.2600', '3. low': '136.0100', '4. close': '136.1160', '5. volume': '70007'}, '2022-06-17 15:25:00': {'1. open': '135.6050', '2. high': '136.1300', '3. low': '135.5700', '4. close': '136.0400', '5. volume': '70718'}, '2022-06-17 15:20:00': {'1. open': '135.3550', '2. high': '135.6200', '3. low': '135.2750', '4. close': '135.6050', '5. volume': '82171'}, '2022-06-17 15:15:00': {'1. open': '135.7100', '2. high': '135.7200', '3. low': '135.2500', '4. close': '135.3400', '5. volume': '55102'}, '2022-06-17 15:10:00': {'1. open': '135.6900', '2. high': '135.8200', '3. low': '135.5600', '4. close': '135.7100', '5. volume': '50392'}, '2022-06-17 15:05:00': {'1. open': '135.5900', '2. high': '135.8800', '3. low': '135.5800', '4. close': '135.6600', '5. volume': '88377'}, '2022-06-17 15:00:00': {'1. open': '135.9200', '2. high': '135.9800', '3. low': '135.4900', '4. close': '135.5771', '5. volume': '80440'}, '2022-06-17 14:55:00': {'1. open': '136.0650', '2. high': '136.0650', '3. low': '135.7550', '4. close': '135.9300', '5. volume': '78773'}, '2022-06-17 14:50:00': {'1. open': '136.0900', '2. high': '136.1337', '3. low': '135.9600', '4. close': '136.0800', '5. volume': '47953'}, '2022-06-17 14:45:00': {'1. open': '136.0800', '2. high': '136.3900', '3. low': '136.0800', '4. close': '136.1160', '5. volume': '61783'}, '2022-06-17 14:40:00': {'1. open': '135.7000', '2. high': '136.0300', '3. low': '135.6500', '4. close': '136.0300', '5. volume': '42914'}, '2022-06-17 14:35:00': {'1. open': '135.7200', '2. high': '135.7850', '3. low': '135.5100', '4. close': '135.6800', '5. volume': '53868'}, '2022-06-17 14:30:00': {'1. open': '135.8800', '2. high': '135.9800', '3. low': '135.6800', '4. close': '135.7200', '5. volume': '73560'}, '2022-06-17 14:25:00': {'1. open': '135.6700', '2. high': '135.9500', '3. low': '135.6400', '4. close': '135.8600', '5. volume': '43385'}, '2022-06-17 14:20:00': {'1. open': '135.6600', '2. high': '135.9000', '3. low': '135.5400', '4. close': '135.6700', '5. volume': '106467'}, '2022-06-17 14:15:00': {'1. open': '135.4000', '2. high': '135.6557', '3. low': '135.3800', '4. close': '135.6450', '5. volume': '43818'}, '2022-06-17 14:10:00': {'1. open': '135.1800', '2. high': '135.4300', '3. low': '135.1200', '4. close': '135.4150', '5. volume': '44562'}, '2022-06-17 14:05:00': {'1. open': '135.0650', '2. high': '135.2599', '3. low': '134.9800', '4. close': '135.2041', '5. volume': '54036'}, '2022-06-17 14:00:00': {'1. open': '134.8100', '2. high': '135.1597', '3. low': '134.8100', '4. close': '135.0393', '5. volume': '30698'}, '2022-06-17 13:55:00': {'1. open': '134.7100', '2. high': '134.9500', '3. low': '134.6800', '4. close': '134.8400', '5. volume': '28142'}, '2022-06-17 13:50:00': {'1. open': '134.7700', '2. high': '134.8161', '3. low': '134.4500', '4. close': '134.6700', '5. volume': '25742'}, '2022-06-17 13:45:00': {'1. open': '134.6500', '2. high': '134.8500', '3. low': '134.6100', '4. close': '134.7800', '5. volume': '23435'}, '2022-06-17 13:40:00': {'1. open': '134.7300', '2. high': '134.8600', '3. low': '134.5900', '4. close': '134.6300', '5. volume': '26807'}, '2022-06-17 13:35:00': {'1. open': '134.7700', '2. high': '134.8300', '3. low': '134.5400', '4. close': '134.7600', '5. volume': '26329'}, '2022-06-17 13:30:00': {'1. open': '134.8700', '2. high': '134.8700', '3. low': '134.6400', '4. close': '134.7700', '5. volume': '35223'}, '2022-06-17 13:25:00': {'1. open': '134.8500', '2. high': '134.9000', '3. low': '134.6800', '4. close': '134.8950', '5. volume': '33539'}, '2022-06-17 13:20:00': {'1. open': '134.9300', '2. high': '134.9610', '3. low': '134.7500', '4. close': '134.8559', '5. volume': '36800'}, '2022-06-17 13:15:00': {'1. open': '134.8600', '2. high': '135.0750', '3. low': '134.7700', '4. close': '134.9596', '5. volume': '35570'}, '2022-06-17 13:10:00': {'1. open': '134.4500', '2. high': '134.9000', '3. low': '134.4300', '4. close': '134.8900', '5. volume': '47374'}, '2022-06-17 13:05:00': {'1. open': '134.1500', '2. high': '134.4500', '3. low': '134.1000', '4. close': '134.4400', '5. volume': '30265'}, '2022-06-17 13:00:00': {'1. open': '133.8500', '2. high': '134.1300', '3. low': '133.8200', '4. close': '134.1300', '5. volume': '34507'}, '2022-06-17 12:55:00': {'1. open': '133.9600', '2. high': '133.9800', '3. low': '133.7300', '4. close': '133.8400', '5. volume': '55198'}, '2022-06-17 12:50:00': {'1. open': '134.0200', '2. high': '134.0500', '3. low': '133.8631', '4. close': '133.9750', '5. volume': '33025'}, '2022-06-17 12:45:00': {'1. open': '134.0700', '2. high': '134.1800', '3. low': '133.7800', '4. close': '133.9800', '5. volume': '40269'}, '2022-06-17 12:40:00': {'1. open': '133.9700', '2. high': '134.0700', '3. low': '133.7500', '4. close': '134.0450', '5. volume': '39584'}, '2022-06-17 12:35:00': {'1. open': '134.2100', '2. high': '134.2400', '3. low': '133.9200', '4. close': '133.9500', '5. volume': '48850'}, '2022-06-17 12:30:00': {'1. open': '134.1100', '2. high': '134.2800', '3. low': '134.0200', '4. close': '134.1800', '5. volume': '30651'}, '2022-06-17 12:25:00': {'1. open': '133.9086', '2. high': '134.1400', '3. low': '133.8500', '4. close': '134.1200', '5. volume': '31232'}, '2022-06-17 12:20:00': {'1. open': '134.0400', '2. high': '134.1900', '3. low': '133.8100', '4. close': '133.8900', '5. volume': '36472'}, '2022-06-17 12:15:00': {'1. open': '133.6800', '2. high': '134.0300', '3. low': '133.5800', '4. close': '134.0100', '5. volume': '31068'}, '2022-06-17 12:10:00': {'1. open': '133.6500', '2. high': '133.8000', '3. low': '133.4500', '4. close': '133.6700', '5. volume': '33506'}, '2022-06-17 12:05:00': {'1. open': '133.5900', '2. high': '133.6000', '3. low': '133.4000', '4. close': '133.5900', '5. volume': '38808'}, '2022-06-17 12:00:00': {'1. open': '133.5500', '2. high': '133.7300', '3. low': '133.4400', '4. close': '133.6200', '5. volume': '48586'}, '2022-06-17 11:55:00': {'1. open': '133.9200', '2. high': '134.0050', '3. low': '133.4600', '4. close': '133.5500', '5. volume': '57818'}, '2022-06-17 11:50:00': {'1. open': '134.1500', '2. high': '134.1600', '3. low': '133.8700', '4. close': '133.9400', '5. volume': '49174'}, '2022-06-17 11:45:00': {'1. open': '134.4200', '2. high': '134.4900', '3. low': '134.2200', '4. close': '134.2290', '5. volume': '37253'}, '2022-06-17 11:40:00': {'1. open': '134.5700', '2. high': '134.6100', '3. low': '134.2000', '4. close': '134.4000', '5. volume': '36297'}, '2022-06-17 11:35:00': {'1. open': '134.3700', '2. high': '134.7600', '3. low': '134.3500', '4. close': '134.5800', '5. volume': '48270'}, '2022-06-17 11:30:00': {'1. open': '134.0000', '2. high': '134.3900', '3. low': '133.8491', '4. close': '134.3301', '5. volume': '41195'}, '2022-06-17 11:25:00': {'1. open': '134.3282', '2. high': '134.3650', '3. low': '133.9450', '4. close': '134.0100', '5. volume': '39876'}, '2022-06-17 11:20:00': {'1. open': '134.0800', '2. high': '134.4400', '3. low': '134.0300', '4. close': '134.3300', '5. volume': '45482'}, '2022-06-17 11:15:00': {'1. open': '133.9850', '2. high': '134.1100', '3. low': '133.8800', '4. close': '134.0800', '5. volume': '39032'}, '2022-06-17 11:10:00': {'1. open': '133.6850', '2. high': '134.0700', '3. low': '133.6850', '4. close': '133.9500', '5. volume': '53616'}, '2022-06-17 11:05:00': {'1. open': '133.3000', '2. high': '133.8500', '3. low': '133.1750', '4. close': '133.7400', '5. volume': '48661'}, '2022-06-17 11:00:00': {'1. open': '133.4000', '2. high': '133.5164', '3. low': '133.2100', '4. close': '133.3200', '5. volume': '65861'}, '2022-06-17 10:55:00': {'1. open': '133.2750', '2. high': '133.4300', '3. low': '133.1800', '4. close': '133.3900', '5. volume': '51073'}, '2022-06-17 10:50:00': {'1. open': '133.4900', '2. high': '133.6600', '3. low': '132.9400', '4. close': '133.2550', '5. volume': '55002'}, '2022-06-17 10:45:00': {'1. open': '133.2600', '2. high': '133.4900', '3. low': '132.8500', '4. close': '133.4900', '5. volume': '138285'}, '2022-06-17 10:40:00': {'1. open': '133.8800', '2. high': '133.9100', '3. low': '133.2500', '4. close': '133.2700', '5. volume': '109784'}, '2022-06-17 10:35:00': {'1. open': '134.3850', '2. high': '134.4600', '3. low': '133.8800', '4. close': '133.8800', '5. volume': '57660'}, '2022-06-17 10:30:00': {'1. open': '134.5800', '2. high': '134.6800', '3. low': '134.2600', '4. close': '134.4000', '5. volume': '69296'}, '2022-06-17 10:25:00': {'1. open': '134.9900', '2. high': '134.9900', '3. low': '134.5100', '4. close': '134.6000', '5. volume': '49106'}, '2022-06-17 10:20:00': {'1. open': '135.3300', '2. high': '135.3500', '3. low': '134.9500', '4. close': '135.0100', '5. volume': '51887'}, '2022-06-17 10:15:00': {'1. open': '135.6550', '2. high': '135.6900', '3. low': '135.3300', '4. close': '135.3300', '5. volume': '30787'}, '2022-06-17 10:10:00': {'1. open': '135.6500', '2. high': '135.7100', '3. low': '135.4600', '4. close': '135.6000', '5. volume': '48457'}, '2022-06-17 10:05:00': {'1. open': '135.9650', '2. high': '136.1600', '3. low': '135.5632', '4. close': '135.6300', '5. volume': '62539'}, '2022-06-17 10:00:00': {'1. open': '136.6600', '2. high': '136.7200', '3. low': '135.9437', '4. close': '135.9650', '5. volume': '48165'}, '2022-06-17 09:55:00': {'1. open': '136.3600', '2. high': '136.7700', '3. low': '136.0600', '4. close': '136.6700', '5. volume': '62242'}, '2022-06-17 09:50:00': {'1. open': '136.7879', '2. high': '136.9300', '3. low': '136.2910', '4. close': '136.3800', '5. volume': '72909'}, '2022-06-17 09:45:00': {'1. open': '136.5300', '2. high': '136.9800', '3. low': '136.5300', '4. close': '136.8100', '5. volume': '42176'}, '2022-06-17 09:40:00': {'1. open': '136.7700', '2. high': '136.8100', '3. low': '136.3729', '4. close': '136.5100', '5. volume': '55156'}, '2022-06-17 09:35:00': {'1. open': '135.9900', '2. high': '136.8400', '3. low': '135.7700', '4. close': '136.7851', '5. volume': '977182'}, '2022-06-17 09:30:00': {'1. open': '135.7300', '2. high': '135.9800', '3. low': '135.7300', '4. close': '135.9800', '5. volume': '1273'}, '2022-06-17 09:15:00': {'1. open': '135.5000', '2. high': '135.5000', '3. low': '135.5000', '4. close': '135.5000', '5. volume': '270'}, '2022-06-17 09:05:00': {'1. open': '135.5097', '2. high': '135.5097', '3. low': '135.5097', '4. close': '135.5097', '5. volume': '500'}, '2022-06-17 09:00:00': {'1. open': '135.7400', '2. high': '136.2500', '3. low': '135.7400', '4. close': '136.2500', '5. volume': '827'}, '2022-06-17 08:45:00': {'1. open': '136.0000', '2. high': '136.0000', '3. low': '135.7400', '4. close': '135.7400', '5. volume': '827'}, '2022-06-17 08:35:00': {'1. open': '136.2500', '2. high': '136.2500', '3. low': '136.2499', '4. close': '136.2499', '5. volume': '454'}, '2022-06-17 08:30:00': {'1. open': '136.2499', '2. high': '136.2499', '3. low': '136.2499', '4. close': '136.2499', '5. volume': '105'}, '2022-06-17 08:20:00': {'1. open': '136.2500', '2. high': '136.2500', '3. low': '136.2500', '4. close': '136.2500', '5. volume': '173'}, '2022-06-17 08:10:00': {'1. open': '136.2500', '2. high': '136.2500', '3. low': '136.2500', '4. close': '136.2500', '5. volume': '100'}}}\n"
     ]
    }
   ],
   "source": [
    "# replace the \"demo\" apikey below with your own key from https://www.alphavantage.co/support/#api-key\n",
    "url = 'https://www.alphavantage.co/query?function=TIME_SERIES_INTRADAY&symbol=IBM&interval=5min&apikey=YDD44GRGWQL7FODY'\n",
    "r = requests.get(url)\n",
    "data = r.json()\n",
    "\n",
    "print(data)"
   ]
  },
  {
   "cell_type": "code",
   "execution_count": 1,
   "id": "9ca7dd00",
   "metadata": {},
   "outputs": [
    {
     "name": "stderr",
     "output_type": "stream",
     "text": [
      "<>:1: SyntaxWarning: list indices must be integers or slices, not str; perhaps you missed a comma?\n",
      "<>:1: SyntaxWarning: list indices must be integers or slices, not str; perhaps you missed a comma?\n",
      "C:\\Users\\Juli\\AppData\\Local\\Temp/ipykernel_18132/1307453490.py:1: SyntaxWarning: list indices must be integers or slices, not str; perhaps you missed a comma?\n",
      "  print(['Meta Data']['1. Information'])\n"
     ]
    },
    {
     "ename": "TypeError",
     "evalue": "list indices must be integers or slices, not str",
     "output_type": "error",
     "traceback": [
      "\u001b[1;31m---------------------------------------------------------------------------\u001b[0m",
      "\u001b[1;31mTypeError\u001b[0m                                 Traceback (most recent call last)",
      "\u001b[1;32m~\\AppData\\Local\\Temp/ipykernel_18132/1307453490.py\u001b[0m in \u001b[0;36m<module>\u001b[1;34m\u001b[0m\n\u001b[1;32m----> 1\u001b[1;33m \u001b[0mprint\u001b[0m\u001b[1;33m(\u001b[0m\u001b[1;33m[\u001b[0m\u001b[1;34m'Meta Data'\u001b[0m\u001b[1;33m]\u001b[0m\u001b[1;33m[\u001b[0m\u001b[1;34m'1. Information'\u001b[0m\u001b[1;33m]\u001b[0m\u001b[1;33m)\u001b[0m\u001b[1;33m\u001b[0m\u001b[1;33m\u001b[0m\u001b[0m\n\u001b[0m",
      "\u001b[1;31mTypeError\u001b[0m: list indices must be integers or slices, not str"
     ]
    }
   ],
   "source": [
    "print(['Meta Data']['1. Information'])\n"
   ]
  },
  {
   "cell_type": "code",
   "execution_count": 2,
   "id": "a04cdbf0",
   "metadata": {},
   "outputs": [
    {
     "name": "stdout",
     "output_type": "stream",
     "text": [
      "Meta Data\n"
     ]
    }
   ],
   "source": [
    "print(['Meta Data'][0])"
   ]
  },
  {
   "cell_type": "code",
   "execution_count": 3,
   "id": "5b31f054",
   "metadata": {},
   "outputs": [
    {
     "ename": "IndexError",
     "evalue": "list index out of range",
     "output_type": "error",
     "traceback": [
      "\u001b[1;31m---------------------------------------------------------------------------\u001b[0m",
      "\u001b[1;31mIndexError\u001b[0m                                Traceback (most recent call last)",
      "\u001b[1;32m~\\AppData\\Local\\Temp/ipykernel_18132/2503510090.py\u001b[0m in \u001b[0;36m<module>\u001b[1;34m\u001b[0m\n\u001b[1;32m----> 1\u001b[1;33m \u001b[0mprint\u001b[0m\u001b[1;33m(\u001b[0m\u001b[1;33m[\u001b[0m\u001b[1;34m'Meta Data'\u001b[0m\u001b[1;33m]\u001b[0m\u001b[1;33m[\u001b[0m\u001b[1;36m1\u001b[0m\u001b[1;33m]\u001b[0m\u001b[1;33m)\u001b[0m\u001b[1;33m\u001b[0m\u001b[1;33m\u001b[0m\u001b[0m\n\u001b[0m",
      "\u001b[1;31mIndexError\u001b[0m: list index out of range"
     ]
    }
   ],
   "source": [
    "print(['Meta Data'][1])"
   ]
  },
  {
   "cell_type": "code",
   "execution_count": 4,
   "id": "14eb8a34",
   "metadata": {},
   "outputs": [
    {
     "ename": "SyntaxError",
     "evalue": "invalid syntax (Temp/ipykernel_18132/1607133990.py, line 1)",
     "output_type": "error",
     "traceback": [
      "\u001b[1;36m  File \u001b[1;32m\"C:\\Users\\Juli\\AppData\\Local\\Temp/ipykernel_18132/1607133990.py\"\u001b[1;36m, line \u001b[1;32m1\u001b[0m\n\u001b[1;33m    data.['Meta Data']['1. Information'])\u001b[0m\n\u001b[1;37m         ^\u001b[0m\n\u001b[1;31mSyntaxError\u001b[0m\u001b[1;31m:\u001b[0m invalid syntax\n"
     ]
    }
   ],
   "source": [
    "data.['Meta Data']['1. Information'])"
   ]
  },
  {
   "cell_type": "code",
   "execution_count": 5,
   "id": "1367b7e6",
   "metadata": {},
   "outputs": [
    {
     "ename": "SyntaxError",
     "evalue": "unmatched ')' (Temp/ipykernel_18132/1361629124.py, line 1)",
     "output_type": "error",
     "traceback": [
      "\u001b[1;36m  File \u001b[1;32m\"C:\\Users\\Juli\\AppData\\Local\\Temp/ipykernel_18132/1361629124.py\"\u001b[1;36m, line \u001b[1;32m1\u001b[0m\n\u001b[1;33m    data['Meta Data']['1. Information'])\u001b[0m\n\u001b[1;37m                                       ^\u001b[0m\n\u001b[1;31mSyntaxError\u001b[0m\u001b[1;31m:\u001b[0m unmatched ')'\n"
     ]
    }
   ],
   "source": [
    "data['Meta Data']['1. Information'])"
   ]
  },
  {
   "cell_type": "code",
   "execution_count": 6,
   "id": "c382910d",
   "metadata": {},
   "outputs": [
    {
     "ename": "NameError",
     "evalue": "name 'data' is not defined",
     "output_type": "error",
     "traceback": [
      "\u001b[1;31m---------------------------------------------------------------------------\u001b[0m",
      "\u001b[1;31mNameError\u001b[0m                                 Traceback (most recent call last)",
      "\u001b[1;32m~\\AppData\\Local\\Temp/ipykernel_18132/2088134906.py\u001b[0m in \u001b[0;36m<module>\u001b[1;34m\u001b[0m\n\u001b[1;32m----> 1\u001b[1;33m \u001b[0mdata\u001b[0m\u001b[1;33m[\u001b[0m\u001b[1;34m'Meta Data'\u001b[0m\u001b[1;33m]\u001b[0m\u001b[1;33m[\u001b[0m\u001b[1;34m'1. Information'\u001b[0m\u001b[1;33m]\u001b[0m\u001b[1;33m\u001b[0m\u001b[1;33m\u001b[0m\u001b[0m\n\u001b[0m",
      "\u001b[1;31mNameError\u001b[0m: name 'data' is not defined"
     ]
    }
   ],
   "source": [
    "data['Meta Data']['1. Information']"
   ]
  },
  {
   "cell_type": "code",
   "execution_count": 10,
   "id": "697c62df",
   "metadata": {},
   "outputs": [],
   "source": [
    "import requests\n",
    "\n",
    "# replace the \"demo\" apikey below with your own key from https://www.alphavantage.co/support/#api-key\n",
    "url = 'https://www.alphavantage.co/query?function=TIME_SERIES_INTRADAY&symbol=IBM&interval=5min&apikey=YDD44GRGWQL7FODY'\n",
    "r = requests.get(url)\n",
    "data = r.json()\n",
    "\n"
   ]
  },
  {
   "cell_type": "code",
   "execution_count": 11,
   "id": "729ca59d",
   "metadata": {},
   "outputs": [
    {
     "name": "stdout",
     "output_type": "stream",
     "text": [
      "{'Meta Data': {'1. Information': 'Intraday (5min) open, high, low, close prices and volume', '2. Symbol': 'IBM', '3. Last Refreshed': '2022-06-17 19:35:00', '4. Interval': '5min', '5. Output Size': 'Compact', '6. Time Zone': 'US/Eastern'}, 'Time Series (5min)': {'2022-06-17 19:35:00': {'1. open': '135.4800', '2. high': '135.4800', '3. low': '135.4800', '4. close': '135.4800', '5. volume': '300'}, '2022-06-17 18:45:00': {'1. open': '135.5000', '2. high': '135.5000', '3. low': '135.5000', '4. close': '135.5000', '5. volume': '650'}, '2022-06-17 17:55:00': {'1. open': '135.0200', '2. high': '135.0200', '3. low': '135.0200', '4. close': '135.0200', '5. volume': '3301'}, '2022-06-17 17:35:00': {'1. open': '135.0400', '2. high': '135.0400', '3. low': '135.0400', '4. close': '135.0400', '5. volume': '301'}, '2022-06-17 17:15:00': {'1. open': '135.0400', '2. high': '135.0400', '3. low': '135.0400', '4. close': '135.0400', '5. volume': '400'}, '2022-06-17 17:10:00': {'1. open': '135.0700', '2. high': '135.0700', '3. low': '135.0500', '4. close': '135.0500', '5. volume': '1305'}, '2022-06-17 17:05:00': {'1. open': '135.2699', '2. high': '135.2699', '3. low': '135.2699', '4. close': '135.2699', '5. volume': '100'}, '2022-06-17 17:00:00': {'1. open': '135.1500', '2. high': '135.1500', '3. low': '135.1500', '4. close': '135.1500', '5. volume': '1173'}, '2022-06-17 16:30:00': {'1. open': '135.0200', '2. high': '135.3001', '3. low': '135.0200', '4. close': '135.3000', '5. volume': '6162'}, '2022-06-17 16:25:00': {'1. open': '135.0297', '2. high': '135.3000', '3. low': '135.0103', '4. close': '135.3000', '5. volume': '2944'}, '2022-06-17 16:15:00': {'1. open': '135.0200', '2. high': '135.0200', '3. low': '135.0200', '4. close': '135.0200', '5. volume': '135'}, '2022-06-17 16:10:00': {'1. open': '135.0200', '2. high': '135.0200', '3. low': '135.0200', '4. close': '135.0200', '5. volume': '338869'}, '2022-06-17 16:05:00': {'1. open': '135.0200', '2. high': '135.0200', '3. low': '135.0200', '4. close': '135.0200', '5. volume': '1337873'}, '2022-06-17 16:00:00': {'1. open': '135.1701', '2. high': '135.2950', '3. low': '134.9700', '4. close': '135.0200', '5. volume': '410618'}, '2022-06-17 15:55:00': {'1. open': '135.7700', '2. high': '135.7700', '3. low': '135.1200', '4. close': '135.2200', '5. volume': '188867'}, '2022-06-17 15:50:00': {'1. open': '135.8900', '2. high': '135.9000', '3. low': '135.6650', '4. close': '135.7800', '5. volume': '119475'}, '2022-06-17 15:45:00': {'1. open': '136.1950', '2. high': '136.1950', '3. low': '135.8100', '4. close': '135.9000', '5. volume': '108974'}, '2022-06-17 15:40:00': {'1. open': '136.0253', '2. high': '136.2700', '3. low': '136.0100', '4. close': '136.1900', '5. volume': '107961'}, '2022-06-17 15:35:00': {'1. open': '136.1350', '2. high': '136.1900', '3. low': '135.8100', '4. close': '136.0100', '5. volume': '93531'}, '2022-06-17 15:30:00': {'1. open': '136.0100', '2. high': '136.2600', '3. low': '136.0100', '4. close': '136.1160', '5. volume': '70007'}, '2022-06-17 15:25:00': {'1. open': '135.6050', '2. high': '136.1300', '3. low': '135.5700', '4. close': '136.0400', '5. volume': '70718'}, '2022-06-17 15:20:00': {'1. open': '135.3550', '2. high': '135.6200', '3. low': '135.2750', '4. close': '135.6050', '5. volume': '82171'}, '2022-06-17 15:15:00': {'1. open': '135.7100', '2. high': '135.7200', '3. low': '135.2500', '4. close': '135.3400', '5. volume': '55102'}, '2022-06-17 15:10:00': {'1. open': '135.6900', '2. high': '135.8200', '3. low': '135.5600', '4. close': '135.7100', '5. volume': '50392'}, '2022-06-17 15:05:00': {'1. open': '135.5900', '2. high': '135.8800', '3. low': '135.5800', '4. close': '135.6600', '5. volume': '88377'}, '2022-06-17 15:00:00': {'1. open': '135.9200', '2. high': '135.9800', '3. low': '135.4900', '4. close': '135.5771', '5. volume': '80440'}, '2022-06-17 14:55:00': {'1. open': '136.0650', '2. high': '136.0650', '3. low': '135.7550', '4. close': '135.9300', '5. volume': '78773'}, '2022-06-17 14:50:00': {'1. open': '136.0900', '2. high': '136.1337', '3. low': '135.9600', '4. close': '136.0800', '5. volume': '47953'}, '2022-06-17 14:45:00': {'1. open': '136.0800', '2. high': '136.3900', '3. low': '136.0800', '4. close': '136.1160', '5. volume': '61783'}, '2022-06-17 14:40:00': {'1. open': '135.7000', '2. high': '136.0300', '3. low': '135.6500', '4. close': '136.0300', '5. volume': '42914'}, '2022-06-17 14:35:00': {'1. open': '135.7200', '2. high': '135.7850', '3. low': '135.5100', '4. close': '135.6800', '5. volume': '53868'}, '2022-06-17 14:30:00': {'1. open': '135.8800', '2. high': '135.9800', '3. low': '135.6800', '4. close': '135.7200', '5. volume': '73560'}, '2022-06-17 14:25:00': {'1. open': '135.6700', '2. high': '135.9500', '3. low': '135.6400', '4. close': '135.8600', '5. volume': '43385'}, '2022-06-17 14:20:00': {'1. open': '135.6600', '2. high': '135.9000', '3. low': '135.5400', '4. close': '135.6700', '5. volume': '106467'}, '2022-06-17 14:15:00': {'1. open': '135.4000', '2. high': '135.6557', '3. low': '135.3800', '4. close': '135.6450', '5. volume': '43818'}, '2022-06-17 14:10:00': {'1. open': '135.1800', '2. high': '135.4300', '3. low': '135.1200', '4. close': '135.4150', '5. volume': '44562'}, '2022-06-17 14:05:00': {'1. open': '135.0650', '2. high': '135.2599', '3. low': '134.9800', '4. close': '135.2041', '5. volume': '54036'}, '2022-06-17 14:00:00': {'1. open': '134.8100', '2. high': '135.1597', '3. low': '134.8100', '4. close': '135.0393', '5. volume': '30698'}, '2022-06-17 13:55:00': {'1. open': '134.7100', '2. high': '134.9500', '3. low': '134.6800', '4. close': '134.8400', '5. volume': '28142'}, '2022-06-17 13:50:00': {'1. open': '134.7700', '2. high': '134.8161', '3. low': '134.4500', '4. close': '134.6700', '5. volume': '25742'}, '2022-06-17 13:45:00': {'1. open': '134.6500', '2. high': '134.8500', '3. low': '134.6100', '4. close': '134.7800', '5. volume': '23435'}, '2022-06-17 13:40:00': {'1. open': '134.7300', '2. high': '134.8600', '3. low': '134.5900', '4. close': '134.6300', '5. volume': '26807'}, '2022-06-17 13:35:00': {'1. open': '134.7700', '2. high': '134.8300', '3. low': '134.5400', '4. close': '134.7600', '5. volume': '26329'}, '2022-06-17 13:30:00': {'1. open': '134.8700', '2. high': '134.8700', '3. low': '134.6400', '4. close': '134.7700', '5. volume': '35223'}, '2022-06-17 13:25:00': {'1. open': '134.8500', '2. high': '134.9000', '3. low': '134.6800', '4. close': '134.8950', '5. volume': '33539'}, '2022-06-17 13:20:00': {'1. open': '134.9300', '2. high': '134.9610', '3. low': '134.7500', '4. close': '134.8559', '5. volume': '36800'}, '2022-06-17 13:15:00': {'1. open': '134.8600', '2. high': '135.0750', '3. low': '134.7700', '4. close': '134.9596', '5. volume': '35570'}, '2022-06-17 13:10:00': {'1. open': '134.4500', '2. high': '134.9000', '3. low': '134.4300', '4. close': '134.8900', '5. volume': '47374'}, '2022-06-17 13:05:00': {'1. open': '134.1500', '2. high': '134.4500', '3. low': '134.1000', '4. close': '134.4400', '5. volume': '30265'}, '2022-06-17 13:00:00': {'1. open': '133.8500', '2. high': '134.1300', '3. low': '133.8200', '4. close': '134.1300', '5. volume': '34507'}, '2022-06-17 12:55:00': {'1. open': '133.9600', '2. high': '133.9800', '3. low': '133.7300', '4. close': '133.8400', '5. volume': '55198'}, '2022-06-17 12:50:00': {'1. open': '134.0200', '2. high': '134.0500', '3. low': '133.8631', '4. close': '133.9750', '5. volume': '33025'}, '2022-06-17 12:45:00': {'1. open': '134.0700', '2. high': '134.1800', '3. low': '133.7800', '4. close': '133.9800', '5. volume': '40269'}, '2022-06-17 12:40:00': {'1. open': '133.9700', '2. high': '134.0700', '3. low': '133.7500', '4. close': '134.0450', '5. volume': '39584'}, '2022-06-17 12:35:00': {'1. open': '134.2100', '2. high': '134.2400', '3. low': '133.9200', '4. close': '133.9500', '5. volume': '48850'}, '2022-06-17 12:30:00': {'1. open': '134.1100', '2. high': '134.2800', '3. low': '134.0200', '4. close': '134.1800', '5. volume': '30651'}, '2022-06-17 12:25:00': {'1. open': '133.9086', '2. high': '134.1400', '3. low': '133.8500', '4. close': '134.1200', '5. volume': '31232'}, '2022-06-17 12:20:00': {'1. open': '134.0400', '2. high': '134.1900', '3. low': '133.8100', '4. close': '133.8900', '5. volume': '36472'}, '2022-06-17 12:15:00': {'1. open': '133.6800', '2. high': '134.0300', '3. low': '133.5800', '4. close': '134.0100', '5. volume': '31068'}, '2022-06-17 12:10:00': {'1. open': '133.6500', '2. high': '133.8000', '3. low': '133.4500', '4. close': '133.6700', '5. volume': '33506'}, '2022-06-17 12:05:00': {'1. open': '133.5900', '2. high': '133.6000', '3. low': '133.4000', '4. close': '133.5900', '5. volume': '38808'}, '2022-06-17 12:00:00': {'1. open': '133.5500', '2. high': '133.7300', '3. low': '133.4400', '4. close': '133.6200', '5. volume': '48586'}, '2022-06-17 11:55:00': {'1. open': '133.9200', '2. high': '134.0050', '3. low': '133.4600', '4. close': '133.5500', '5. volume': '57818'}, '2022-06-17 11:50:00': {'1. open': '134.1500', '2. high': '134.1600', '3. low': '133.8700', '4. close': '133.9400', '5. volume': '49174'}, '2022-06-17 11:45:00': {'1. open': '134.4200', '2. high': '134.4900', '3. low': '134.2200', '4. close': '134.2290', '5. volume': '37253'}, '2022-06-17 11:40:00': {'1. open': '134.5700', '2. high': '134.6100', '3. low': '134.2000', '4. close': '134.4000', '5. volume': '36297'}, '2022-06-17 11:35:00': {'1. open': '134.3700', '2. high': '134.7600', '3. low': '134.3500', '4. close': '134.5800', '5. volume': '48270'}, '2022-06-17 11:30:00': {'1. open': '134.0000', '2. high': '134.3900', '3. low': '133.8491', '4. close': '134.3301', '5. volume': '41195'}, '2022-06-17 11:25:00': {'1. open': '134.3282', '2. high': '134.3650', '3. low': '133.9450', '4. close': '134.0100', '5. volume': '39876'}, '2022-06-17 11:20:00': {'1. open': '134.0800', '2. high': '134.4400', '3. low': '134.0300', '4. close': '134.3300', '5. volume': '45482'}, '2022-06-17 11:15:00': {'1. open': '133.9850', '2. high': '134.1100', '3. low': '133.8800', '4. close': '134.0800', '5. volume': '39032'}, '2022-06-17 11:10:00': {'1. open': '133.6850', '2. high': '134.0700', '3. low': '133.6850', '4. close': '133.9500', '5. volume': '53616'}, '2022-06-17 11:05:00': {'1. open': '133.3000', '2. high': '133.8500', '3. low': '133.1750', '4. close': '133.7400', '5. volume': '48661'}, '2022-06-17 11:00:00': {'1. open': '133.4000', '2. high': '133.5164', '3. low': '133.2100', '4. close': '133.3200', '5. volume': '65861'}, '2022-06-17 10:55:00': {'1. open': '133.2750', '2. high': '133.4300', '3. low': '133.1800', '4. close': '133.3900', '5. volume': '51073'}, '2022-06-17 10:50:00': {'1. open': '133.4900', '2. high': '133.6600', '3. low': '132.9400', '4. close': '133.2550', '5. volume': '55002'}, '2022-06-17 10:45:00': {'1. open': '133.2600', '2. high': '133.4900', '3. low': '132.8500', '4. close': '133.4900', '5. volume': '138285'}, '2022-06-17 10:40:00': {'1. open': '133.8800', '2. high': '133.9100', '3. low': '133.2500', '4. close': '133.2700', '5. volume': '109784'}, '2022-06-17 10:35:00': {'1. open': '134.3850', '2. high': '134.4600', '3. low': '133.8800', '4. close': '133.8800', '5. volume': '57660'}, '2022-06-17 10:30:00': {'1. open': '134.5800', '2. high': '134.6800', '3. low': '134.2600', '4. close': '134.4000', '5. volume': '69296'}, '2022-06-17 10:25:00': {'1. open': '134.9900', '2. high': '134.9900', '3. low': '134.5100', '4. close': '134.6000', '5. volume': '49106'}, '2022-06-17 10:20:00': {'1. open': '135.3300', '2. high': '135.3500', '3. low': '134.9500', '4. close': '135.0100', '5. volume': '51887'}, '2022-06-17 10:15:00': {'1. open': '135.6550', '2. high': '135.6900', '3. low': '135.3300', '4. close': '135.3300', '5. volume': '30787'}, '2022-06-17 10:10:00': {'1. open': '135.6500', '2. high': '135.7100', '3. low': '135.4600', '4. close': '135.6000', '5. volume': '48457'}, '2022-06-17 10:05:00': {'1. open': '135.9650', '2. high': '136.1600', '3. low': '135.5632', '4. close': '135.6300', '5. volume': '62539'}, '2022-06-17 10:00:00': {'1. open': '136.6600', '2. high': '136.7200', '3. low': '135.9437', '4. close': '135.9650', '5. volume': '48165'}, '2022-06-17 09:55:00': {'1. open': '136.3600', '2. high': '136.7700', '3. low': '136.0600', '4. close': '136.6700', '5. volume': '62242'}, '2022-06-17 09:50:00': {'1. open': '136.7879', '2. high': '136.9300', '3. low': '136.2910', '4. close': '136.3800', '5. volume': '72909'}, '2022-06-17 09:45:00': {'1. open': '136.5300', '2. high': '136.9800', '3. low': '136.5300', '4. close': '136.8100', '5. volume': '42176'}, '2022-06-17 09:40:00': {'1. open': '136.7700', '2. high': '136.8100', '3. low': '136.3729', '4. close': '136.5100', '5. volume': '55156'}, '2022-06-17 09:35:00': {'1. open': '135.9900', '2. high': '136.8400', '3. low': '135.7700', '4. close': '136.7851', '5. volume': '977182'}, '2022-06-17 09:30:00': {'1. open': '135.7300', '2. high': '135.9800', '3. low': '135.7300', '4. close': '135.9800', '5. volume': '1273'}, '2022-06-17 09:15:00': {'1. open': '135.5000', '2. high': '135.5000', '3. low': '135.5000', '4. close': '135.5000', '5. volume': '270'}, '2022-06-17 09:05:00': {'1. open': '135.5097', '2. high': '135.5097', '3. low': '135.5097', '4. close': '135.5097', '5. volume': '500'}, '2022-06-17 09:00:00': {'1. open': '135.7400', '2. high': '136.2500', '3. low': '135.7400', '4. close': '136.2500', '5. volume': '827'}, '2022-06-17 08:45:00': {'1. open': '136.0000', '2. high': '136.0000', '3. low': '135.7400', '4. close': '135.7400', '5. volume': '827'}, '2022-06-17 08:35:00': {'1. open': '136.2500', '2. high': '136.2500', '3. low': '136.2499', '4. close': '136.2499', '5. volume': '454'}, '2022-06-17 08:30:00': {'1. open': '136.2499', '2. high': '136.2499', '3. low': '136.2499', '4. close': '136.2499', '5. volume': '105'}, '2022-06-17 08:20:00': {'1. open': '136.2500', '2. high': '136.2500', '3. low': '136.2500', '4. close': '136.2500', '5. volume': '173'}, '2022-06-17 08:10:00': {'1. open': '136.2500', '2. high': '136.2500', '3. low': '136.2500', '4. close': '136.2500', '5. volume': '100'}}}\n"
     ]
    }
   ],
   "source": [
    "print(data)"
   ]
  },
  {
   "cell_type": "code",
   "execution_count": 12,
   "id": "be4b02cf",
   "metadata": {},
   "outputs": [
    {
     "data": {
      "text/plain": [
       "'Intraday (5min) open, high, low, close prices and volume'"
      ]
     },
     "execution_count": 12,
     "metadata": {},
     "output_type": "execute_result"
    }
   ],
   "source": [
    "data['Meta Data']['1. Information']"
   ]
  },
  {
   "cell_type": "code",
   "execution_count": 13,
   "id": "5f3cf160",
   "metadata": {},
   "outputs": [
    {
     "ename": "TypeError",
     "evalue": "string indices must be integers",
     "output_type": "error",
     "traceback": [
      "\u001b[1;31m---------------------------------------------------------------------------\u001b[0m",
      "\u001b[1;31mTypeError\u001b[0m                                 Traceback (most recent call last)",
      "\u001b[1;32m~\\AppData\\Local\\Temp/ipykernel_18132/1422166109.py\u001b[0m in \u001b[0;36m<module>\u001b[1;34m\u001b[0m\n\u001b[1;32m----> 1\u001b[1;33m \u001b[0mdata\u001b[0m\u001b[1;33m[\u001b[0m\u001b[1;34m'Meta Data'\u001b[0m\u001b[1;33m]\u001b[0m\u001b[1;33m[\u001b[0m\u001b[1;34m'1. Information'\u001b[0m\u001b[1;33m]\u001b[0m\u001b[1;33m[\u001b[0m\u001b[1;34m'2. Symbol'\u001b[0m\u001b[1;33m]\u001b[0m\u001b[1;33m\u001b[0m\u001b[1;33m\u001b[0m\u001b[0m\n\u001b[0m",
      "\u001b[1;31mTypeError\u001b[0m: string indices must be integers"
     ]
    }
   ],
   "source": [
    "data['Meta Data']['1. Information']['2. Symbol']"
   ]
  },
  {
   "cell_type": "code",
   "execution_count": 14,
   "id": "3edc08c0",
   "metadata": {},
   "outputs": [
    {
     "data": {
      "text/plain": [
       "{'1. Information': 'Intraday (5min) open, high, low, close prices and volume',\n",
       " '2. Symbol': 'IBM',\n",
       " '3. Last Refreshed': '2022-06-17 19:35:00',\n",
       " '4. Interval': '5min',\n",
       " '5. Output Size': 'Compact',\n",
       " '6. Time Zone': 'US/Eastern'}"
      ]
     },
     "execution_count": 14,
     "metadata": {},
     "output_type": "execute_result"
    }
   ],
   "source": [
    "data['Meta Data']"
   ]
  },
  {
   "cell_type": "code",
   "execution_count": 15,
   "id": "8691f845",
   "metadata": {},
   "outputs": [
    {
     "data": {
      "text/plain": [
       "{'2022-06-17 19:35:00': {'1. open': '135.4800',\n",
       "  '2. high': '135.4800',\n",
       "  '3. low': '135.4800',\n",
       "  '4. close': '135.4800',\n",
       "  '5. volume': '300'},\n",
       " '2022-06-17 18:45:00': {'1. open': '135.5000',\n",
       "  '2. high': '135.5000',\n",
       "  '3. low': '135.5000',\n",
       "  '4. close': '135.5000',\n",
       "  '5. volume': '650'},\n",
       " '2022-06-17 17:55:00': {'1. open': '135.0200',\n",
       "  '2. high': '135.0200',\n",
       "  '3. low': '135.0200',\n",
       "  '4. close': '135.0200',\n",
       "  '5. volume': '3301'},\n",
       " '2022-06-17 17:35:00': {'1. open': '135.0400',\n",
       "  '2. high': '135.0400',\n",
       "  '3. low': '135.0400',\n",
       "  '4. close': '135.0400',\n",
       "  '5. volume': '301'},\n",
       " '2022-06-17 17:15:00': {'1. open': '135.0400',\n",
       "  '2. high': '135.0400',\n",
       "  '3. low': '135.0400',\n",
       "  '4. close': '135.0400',\n",
       "  '5. volume': '400'},\n",
       " '2022-06-17 17:10:00': {'1. open': '135.0700',\n",
       "  '2. high': '135.0700',\n",
       "  '3. low': '135.0500',\n",
       "  '4. close': '135.0500',\n",
       "  '5. volume': '1305'},\n",
       " '2022-06-17 17:05:00': {'1. open': '135.2699',\n",
       "  '2. high': '135.2699',\n",
       "  '3. low': '135.2699',\n",
       "  '4. close': '135.2699',\n",
       "  '5. volume': '100'},\n",
       " '2022-06-17 17:00:00': {'1. open': '135.1500',\n",
       "  '2. high': '135.1500',\n",
       "  '3. low': '135.1500',\n",
       "  '4. close': '135.1500',\n",
       "  '5. volume': '1173'},\n",
       " '2022-06-17 16:30:00': {'1. open': '135.0200',\n",
       "  '2. high': '135.3001',\n",
       "  '3. low': '135.0200',\n",
       "  '4. close': '135.3000',\n",
       "  '5. volume': '6162'},\n",
       " '2022-06-17 16:25:00': {'1. open': '135.0297',\n",
       "  '2. high': '135.3000',\n",
       "  '3. low': '135.0103',\n",
       "  '4. close': '135.3000',\n",
       "  '5. volume': '2944'},\n",
       " '2022-06-17 16:15:00': {'1. open': '135.0200',\n",
       "  '2. high': '135.0200',\n",
       "  '3. low': '135.0200',\n",
       "  '4. close': '135.0200',\n",
       "  '5. volume': '135'},\n",
       " '2022-06-17 16:10:00': {'1. open': '135.0200',\n",
       "  '2. high': '135.0200',\n",
       "  '3. low': '135.0200',\n",
       "  '4. close': '135.0200',\n",
       "  '5. volume': '338869'},\n",
       " '2022-06-17 16:05:00': {'1. open': '135.0200',\n",
       "  '2. high': '135.0200',\n",
       "  '3. low': '135.0200',\n",
       "  '4. close': '135.0200',\n",
       "  '5. volume': '1337873'},\n",
       " '2022-06-17 16:00:00': {'1. open': '135.1701',\n",
       "  '2. high': '135.2950',\n",
       "  '3. low': '134.9700',\n",
       "  '4. close': '135.0200',\n",
       "  '5. volume': '410618'},\n",
       " '2022-06-17 15:55:00': {'1. open': '135.7700',\n",
       "  '2. high': '135.7700',\n",
       "  '3. low': '135.1200',\n",
       "  '4. close': '135.2200',\n",
       "  '5. volume': '188867'},\n",
       " '2022-06-17 15:50:00': {'1. open': '135.8900',\n",
       "  '2. high': '135.9000',\n",
       "  '3. low': '135.6650',\n",
       "  '4. close': '135.7800',\n",
       "  '5. volume': '119475'},\n",
       " '2022-06-17 15:45:00': {'1. open': '136.1950',\n",
       "  '2. high': '136.1950',\n",
       "  '3. low': '135.8100',\n",
       "  '4. close': '135.9000',\n",
       "  '5. volume': '108974'},\n",
       " '2022-06-17 15:40:00': {'1. open': '136.0253',\n",
       "  '2. high': '136.2700',\n",
       "  '3. low': '136.0100',\n",
       "  '4. close': '136.1900',\n",
       "  '5. volume': '107961'},\n",
       " '2022-06-17 15:35:00': {'1. open': '136.1350',\n",
       "  '2. high': '136.1900',\n",
       "  '3. low': '135.8100',\n",
       "  '4. close': '136.0100',\n",
       "  '5. volume': '93531'},\n",
       " '2022-06-17 15:30:00': {'1. open': '136.0100',\n",
       "  '2. high': '136.2600',\n",
       "  '3. low': '136.0100',\n",
       "  '4. close': '136.1160',\n",
       "  '5. volume': '70007'},\n",
       " '2022-06-17 15:25:00': {'1. open': '135.6050',\n",
       "  '2. high': '136.1300',\n",
       "  '3. low': '135.5700',\n",
       "  '4. close': '136.0400',\n",
       "  '5. volume': '70718'},\n",
       " '2022-06-17 15:20:00': {'1. open': '135.3550',\n",
       "  '2. high': '135.6200',\n",
       "  '3. low': '135.2750',\n",
       "  '4. close': '135.6050',\n",
       "  '5. volume': '82171'},\n",
       " '2022-06-17 15:15:00': {'1. open': '135.7100',\n",
       "  '2. high': '135.7200',\n",
       "  '3. low': '135.2500',\n",
       "  '4. close': '135.3400',\n",
       "  '5. volume': '55102'},\n",
       " '2022-06-17 15:10:00': {'1. open': '135.6900',\n",
       "  '2. high': '135.8200',\n",
       "  '3. low': '135.5600',\n",
       "  '4. close': '135.7100',\n",
       "  '5. volume': '50392'},\n",
       " '2022-06-17 15:05:00': {'1. open': '135.5900',\n",
       "  '2. high': '135.8800',\n",
       "  '3. low': '135.5800',\n",
       "  '4. close': '135.6600',\n",
       "  '5. volume': '88377'},\n",
       " '2022-06-17 15:00:00': {'1. open': '135.9200',\n",
       "  '2. high': '135.9800',\n",
       "  '3. low': '135.4900',\n",
       "  '4. close': '135.5771',\n",
       "  '5. volume': '80440'},\n",
       " '2022-06-17 14:55:00': {'1. open': '136.0650',\n",
       "  '2. high': '136.0650',\n",
       "  '3. low': '135.7550',\n",
       "  '4. close': '135.9300',\n",
       "  '5. volume': '78773'},\n",
       " '2022-06-17 14:50:00': {'1. open': '136.0900',\n",
       "  '2. high': '136.1337',\n",
       "  '3. low': '135.9600',\n",
       "  '4. close': '136.0800',\n",
       "  '5. volume': '47953'},\n",
       " '2022-06-17 14:45:00': {'1. open': '136.0800',\n",
       "  '2. high': '136.3900',\n",
       "  '3. low': '136.0800',\n",
       "  '4. close': '136.1160',\n",
       "  '5. volume': '61783'},\n",
       " '2022-06-17 14:40:00': {'1. open': '135.7000',\n",
       "  '2. high': '136.0300',\n",
       "  '3. low': '135.6500',\n",
       "  '4. close': '136.0300',\n",
       "  '5. volume': '42914'},\n",
       " '2022-06-17 14:35:00': {'1. open': '135.7200',\n",
       "  '2. high': '135.7850',\n",
       "  '3. low': '135.5100',\n",
       "  '4. close': '135.6800',\n",
       "  '5. volume': '53868'},\n",
       " '2022-06-17 14:30:00': {'1. open': '135.8800',\n",
       "  '2. high': '135.9800',\n",
       "  '3. low': '135.6800',\n",
       "  '4. close': '135.7200',\n",
       "  '5. volume': '73560'},\n",
       " '2022-06-17 14:25:00': {'1. open': '135.6700',\n",
       "  '2. high': '135.9500',\n",
       "  '3. low': '135.6400',\n",
       "  '4. close': '135.8600',\n",
       "  '5. volume': '43385'},\n",
       " '2022-06-17 14:20:00': {'1. open': '135.6600',\n",
       "  '2. high': '135.9000',\n",
       "  '3. low': '135.5400',\n",
       "  '4. close': '135.6700',\n",
       "  '5. volume': '106467'},\n",
       " '2022-06-17 14:15:00': {'1. open': '135.4000',\n",
       "  '2. high': '135.6557',\n",
       "  '3. low': '135.3800',\n",
       "  '4. close': '135.6450',\n",
       "  '5. volume': '43818'},\n",
       " '2022-06-17 14:10:00': {'1. open': '135.1800',\n",
       "  '2. high': '135.4300',\n",
       "  '3. low': '135.1200',\n",
       "  '4. close': '135.4150',\n",
       "  '5. volume': '44562'},\n",
       " '2022-06-17 14:05:00': {'1. open': '135.0650',\n",
       "  '2. high': '135.2599',\n",
       "  '3. low': '134.9800',\n",
       "  '4. close': '135.2041',\n",
       "  '5. volume': '54036'},\n",
       " '2022-06-17 14:00:00': {'1. open': '134.8100',\n",
       "  '2. high': '135.1597',\n",
       "  '3. low': '134.8100',\n",
       "  '4. close': '135.0393',\n",
       "  '5. volume': '30698'},\n",
       " '2022-06-17 13:55:00': {'1. open': '134.7100',\n",
       "  '2. high': '134.9500',\n",
       "  '3. low': '134.6800',\n",
       "  '4. close': '134.8400',\n",
       "  '5. volume': '28142'},\n",
       " '2022-06-17 13:50:00': {'1. open': '134.7700',\n",
       "  '2. high': '134.8161',\n",
       "  '3. low': '134.4500',\n",
       "  '4. close': '134.6700',\n",
       "  '5. volume': '25742'},\n",
       " '2022-06-17 13:45:00': {'1. open': '134.6500',\n",
       "  '2. high': '134.8500',\n",
       "  '3. low': '134.6100',\n",
       "  '4. close': '134.7800',\n",
       "  '5. volume': '23435'},\n",
       " '2022-06-17 13:40:00': {'1. open': '134.7300',\n",
       "  '2. high': '134.8600',\n",
       "  '3. low': '134.5900',\n",
       "  '4. close': '134.6300',\n",
       "  '5. volume': '26807'},\n",
       " '2022-06-17 13:35:00': {'1. open': '134.7700',\n",
       "  '2. high': '134.8300',\n",
       "  '3. low': '134.5400',\n",
       "  '4. close': '134.7600',\n",
       "  '5. volume': '26329'},\n",
       " '2022-06-17 13:30:00': {'1. open': '134.8700',\n",
       "  '2. high': '134.8700',\n",
       "  '3. low': '134.6400',\n",
       "  '4. close': '134.7700',\n",
       "  '5. volume': '35223'},\n",
       " '2022-06-17 13:25:00': {'1. open': '134.8500',\n",
       "  '2. high': '134.9000',\n",
       "  '3. low': '134.6800',\n",
       "  '4. close': '134.8950',\n",
       "  '5. volume': '33539'},\n",
       " '2022-06-17 13:20:00': {'1. open': '134.9300',\n",
       "  '2. high': '134.9610',\n",
       "  '3. low': '134.7500',\n",
       "  '4. close': '134.8559',\n",
       "  '5. volume': '36800'},\n",
       " '2022-06-17 13:15:00': {'1. open': '134.8600',\n",
       "  '2. high': '135.0750',\n",
       "  '3. low': '134.7700',\n",
       "  '4. close': '134.9596',\n",
       "  '5. volume': '35570'},\n",
       " '2022-06-17 13:10:00': {'1. open': '134.4500',\n",
       "  '2. high': '134.9000',\n",
       "  '3. low': '134.4300',\n",
       "  '4. close': '134.8900',\n",
       "  '5. volume': '47374'},\n",
       " '2022-06-17 13:05:00': {'1. open': '134.1500',\n",
       "  '2. high': '134.4500',\n",
       "  '3. low': '134.1000',\n",
       "  '4. close': '134.4400',\n",
       "  '5. volume': '30265'},\n",
       " '2022-06-17 13:00:00': {'1. open': '133.8500',\n",
       "  '2. high': '134.1300',\n",
       "  '3. low': '133.8200',\n",
       "  '4. close': '134.1300',\n",
       "  '5. volume': '34507'},\n",
       " '2022-06-17 12:55:00': {'1. open': '133.9600',\n",
       "  '2. high': '133.9800',\n",
       "  '3. low': '133.7300',\n",
       "  '4. close': '133.8400',\n",
       "  '5. volume': '55198'},\n",
       " '2022-06-17 12:50:00': {'1. open': '134.0200',\n",
       "  '2. high': '134.0500',\n",
       "  '3. low': '133.8631',\n",
       "  '4. close': '133.9750',\n",
       "  '5. volume': '33025'},\n",
       " '2022-06-17 12:45:00': {'1. open': '134.0700',\n",
       "  '2. high': '134.1800',\n",
       "  '3. low': '133.7800',\n",
       "  '4. close': '133.9800',\n",
       "  '5. volume': '40269'},\n",
       " '2022-06-17 12:40:00': {'1. open': '133.9700',\n",
       "  '2. high': '134.0700',\n",
       "  '3. low': '133.7500',\n",
       "  '4. close': '134.0450',\n",
       "  '5. volume': '39584'},\n",
       " '2022-06-17 12:35:00': {'1. open': '134.2100',\n",
       "  '2. high': '134.2400',\n",
       "  '3. low': '133.9200',\n",
       "  '4. close': '133.9500',\n",
       "  '5. volume': '48850'},\n",
       " '2022-06-17 12:30:00': {'1. open': '134.1100',\n",
       "  '2. high': '134.2800',\n",
       "  '3. low': '134.0200',\n",
       "  '4. close': '134.1800',\n",
       "  '5. volume': '30651'},\n",
       " '2022-06-17 12:25:00': {'1. open': '133.9086',\n",
       "  '2. high': '134.1400',\n",
       "  '3. low': '133.8500',\n",
       "  '4. close': '134.1200',\n",
       "  '5. volume': '31232'},\n",
       " '2022-06-17 12:20:00': {'1. open': '134.0400',\n",
       "  '2. high': '134.1900',\n",
       "  '3. low': '133.8100',\n",
       "  '4. close': '133.8900',\n",
       "  '5. volume': '36472'},\n",
       " '2022-06-17 12:15:00': {'1. open': '133.6800',\n",
       "  '2. high': '134.0300',\n",
       "  '3. low': '133.5800',\n",
       "  '4. close': '134.0100',\n",
       "  '5. volume': '31068'},\n",
       " '2022-06-17 12:10:00': {'1. open': '133.6500',\n",
       "  '2. high': '133.8000',\n",
       "  '3. low': '133.4500',\n",
       "  '4. close': '133.6700',\n",
       "  '5. volume': '33506'},\n",
       " '2022-06-17 12:05:00': {'1. open': '133.5900',\n",
       "  '2. high': '133.6000',\n",
       "  '3. low': '133.4000',\n",
       "  '4. close': '133.5900',\n",
       "  '5. volume': '38808'},\n",
       " '2022-06-17 12:00:00': {'1. open': '133.5500',\n",
       "  '2. high': '133.7300',\n",
       "  '3. low': '133.4400',\n",
       "  '4. close': '133.6200',\n",
       "  '5. volume': '48586'},\n",
       " '2022-06-17 11:55:00': {'1. open': '133.9200',\n",
       "  '2. high': '134.0050',\n",
       "  '3. low': '133.4600',\n",
       "  '4. close': '133.5500',\n",
       "  '5. volume': '57818'},\n",
       " '2022-06-17 11:50:00': {'1. open': '134.1500',\n",
       "  '2. high': '134.1600',\n",
       "  '3. low': '133.8700',\n",
       "  '4. close': '133.9400',\n",
       "  '5. volume': '49174'},\n",
       " '2022-06-17 11:45:00': {'1. open': '134.4200',\n",
       "  '2. high': '134.4900',\n",
       "  '3. low': '134.2200',\n",
       "  '4. close': '134.2290',\n",
       "  '5. volume': '37253'},\n",
       " '2022-06-17 11:40:00': {'1. open': '134.5700',\n",
       "  '2. high': '134.6100',\n",
       "  '3. low': '134.2000',\n",
       "  '4. close': '134.4000',\n",
       "  '5. volume': '36297'},\n",
       " '2022-06-17 11:35:00': {'1. open': '134.3700',\n",
       "  '2. high': '134.7600',\n",
       "  '3. low': '134.3500',\n",
       "  '4. close': '134.5800',\n",
       "  '5. volume': '48270'},\n",
       " '2022-06-17 11:30:00': {'1. open': '134.0000',\n",
       "  '2. high': '134.3900',\n",
       "  '3. low': '133.8491',\n",
       "  '4. close': '134.3301',\n",
       "  '5. volume': '41195'},\n",
       " '2022-06-17 11:25:00': {'1. open': '134.3282',\n",
       "  '2. high': '134.3650',\n",
       "  '3. low': '133.9450',\n",
       "  '4. close': '134.0100',\n",
       "  '5. volume': '39876'},\n",
       " '2022-06-17 11:20:00': {'1. open': '134.0800',\n",
       "  '2. high': '134.4400',\n",
       "  '3. low': '134.0300',\n",
       "  '4. close': '134.3300',\n",
       "  '5. volume': '45482'},\n",
       " '2022-06-17 11:15:00': {'1. open': '133.9850',\n",
       "  '2. high': '134.1100',\n",
       "  '3. low': '133.8800',\n",
       "  '4. close': '134.0800',\n",
       "  '5. volume': '39032'},\n",
       " '2022-06-17 11:10:00': {'1. open': '133.6850',\n",
       "  '2. high': '134.0700',\n",
       "  '3. low': '133.6850',\n",
       "  '4. close': '133.9500',\n",
       "  '5. volume': '53616'},\n",
       " '2022-06-17 11:05:00': {'1. open': '133.3000',\n",
       "  '2. high': '133.8500',\n",
       "  '3. low': '133.1750',\n",
       "  '4. close': '133.7400',\n",
       "  '5. volume': '48661'},\n",
       " '2022-06-17 11:00:00': {'1. open': '133.4000',\n",
       "  '2. high': '133.5164',\n",
       "  '3. low': '133.2100',\n",
       "  '4. close': '133.3200',\n",
       "  '5. volume': '65861'},\n",
       " '2022-06-17 10:55:00': {'1. open': '133.2750',\n",
       "  '2. high': '133.4300',\n",
       "  '3. low': '133.1800',\n",
       "  '4. close': '133.3900',\n",
       "  '5. volume': '51073'},\n",
       " '2022-06-17 10:50:00': {'1. open': '133.4900',\n",
       "  '2. high': '133.6600',\n",
       "  '3. low': '132.9400',\n",
       "  '4. close': '133.2550',\n",
       "  '5. volume': '55002'},\n",
       " '2022-06-17 10:45:00': {'1. open': '133.2600',\n",
       "  '2. high': '133.4900',\n",
       "  '3. low': '132.8500',\n",
       "  '4. close': '133.4900',\n",
       "  '5. volume': '138285'},\n",
       " '2022-06-17 10:40:00': {'1. open': '133.8800',\n",
       "  '2. high': '133.9100',\n",
       "  '3. low': '133.2500',\n",
       "  '4. close': '133.2700',\n",
       "  '5. volume': '109784'},\n",
       " '2022-06-17 10:35:00': {'1. open': '134.3850',\n",
       "  '2. high': '134.4600',\n",
       "  '3. low': '133.8800',\n",
       "  '4. close': '133.8800',\n",
       "  '5. volume': '57660'},\n",
       " '2022-06-17 10:30:00': {'1. open': '134.5800',\n",
       "  '2. high': '134.6800',\n",
       "  '3. low': '134.2600',\n",
       "  '4. close': '134.4000',\n",
       "  '5. volume': '69296'},\n",
       " '2022-06-17 10:25:00': {'1. open': '134.9900',\n",
       "  '2. high': '134.9900',\n",
       "  '3. low': '134.5100',\n",
       "  '4. close': '134.6000',\n",
       "  '5. volume': '49106'},\n",
       " '2022-06-17 10:20:00': {'1. open': '135.3300',\n",
       "  '2. high': '135.3500',\n",
       "  '3. low': '134.9500',\n",
       "  '4. close': '135.0100',\n",
       "  '5. volume': '51887'},\n",
       " '2022-06-17 10:15:00': {'1. open': '135.6550',\n",
       "  '2. high': '135.6900',\n",
       "  '3. low': '135.3300',\n",
       "  '4. close': '135.3300',\n",
       "  '5. volume': '30787'},\n",
       " '2022-06-17 10:10:00': {'1. open': '135.6500',\n",
       "  '2. high': '135.7100',\n",
       "  '3. low': '135.4600',\n",
       "  '4. close': '135.6000',\n",
       "  '5. volume': '48457'},\n",
       " '2022-06-17 10:05:00': {'1. open': '135.9650',\n",
       "  '2. high': '136.1600',\n",
       "  '3. low': '135.5632',\n",
       "  '4. close': '135.6300',\n",
       "  '5. volume': '62539'},\n",
       " '2022-06-17 10:00:00': {'1. open': '136.6600',\n",
       "  '2. high': '136.7200',\n",
       "  '3. low': '135.9437',\n",
       "  '4. close': '135.9650',\n",
       "  '5. volume': '48165'},\n",
       " '2022-06-17 09:55:00': {'1. open': '136.3600',\n",
       "  '2. high': '136.7700',\n",
       "  '3. low': '136.0600',\n",
       "  '4. close': '136.6700',\n",
       "  '5. volume': '62242'},\n",
       " '2022-06-17 09:50:00': {'1. open': '136.7879',\n",
       "  '2. high': '136.9300',\n",
       "  '3. low': '136.2910',\n",
       "  '4. close': '136.3800',\n",
       "  '5. volume': '72909'},\n",
       " '2022-06-17 09:45:00': {'1. open': '136.5300',\n",
       "  '2. high': '136.9800',\n",
       "  '3. low': '136.5300',\n",
       "  '4. close': '136.8100',\n",
       "  '5. volume': '42176'},\n",
       " '2022-06-17 09:40:00': {'1. open': '136.7700',\n",
       "  '2. high': '136.8100',\n",
       "  '3. low': '136.3729',\n",
       "  '4. close': '136.5100',\n",
       "  '5. volume': '55156'},\n",
       " '2022-06-17 09:35:00': {'1. open': '135.9900',\n",
       "  '2. high': '136.8400',\n",
       "  '3. low': '135.7700',\n",
       "  '4. close': '136.7851',\n",
       "  '5. volume': '977182'},\n",
       " '2022-06-17 09:30:00': {'1. open': '135.7300',\n",
       "  '2. high': '135.9800',\n",
       "  '3. low': '135.7300',\n",
       "  '4. close': '135.9800',\n",
       "  '5. volume': '1273'},\n",
       " '2022-06-17 09:15:00': {'1. open': '135.5000',\n",
       "  '2. high': '135.5000',\n",
       "  '3. low': '135.5000',\n",
       "  '4. close': '135.5000',\n",
       "  '5. volume': '270'},\n",
       " '2022-06-17 09:05:00': {'1. open': '135.5097',\n",
       "  '2. high': '135.5097',\n",
       "  '3. low': '135.5097',\n",
       "  '4. close': '135.5097',\n",
       "  '5. volume': '500'},\n",
       " '2022-06-17 09:00:00': {'1. open': '135.7400',\n",
       "  '2. high': '136.2500',\n",
       "  '3. low': '135.7400',\n",
       "  '4. close': '136.2500',\n",
       "  '5. volume': '827'},\n",
       " '2022-06-17 08:45:00': {'1. open': '136.0000',\n",
       "  '2. high': '136.0000',\n",
       "  '3. low': '135.7400',\n",
       "  '4. close': '135.7400',\n",
       "  '5. volume': '827'},\n",
       " '2022-06-17 08:35:00': {'1. open': '136.2500',\n",
       "  '2. high': '136.2500',\n",
       "  '3. low': '136.2499',\n",
       "  '4. close': '136.2499',\n",
       "  '5. volume': '454'},\n",
       " '2022-06-17 08:30:00': {'1. open': '136.2499',\n",
       "  '2. high': '136.2499',\n",
       "  '3. low': '136.2499',\n",
       "  '4. close': '136.2499',\n",
       "  '5. volume': '105'},\n",
       " '2022-06-17 08:20:00': {'1. open': '136.2500',\n",
       "  '2. high': '136.2500',\n",
       "  '3. low': '136.2500',\n",
       "  '4. close': '136.2500',\n",
       "  '5. volume': '173'},\n",
       " '2022-06-17 08:10:00': {'1. open': '136.2500',\n",
       "  '2. high': '136.2500',\n",
       "  '3. low': '136.2500',\n",
       "  '4. close': '136.2500',\n",
       "  '5. volume': '100'}}"
      ]
     },
     "execution_count": 15,
     "metadata": {},
     "output_type": "execute_result"
    }
   ],
   "source": [
    "data['Time Series (5min)']"
   ]
  },
  {
   "cell_type": "code",
   "execution_count": 16,
   "id": "6b734a32",
   "metadata": {},
   "outputs": [
    {
     "data": {
      "text/plain": [
       "{'1. open': '135.4800',\n",
       " '2. high': '135.4800',\n",
       " '3. low': '135.4800',\n",
       " '4. close': '135.4800',\n",
       " '5. volume': '300'}"
      ]
     },
     "execution_count": 16,
     "metadata": {},
     "output_type": "execute_result"
    }
   ],
   "source": [
    "data['Time Series (5min)']['2022-06-17 19:35:00']"
   ]
  },
  {
   "cell_type": "code",
   "execution_count": null,
   "id": "c0e0feb8",
   "metadata": {},
   "outputs": [],
   "source": []
  }
 ],
 "metadata": {
  "kernelspec": {
   "display_name": "Python 3 (ipykernel)",
   "language": "python",
   "name": "python3"
  },
  "language_info": {
   "codemirror_mode": {
    "name": "ipython",
    "version": 3
   },
   "file_extension": ".py",
   "mimetype": "text/x-python",
   "name": "python",
   "nbconvert_exporter": "python",
   "pygments_lexer": "ipython3",
   "version": "3.9.7"
  }
 },
 "nbformat": 4,
 "nbformat_minor": 5
}
